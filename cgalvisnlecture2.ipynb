{
 "cells": [
  {
   "cell_type": "markdown",
   "metadata": {},
   "source": [
    "# Introduction to Python\n",
    "by Maxwell Margenot\n",
    "\n",
    "Part of the Quantopian Lecture Series:\n",
    "\n",
    "* [www.quantopian.com/lectures](https://www.quantopian.com/lectures)\n",
    "* [github.com/quantopian/research_public](https://github.com/quantopian/research_public)\n",
    "\n",
    "\n",
    "---\n",
    "\n",
    "All of the coding that you will do on the Quantopian platform will be in Python. It is also just a good, jack-of-all-trades language to know! Here we will provide you with the basics so that you can feel confident going through our other lectures and understanding what is happening."
   ]
  },
  {
   "cell_type": "markdown",
   "metadata": {},
   "source": [
    "## Code Comments\n",
    "\n",
    "A comment is a note made by a programmer in the source code of a program. Its purpose is to clarify the source code and make it easier for people to follow along with what is happening. Anything in a comment is generally ignored when the code is actually run, making comments useful for including explanations and reasoning as well as removing specific lines of code that you may be unsure about. Comments in Python are created by using the pound symbol (`# Insert Text Here`). Including a `#` in a line of code will comment out anything that follows it."
   ]
  },
  {
   "cell_type": "code",
   "execution_count": 1,
   "metadata": {},
   "outputs": [],
   "source": [
    "# This is a comment\n",
    "# These lines of code will not change any values\n",
    "# Anything following the first # is not run as code"
   ]
  },
  {
   "cell_type": "code",
   "execution_count": 2,
   "metadata": {},
   "outputs": [],
   "source": [
    "#Esto es un comentario\n",
    "#OwO\n",
    "#UwU"
   ]
  },
  {
   "cell_type": "markdown",
   "metadata": {},
   "source": [
    "You may hear text enclosed in triple quotes (`\"\"\" Insert Text Here \"\"\"`) referred to as multi-line comments, but this is not entirely accurate. This is a special type of `string` (a data type we will cover), called a `docstring`, used to explain the purpose of a function."
   ]
  },
  {
   "cell_type": "code",
   "execution_count": 3,
   "metadata": {},
   "outputs": [
    {
     "data": {
      "text/plain": [
       "' This is a special string '"
      ]
     },
     "execution_count": 3,
     "metadata": {},
     "output_type": "execute_result"
    }
   ],
   "source": [
    "\"\"\" This is a special string \"\"\""
   ]
  },
  {
   "cell_type": "code",
   "execution_count": 4,
   "metadata": {},
   "outputs": [
    {
     "data": {
      "text/plain": [
       "'\"En un lugar de la Mancha, de cuyo nombre no quiero acordarme,\\nno ha mucho tiempo que vivía un hidalgo de los de lanza en astillero,\\nadarga antigua, rocín flaco y galgo corredor...'"
      ]
     },
     "execution_count": 4,
     "metadata": {},
     "output_type": "execute_result"
    }
   ],
   "source": [
    "\"\"\"\"En un lugar de la Mancha, de cuyo nombre no quiero acordarme,\n",
    "no ha mucho tiempo que vivía un hidalgo de los de lanza en astillero,\n",
    "adarga antigua, rocín flaco y galgo corredor...\"\"\""
   ]
  },
  {
   "cell_type": "markdown",
   "metadata": {},
   "source": [
    "Make sure you read the comments within each code cell (if they are there). They will provide more real-time explanations of what is going on as you look at each line of code."
   ]
  },
  {
   "cell_type": "markdown",
   "metadata": {},
   "source": [
    "## Variables\n",
    "\n",
    "Variables provide names for values in programming. If you want to save a value for later or repeated use, you give the value a name, storing the contents in a variable. Variables in programming work in a fundamentally similar way to variables in algebra, but in Python they can take on various different data types.\n",
    "\n",
    "The basic variable types that we will cover in this section are `integers`, `floating point numbers`, `booleans`, and `strings`. \n",
    "\n",
    "An `integer` in programming is the same as in mathematics, a round number with no values after the decimal point. We use the built-in `print` function here to display the values of our variables as well as their types!"
   ]
  },
  {
   "cell_type": "code",
   "execution_count": 5,
   "metadata": {},
   "outputs": [
    {
     "name": "stdout",
     "output_type": "stream",
     "text": [
      "50 <class 'int'>\n"
     ]
    }
   ],
   "source": [
    "my_integer = 50\n",
    "print my_integer, type(my_integer)"
   ]
  },
  {
   "cell_type": "code",
   "execution_count": 6,
   "metadata": {},
   "outputs": [
    {
     "name": "stdout",
     "output_type": "stream",
     "text": [
      "5134 <class 'int'>\n"
     ]
    }
   ],
   "source": [
    "my_integer2 = 5134\n",
    "print my_integer2, type(my_integer2)"
   ]
  },
  {
   "cell_type": "markdown",
   "metadata": {},
   "source": [
    "Variables, regardless of type, are assigned by using a single equals sign (`=`). Variables are case-sensitive so any changes in variation in the capitals of a variable name will reference a different variable entirely."
   ]
  },
  {
   "cell_type": "code",
   "execution_count": 7,
   "metadata": {},
   "outputs": [
    {
     "name": "stdout",
     "output_type": "stream",
     "text": [
      "1\n"
     ]
    }
   ],
   "source": [
    "one = 1\n",
    "print one"
   ]
  },
  {
   "cell_type": "code",
   "execution_count": 8,
   "metadata": {},
   "outputs": [
    {
     "name": "stdout",
     "output_type": "stream",
     "text": [
      "2\n"
     ]
    }
   ],
   "source": [
    "two = 2\n",
    "print two"
   ]
  },
  {
   "cell_type": "markdown",
   "metadata": {},
   "source": [
    "A `floating point` number, or a `float` is a fancy name for a real number (again as in mathematics). To define a `float`, we need to either include a decimal point or specify that the value is a float."
   ]
  },
  {
   "cell_type": "code",
   "execution_count": 9,
   "metadata": {
    "scrolled": true
   },
   "outputs": [
    {
     "name": "stdout",
     "output_type": "stream",
     "text": [
      "1.0 <class 'float'>\n",
      "1.0 <class 'float'>\n"
     ]
    }
   ],
   "source": [
    "my_float = 1.0\n",
    "print my_float, type(my_float)\n",
    "my_float = float(1)\n",
    "print my_float, type(my_float)"
   ]
  },
  {
   "cell_type": "code",
   "execution_count": 10,
   "metadata": {},
   "outputs": [
    {
     "name": "stdout",
     "output_type": "stream",
     "text": [
      "2.4 <class 'float'>\n",
      "2.0 <class 'float'>\n"
     ]
    }
   ],
   "source": [
    "my_float2 = 2.4\n",
    "print my_float2, type(my_float2)\n",
    "my_float2= float(2)\n",
    "print my_float2, type(my_float2)"
   ]
  },
  {
   "cell_type": "markdown",
   "metadata": {},
   "source": [
    "A variable of type `float` will not round the number that you store in it, while a variable of type `integer` will. This makes `floats` more suitable for mathematical calculations where you want more than just integers.\n",
    "\n",
    "Note that as we used the `float()` function to force an number to be considered a `float`, we can use the `int()` function to force a number to be considered an `int`."
   ]
  },
  {
   "cell_type": "code",
   "execution_count": 11,
   "metadata": {},
   "outputs": [
    {
     "name": "stdout",
     "output_type": "stream",
     "text": [
      "3 <class 'int'>\n"
     ]
    }
   ],
   "source": [
    "my_int = int(3.14159)\n",
    "print my_int, type(my_int)"
   ]
  },
  {
   "cell_type": "code",
   "execution_count": 12,
   "metadata": {},
   "outputs": [
    {
     "name": "stdout",
     "output_type": "stream",
     "text": [
      "458 <class 'int'>\n"
     ]
    }
   ],
   "source": [
    "my_int = int(458.843874)\n",
    "print my_int, type(my_int)"
   ]
  },
  {
   "cell_type": "markdown",
   "metadata": {},
   "source": [
    "The `int()` function will also truncate any digits that a number may have after the decimal point!\n",
    "\n",
    "Strings allow you to include text as a variable to operate on. They are defined using either single quotes ('') or double quotes (\"\")."
   ]
  },
  {
   "cell_type": "code",
   "execution_count": 13,
   "metadata": {},
   "outputs": [
    {
     "name": "stdout",
     "output_type": "stream",
     "text": [
      "This is a string with single quotes\n",
      "This is a string with double quotes\n"
     ]
    }
   ],
   "source": [
    "my_string = 'This is a string with single quotes'\n",
    "print my_string\n",
    "my_string = \"This is a string with double quotes\"\n",
    "print my_string"
   ]
  },
  {
   "cell_type": "code",
   "execution_count": 14,
   "metadata": {},
   "outputs": [
    {
     "name": "stdout",
     "output_type": "stream",
     "text": [
      "Esta es una cadena con comillas simples\n",
      "Esta es una cadena con comillas dobles\n"
     ]
    }
   ],
   "source": [
    "my_string2 = 'Esta es una cadena con comillas simples'\n",
    "print my_string2\n",
    "my_string2 = \"Esta es una cadena con comillas dobles\"\n",
    "print my_string2"
   ]
  },
  {
   "cell_type": "markdown",
   "metadata": {},
   "source": [
    "Both are allowed so that we can include apostrophes or quotation marks in a string if we so choose."
   ]
  },
  {
   "cell_type": "code",
   "execution_count": 15,
   "metadata": {},
   "outputs": [
    {
     "name": "stdout",
     "output_type": "stream",
     "text": [
      "\"Jabberwocky\", by Lewis Carroll\n",
      "'Twas brillig, and the slithy toves / Did gyre and gimble in the wabe;\n"
     ]
    }
   ],
   "source": [
    "my_string = '\"Jabberwocky\", by Lewis Carroll'\n",
    "print my_string\n",
    "my_string = \"'Twas brillig, and the slithy toves / Did gyre and gimble in the wabe;\"\n",
    "print my_string"
   ]
  },
  {
   "cell_type": "code",
   "execution_count": 16,
   "metadata": {},
   "outputs": [
    {
     "name": "stdout",
     "output_type": "stream",
     "text": [
      "\"La hojarasca\", por Gabriel García Márquez\n",
      "'mmm' no se que poner en este string xD\n"
     ]
    }
   ],
   "source": [
    "my_string2 = '\"La hojarasca\", por Gabriel García Márquez'\n",
    "print my_string2\n",
    "my_string2 = \"'mmm' no se que poner en este string xD\"\n",
    "print my_string2"
   ]
  },
  {
   "cell_type": "markdown",
   "metadata": {},
   "source": [
    "Booleans, or `bools` are binary variable types. A `bool` can only take on one of two values, these being `True` or `False`. There is much more to this idea of truth values when it comes to programming, which we cover later in the [Logical Operators](#id-section5) of this notebook."
   ]
  },
  {
   "cell_type": "code",
   "execution_count": 17,
   "metadata": {},
   "outputs": [
    {
     "name": "stdout",
     "output_type": "stream",
     "text": [
      "True <class 'bool'>\n"
     ]
    }
   ],
   "source": [
    "my_bool = True\n",
    "print my_bool, type(my_bool)"
   ]
  },
  {
   "cell_type": "markdown",
   "metadata": {},
   "source": [
    "There are many more data types that you can assign as variables in Python, but these are the basic ones! We will cover a few more later as we move through this tutorial."
   ]
  },
  {
   "cell_type": "code",
   "execution_count": 18,
   "metadata": {},
   "outputs": [
    {
     "name": "stdout",
     "output_type": "stream",
     "text": [
      "False <class 'bool'>\n"
     ]
    }
   ],
   "source": [
    "my_bool2 = False\n",
    "print my_bool2, type(my_bool2)"
   ]
  },
  {
   "cell_type": "markdown",
   "metadata": {},
   "source": [
    "## Basic Math\n",
    "\n",
    "Python has a number of built-in math functions. These can be extended even further by importing the **math** package or by including any number of other calculation-based packages.\n",
    "\n",
    "All of the basic arithmetic operations are supported: `+`, `-`, `/`, and `*`. You can create exponents by using `**` and modular arithmetic is introduced with the mod operator, `%`."
   ]
  },
  {
   "cell_type": "code",
   "execution_count": 19,
   "metadata": {},
   "outputs": [
    {
     "name": "stdout",
     "output_type": "stream",
     "text": [
      "Addition:  4\n",
      "Subtraction:  3\n",
      "Multiplication:  10\n",
      "Division:  5.0\n",
      "Exponentiation:  9\n"
     ]
    }
   ],
   "source": [
    "print 'Addition: ', 2 + 2\n",
    "print 'Subtraction: ', 7 - 4\n",
    "print 'Multiplication: ', 2 * 5\n",
    "print 'Division: ', 10 / 2\n",
    "print 'Exponentiation: ', 3**2"
   ]
  },
  {
   "cell_type": "code",
   "execution_count": 20,
   "metadata": {},
   "outputs": [
    {
     "name": "stdout",
     "output_type": "stream",
     "text": [
      "Suma:  99\n",
      "Resta:  -534\n",
      "Multiplicacion:  -378\n",
      "Division:  30.75\n",
      "Exponenciacion:  1953125\n"
     ]
    }
   ],
   "source": [
    "print 'Suma: ', 32 + 67\n",
    "print 'Resta: ', 66 - 600\n",
    "print 'Multiplicacion: ', 42 * -9\n",
    "print 'Division: ', 123 / 4\n",
    "print 'Exponenciacion: ', 5**9"
   ]
  },
  {
   "cell_type": "markdown",
   "metadata": {},
   "source": [
    "If you are not familiar with the the mod operator, it operates like a remainder function. If we type $15 \\ \\% \\ 4$, it will return the remainder after dividing $15$ by $4$."
   ]
  },
  {
   "cell_type": "code",
   "execution_count": 21,
   "metadata": {},
   "outputs": [
    {
     "name": "stdout",
     "output_type": "stream",
     "text": [
      "Modulo:  3\n"
     ]
    }
   ],
   "source": [
    "print 'Modulo: ', 15 % 4"
   ]
  },
  {
   "cell_type": "code",
   "execution_count": 22,
   "metadata": {},
   "outputs": [
    {
     "name": "stdout",
     "output_type": "stream",
     "text": [
      "Modulo:  2\n"
     ]
    }
   ],
   "source": [
    "print 'Modulo: ', 53 % 3"
   ]
  },
  {
   "cell_type": "markdown",
   "metadata": {},
   "source": [
    "Mathematical functions also work on variables!"
   ]
  },
  {
   "cell_type": "code",
   "execution_count": 23,
   "metadata": {
    "scrolled": true
   },
   "outputs": [
    {
     "name": "stdout",
     "output_type": "stream",
     "text": [
      "20\n"
     ]
    }
   ],
   "source": [
    "first_integer = 4\n",
    "second_integer = 5\n",
    "print first_integer * second_integer"
   ]
  },
  {
   "cell_type": "code",
   "execution_count": 24,
   "metadata": {},
   "outputs": [
    {
     "name": "stdout",
     "output_type": "stream",
     "text": [
      "234\n"
     ]
    }
   ],
   "source": [
    "first_integer = 78\n",
    "second_integer = 3\n",
    "print first_integer * second_integer"
   ]
  },
  {
   "cell_type": "markdown",
   "metadata": {},
   "source": [
    "Make sure that your variables are floats if you want to have decimal points in your answer. If you perform math exclusively with integers, you get an integer. Including any float in the calculation will make the result a float."
   ]
  },
  {
   "cell_type": "code",
   "execution_count": 25,
   "metadata": {},
   "outputs": [
    {
     "name": "stdout",
     "output_type": "stream",
     "text": [
      "3\n"
     ]
    }
   ],
   "source": [
    "first_integer = 11\n",
    "second_integer = 3\n",
    "print int(first_integer / second_integer)"
   ]
  },
  {
   "cell_type": "code",
   "execution_count": 26,
   "metadata": {},
   "outputs": [
    {
     "name": "stdout",
     "output_type": "stream",
     "text": [
      "2\n"
     ]
    }
   ],
   "source": [
    "first_integer = 10\n",
    "second_integer = 4\n",
    "print int(first_integer / second_integer)"
   ]
  },
  {
   "cell_type": "code",
   "execution_count": 27,
   "metadata": {},
   "outputs": [
    {
     "name": "stdout",
     "output_type": "stream",
     "text": [
      "3.6666666666666665\n"
     ]
    }
   ],
   "source": [
    "first_number = 11.0\n",
    "second_number = 3.0\n",
    "print first_number / second_number"
   ]
  },
  {
   "cell_type": "code",
   "execution_count": 28,
   "metadata": {},
   "outputs": [
    {
     "name": "stdout",
     "output_type": "stream",
     "text": [
      "2.5\n"
     ]
    }
   ],
   "source": [
    "first_integer = 10\n",
    "second_integer = 4\n",
    "print first_integer / second_integer"
   ]
  },
  {
   "cell_type": "markdown",
   "metadata": {},
   "source": [
    "Python has a few built-in math functions. The most notable of these are:\n",
    "\n",
    "* `abs()`\n",
    "* `round()`\n",
    "* `max()`\n",
    "* `min()`\n",
    "* `sum()`\n",
    "\n",
    "These functions all act as you would expect, given their names. Calling `abs()` on a number will return its absolute value. The `round()` function will round a number to a specified number of the decimal points (the default is $0$). Calling `max()` or `min()` on a collection of numbers will return, respectively, the maximum or minimum value in the collection. Calling `sum()` on a collection of numbers will add them all up. If you're not familiar with how collections of values in Python work, don't worry! We will cover collections in-depth in the next section. \n",
    "\n",
    "Additional math functionality can be added in with the `math` package."
   ]
  },
  {
   "cell_type": "code",
   "execution_count": 29,
   "metadata": {},
   "outputs": [],
   "source": [
    "import math"
   ]
  },
  {
   "cell_type": "markdown",
   "metadata": {},
   "source": [
    "The math library adds a long list of new mathematical functions to Python. Feel free to check out the [documentation](https://docs.python.org/2/library/math.html) for the full list and details. It concludes some mathematical constants"
   ]
  },
  {
   "cell_type": "code",
   "execution_count": 30,
   "metadata": {},
   "outputs": [
    {
     "name": "stdout",
     "output_type": "stream",
     "text": [
      "Pi:  3.141592653589793\n",
      "Euler's Constant:  2.718281828459045\n"
     ]
    }
   ],
   "source": [
    "print 'Pi: ', math.pi\n",
    "print \"Euler's Constant: \", math.e"
   ]
  },
  {
   "cell_type": "code",
   "execution_count": 31,
   "metadata": {},
   "outputs": [
    {
     "name": "stdout",
     "output_type": "stream",
     "text": [
      "Pi x 2:  6.283185307179586\n",
      "Euler's Constant / 5:  0.543656365691809\n"
     ]
    }
   ],
   "source": [
    "print 'Pi x 2: ', math.pi * 2\n",
    "print \"Euler's Constant / 5: \", math.e / 5"
   ]
  },
  {
   "cell_type": "markdown",
   "metadata": {},
   "source": [
    "As well as some commonly used math functions"
   ]
  },
  {
   "cell_type": "code",
   "execution_count": 32,
   "metadata": {},
   "outputs": [
    {
     "name": "stdout",
     "output_type": "stream",
     "text": [
      "Cosine of pi:  -1.0\n"
     ]
    }
   ],
   "source": [
    "print 'Cosine of pi: ', math.cos(math.pi)"
   ]
  },
  {
   "cell_type": "code",
   "execution_count": 33,
   "metadata": {},
   "outputs": [
    {
     "name": "stdout",
     "output_type": "stream",
     "text": [
      "Sin of pi:  1.2246467991473532e-16\n"
     ]
    }
   ],
   "source": [
    "print 'Sin of pi: ', math.sin(math.pi)"
   ]
  },
  {
   "cell_type": "markdown",
   "metadata": {},
   "source": [
    "## Collections\n",
    "### Lists\n",
    "\n",
    "A `list` in Python is an ordered collection of objects that can contain any data type. We define a `list` using brackets (`[]`)."
   ]
  },
  {
   "cell_type": "code",
   "execution_count": 34,
   "metadata": {},
   "outputs": [
    {
     "name": "stdout",
     "output_type": "stream",
     "text": [
      "[1, 2, 3]\n"
     ]
    }
   ],
   "source": [
    "my_list = [1, 2, 3]\n",
    "print my_list"
   ]
  },
  {
   "cell_type": "code",
   "execution_count": 35,
   "metadata": {},
   "outputs": [
    {
     "name": "stdout",
     "output_type": "stream",
     "text": [
      "[4, 3, 3, 4, 2]\n"
     ]
    }
   ],
   "source": [
    "my_list2 = [4, 3, 3,4,2]\n",
    "print my_list2"
   ]
  },
  {
   "cell_type": "markdown",
   "metadata": {},
   "source": [
    "We can access and index the list by using brackets as well. In order to select an individual element, simply type the list name followed by the index of the item you are looking for in braces."
   ]
  },
  {
   "cell_type": "code",
   "execution_count": 36,
   "metadata": {},
   "outputs": [
    {
     "name": "stdout",
     "output_type": "stream",
     "text": [
      "1\n",
      "3\n"
     ]
    }
   ],
   "source": [
    "print my_list[0]\n",
    "print my_list[2]"
   ]
  },
  {
   "cell_type": "code",
   "execution_count": 37,
   "metadata": {},
   "outputs": [
    {
     "name": "stdout",
     "output_type": "stream",
     "text": [
      "3\n",
      "4\n"
     ]
    }
   ],
   "source": [
    "print my_list2[1]\n",
    "print my_list2[3]"
   ]
  },
  {
   "cell_type": "markdown",
   "metadata": {},
   "source": [
    "Indexing in Python starts from $0$. If you have a list of length $n$, the first element of the list is at index $0$, the second element is at index $1$, and so on and so forth. The final element of the list will be at index $n-1$. Be careful! Trying to access a non-existent index will cause an error."
   ]
  },
  {
   "cell_type": "code",
   "execution_count": 38,
   "metadata": {},
   "outputs": [
    {
     "name": "stdout",
     "output_type": "stream",
     "text": [
      "The first, second, and third list elements:  1 2 3\n"
     ]
    },
    {
     "ename": "IndexError",
     "evalue": "list index out of range",
     "output_type": "error",
     "traceback": [
      "\u001b[0;31m---------------------------------------------------------------------------\u001b[0m",
      "\u001b[0;31mIndexError\u001b[0m                                Traceback (most recent call last)",
      "\u001b[0;32m<ipython-input-38-a098d5dd42c3>\u001b[0m in \u001b[0;36m<module>\u001b[0;34m()\u001b[0m\n\u001b[1;32m      1\u001b[0m \u001b[0mprint\u001b[0m\u001b[0;34m(\u001b[0m\u001b[0;34m'The first, second, and third list elements: '\u001b[0m\u001b[0;34m,\u001b[0m \u001b[0mmy_list\u001b[0m\u001b[0;34m[\u001b[0m\u001b[0;36m0\u001b[0m\u001b[0;34m]\u001b[0m\u001b[0;34m,\u001b[0m \u001b[0mmy_list\u001b[0m\u001b[0;34m[\u001b[0m\u001b[0;36m1\u001b[0m\u001b[0;34m]\u001b[0m\u001b[0;34m,\u001b[0m \u001b[0mmy_list\u001b[0m\u001b[0;34m[\u001b[0m\u001b[0;36m2\u001b[0m\u001b[0;34m]\u001b[0m\u001b[0;34m)\u001b[0m\u001b[0;34m\u001b[0m\u001b[0m\n\u001b[0;32m----> 2\u001b[0;31m \u001b[0mprint\u001b[0m\u001b[0;34m(\u001b[0m\u001b[0;34m'Accessing outside the list bounds causes an error: '\u001b[0m\u001b[0;34m,\u001b[0m \u001b[0mmy_list\u001b[0m\u001b[0;34m[\u001b[0m\u001b[0;36m3\u001b[0m\u001b[0;34m]\u001b[0m\u001b[0;34m)\u001b[0m\u001b[0;34m\u001b[0m\u001b[0m\n\u001b[0m",
      "\u001b[0;31mIndexError\u001b[0m: list index out of range"
     ]
    }
   ],
   "source": [
    "print 'The first, second, and third list elements: ', my_list[0], my_list[1], my_list[2]\n",
    "print 'Accessing outside the list bounds causes an error: ', my_list[3]"
   ]
  },
  {
   "cell_type": "code",
   "execution_count": null,
   "metadata": {},
   "outputs": [],
   "source": [
    "print 'primer, segundo, tercer y quinto elemento de la lista: ',my_list[2], my_list2[1], my_list2[2], my_list2[4]\n",
    "print 'Accessing outside the list bounds causes an error: ', my_list2[5]"
   ]
  },
  {
   "cell_type": "markdown",
   "metadata": {},
   "source": [
    "We can see the number of elements in a list by calling the `len()` function."
   ]
  },
  {
   "cell_type": "code",
   "execution_count": null,
   "metadata": {},
   "outputs": [],
   "source": [
    "print len(my_list)"
   ]
  },
  {
   "cell_type": "code",
   "execution_count": null,
   "metadata": {},
   "outputs": [],
   "source": [
    "print len(my_list2)"
   ]
  },
  {
   "cell_type": "markdown",
   "metadata": {},
   "source": [
    "We can update and change a list by accessing an index and assigning new value."
   ]
  },
  {
   "cell_type": "code",
   "execution_count": 39,
   "metadata": {},
   "outputs": [
    {
     "name": "stdout",
     "output_type": "stream",
     "text": [
      "[1, 2, 3]\n",
      "[42, 2, 3]\n"
     ]
    }
   ],
   "source": [
    "print my_list\n",
    "my_list[0] = 42\n",
    "print my_list"
   ]
  },
  {
   "cell_type": "code",
   "execution_count": 40,
   "metadata": {},
   "outputs": [
    {
     "name": "stdout",
     "output_type": "stream",
     "text": [
      "[4, 3, 3, 4, 2]\n",
      "[4, 3, 342, 4, 2]\n"
     ]
    }
   ],
   "source": [
    "print my_list2\n",
    "my_list2[2] = 342\n",
    "print my_list2"
   ]
  },
  {
   "cell_type": "markdown",
   "metadata": {},
   "source": [
    "This is fundamentally different from how strings are handled. A `list` is mutable, meaning that you can change a `list`'s elements without changing the list itself. Some data types, like `strings`, are immutable, meaning you cannot change them at all. Once a `string` or other immutable data type has been created, it cannot be directly modified without creating an entirely new object."
   ]
  },
  {
   "cell_type": "code",
   "execution_count": 41,
   "metadata": {},
   "outputs": [
    {
     "ename": "TypeError",
     "evalue": "'str' object does not support item assignment",
     "output_type": "error",
     "traceback": [
      "\u001b[0;31m---------------------------------------------------------------------------\u001b[0m",
      "\u001b[0;31mTypeError\u001b[0m                                 Traceback (most recent call last)",
      "\u001b[0;32m<ipython-input-41-85065ecd61ab>\u001b[0m in \u001b[0;36m<module>\u001b[0;34m()\u001b[0m\n\u001b[1;32m      1\u001b[0m \u001b[0mmy_string\u001b[0m \u001b[0;34m=\u001b[0m \u001b[0;34m\"Strings never change\"\u001b[0m\u001b[0;34m\u001b[0m\u001b[0m\n\u001b[0;32m----> 2\u001b[0;31m \u001b[0mmy_string\u001b[0m\u001b[0;34m[\u001b[0m\u001b[0;36m0\u001b[0m\u001b[0;34m]\u001b[0m \u001b[0;34m=\u001b[0m \u001b[0;34m'Z'\u001b[0m\u001b[0;34m\u001b[0m\u001b[0m\n\u001b[0m",
      "\u001b[0;31mTypeError\u001b[0m: 'str' object does not support item assignment"
     ]
    }
   ],
   "source": [
    "my_string = \"Strings never change\"\n",
    "my_string[0] = 'Z'"
   ]
  },
  {
   "cell_type": "code",
   "execution_count": 42,
   "metadata": {},
   "outputs": [
    {
     "ename": "TypeError",
     "evalue": "'str' object does not support item assignment",
     "output_type": "error",
     "traceback": [
      "\u001b[0;31m---------------------------------------------------------------------------\u001b[0m",
      "\u001b[0;31mTypeError\u001b[0m                                 Traceback (most recent call last)",
      "\u001b[0;32m<ipython-input-42-e91eb2a9aedb>\u001b[0m in \u001b[0;36m<module>\u001b[0;34m()\u001b[0m\n\u001b[1;32m      1\u001b[0m \u001b[0mmy_string\u001b[0m \u001b[0;34m=\u001b[0m \u001b[0;34m\"UwU\"\u001b[0m\u001b[0;34m\u001b[0m\u001b[0m\n\u001b[0;32m----> 2\u001b[0;31m \u001b[0mmy_string\u001b[0m\u001b[0;34m[\u001b[0m\u001b[0;36m1\u001b[0m\u001b[0;34m]\u001b[0m \u001b[0;34m=\u001b[0m \u001b[0;34m'_'\u001b[0m\u001b[0;34m\u001b[0m\u001b[0m\n\u001b[0m",
      "\u001b[0;31mTypeError\u001b[0m: 'str' object does not support item assignment"
     ]
    }
   ],
   "source": [
    "my_string = \"UwU\"\n",
    "my_string[1] = '_'"
   ]
  },
  {
   "cell_type": "markdown",
   "metadata": {},
   "source": [
    "As we stated before, a list can contain any data type. Thus, lists can also contain strings."
   ]
  },
  {
   "cell_type": "code",
   "execution_count": 43,
   "metadata": {},
   "outputs": [
    {
     "name": "stdout",
     "output_type": "stream",
     "text": [
      "['one', 'two', 'three']\n"
     ]
    }
   ],
   "source": [
    "my_list_2 = ['one', 'two', 'three']\n",
    "print my_list_2"
   ]
  },
  {
   "cell_type": "code",
   "execution_count": 44,
   "metadata": {},
   "outputs": [
    {
     "name": "stdout",
     "output_type": "stream",
     "text": [
      "['kurt', 'dave', 'krist']\n"
     ]
    }
   ],
   "source": [
    "a = ['kurt', 'dave', 'krist']\n",
    "print a"
   ]
  },
  {
   "cell_type": "markdown",
   "metadata": {},
   "source": [
    "Lists can also contain multiple different data types at once!"
   ]
  },
  {
   "cell_type": "code",
   "execution_count": 45,
   "metadata": {},
   "outputs": [
    {
     "name": "stdout",
     "output_type": "stream",
     "text": [
      "[True, 'False', 42]\n"
     ]
    }
   ],
   "source": [
    "my_list_3 = [True, 'False', 42]\n",
    "print my_list_3"
   ]
  },
  {
   "cell_type": "code",
   "execution_count": 46,
   "metadata": {},
   "outputs": [
    {
     "name": "stdout",
     "output_type": "stream",
     "text": [
      "[False, 'UwU', 7834.3, 4]\n"
     ]
    }
   ],
   "source": [
    "b = [False, 'UwU', 7834.3, 4]\n",
    "print b"
   ]
  },
  {
   "cell_type": "markdown",
   "metadata": {},
   "source": [
    "If you want to put two lists together, they can be combined with a `+` symbol."
   ]
  },
  {
   "cell_type": "code",
   "execution_count": 47,
   "metadata": {},
   "outputs": [
    {
     "name": "stdout",
     "output_type": "stream",
     "text": [
      "[42, 2, 3, 'one', 'two', 'three', True, 'False', 42]\n"
     ]
    }
   ],
   "source": [
    "my_list_4 = my_list + my_list_2 + my_list_3\n",
    "print my_list_4"
   ]
  },
  {
   "cell_type": "code",
   "execution_count": 48,
   "metadata": {},
   "outputs": [
    {
     "name": "stdout",
     "output_type": "stream",
     "text": [
      "['kurt', 'dave', 'krist', False, 'UwU', 7834.3, 4]\n"
     ]
    }
   ],
   "source": [
    "c= a + b\n",
    "print c"
   ]
  },
  {
   "cell_type": "markdown",
   "metadata": {},
   "source": [
    "In addition to accessing individual elements of a list, we can access groups of elements through slicing."
   ]
  },
  {
   "cell_type": "code",
   "execution_count": 49,
   "metadata": {},
   "outputs": [],
   "source": [
    "my_list = ['friends', 'romans', 'countrymen', 'lend', 'me', 'your', 'ears']"
   ]
  },
  {
   "cell_type": "code",
   "execution_count": 50,
   "metadata": {},
   "outputs": [],
   "source": [
    "a = ['ssda','asda','sdasd','sdasffg','sadgfg']"
   ]
  },
  {
   "cell_type": "markdown",
   "metadata": {},
   "source": [
    "#### Slicing\n",
    "\n",
    "We use the colon (`:`) to slice lists. "
   ]
  },
  {
   "cell_type": "code",
   "execution_count": 51,
   "metadata": {
    "scrolled": true
   },
   "outputs": [
    {
     "name": "stdout",
     "output_type": "stream",
     "text": [
      "['countrymen', 'lend', 'me']\n"
     ]
    }
   ],
   "source": [
    "print my_list[2:5]"
   ]
  },
  {
   "cell_type": "code",
   "execution_count": 52,
   "metadata": {},
   "outputs": [
    {
     "name": "stdout",
     "output_type": "stream",
     "text": [
      "['asda', 'sdasd', 'sdasffg']\n"
     ]
    }
   ],
   "source": [
    "print a[1:4]"
   ]
  },
  {
   "cell_type": "markdown",
   "metadata": {},
   "source": [
    "Using `:` we can select a group of elements in the list starting from the first element indicated and going up to  (but not including) the last element indicated.\n",
    "\n",
    "We can also select everything after a certain point"
   ]
  },
  {
   "cell_type": "code",
   "execution_count": 53,
   "metadata": {
    "scrolled": true
   },
   "outputs": [
    {
     "name": "stdout",
     "output_type": "stream",
     "text": [
      "['romans', 'countrymen', 'lend', 'me', 'your', 'ears']\n"
     ]
    }
   ],
   "source": [
    "print my_list[1:]"
   ]
  },
  {
   "cell_type": "code",
   "execution_count": 54,
   "metadata": {},
   "outputs": [
    {
     "name": "stdout",
     "output_type": "stream",
     "text": [
      "['sdasd', 'sdasffg', 'sadgfg']\n"
     ]
    }
   ],
   "source": [
    "print a[2:]"
   ]
  },
  {
   "cell_type": "markdown",
   "metadata": {},
   "source": [
    "And everything before a certain point"
   ]
  },
  {
   "cell_type": "code",
   "execution_count": 55,
   "metadata": {
    "scrolled": true
   },
   "outputs": [
    {
     "name": "stdout",
     "output_type": "stream",
     "text": [
      "['friends', 'romans', 'countrymen', 'lend']\n"
     ]
    }
   ],
   "source": [
    "print my_list[:4]"
   ]
  },
  {
   "cell_type": "code",
   "execution_count": 56,
   "metadata": {},
   "outputs": [
    {
     "name": "stdout",
     "output_type": "stream",
     "text": [
      "['ssda', 'asda', 'sdasd', 'sdasffg']\n"
     ]
    }
   ],
   "source": [
    "print a[:4]"
   ]
  },
  {
   "cell_type": "markdown",
   "metadata": {},
   "source": [
    "Using negative numbers will count from the end of the indices instead of from the beginning. For example, an index of `-1` indicates the last element of the list."
   ]
  },
  {
   "cell_type": "code",
   "execution_count": 57,
   "metadata": {},
   "outputs": [
    {
     "name": "stdout",
     "output_type": "stream",
     "text": [
      "your\n"
     ]
    }
   ],
   "source": [
    "print my_list[-2]"
   ]
  },
  {
   "cell_type": "code",
   "execution_count": 58,
   "metadata": {},
   "outputs": [
    {
     "name": "stdout",
     "output_type": "stream",
     "text": [
      "asda\n"
     ]
    }
   ],
   "source": [
    "print a[-4]"
   ]
  },
  {
   "cell_type": "markdown",
   "metadata": {},
   "source": [
    "You can also add a third component to slicing. Instead of simply indicating the first and final parts of your slice, you can specify the step size that you want to take. So instead of taking every single element, you can take every other element."
   ]
  },
  {
   "cell_type": "code",
   "execution_count": 59,
   "metadata": {},
   "outputs": [
    {
     "name": "stdout",
     "output_type": "stream",
     "text": [
      "['friends', 'countrymen', 'me', 'ears']\n"
     ]
    }
   ],
   "source": [
    "print my_list[0:7:2]"
   ]
  },
  {
   "cell_type": "code",
   "execution_count": 60,
   "metadata": {},
   "outputs": [
    {
     "name": "stdout",
     "output_type": "stream",
     "text": [
      "['ssda', 'sdasd']\n"
     ]
    }
   ],
   "source": [
    "print a[0:4:2]"
   ]
  },
  {
   "cell_type": "markdown",
   "metadata": {},
   "source": [
    "Here we have selected the entire list (because `0:7` will yield elements `0` through `6`) and we have selected a step size of `2`. So this will spit out element `0` , element `2`, element `4`, and so on through the list element selected. We can skip indicated the beginning and end of our slice, only indicating the step, if we like."
   ]
  },
  {
   "cell_type": "code",
   "execution_count": 61,
   "metadata": {},
   "outputs": [
    {
     "name": "stdout",
     "output_type": "stream",
     "text": [
      "['friends', 'countrymen', 'me', 'ears']\n"
     ]
    }
   ],
   "source": [
    "print my_list[::2]"
   ]
  },
  {
   "cell_type": "code",
   "execution_count": 62,
   "metadata": {},
   "outputs": [
    {
     "name": "stdout",
     "output_type": "stream",
     "text": [
      "['ssda', 'sdasd', 'sadgfg']\n"
     ]
    }
   ],
   "source": [
    "print a[::2]"
   ]
  },
  {
   "cell_type": "markdown",
   "metadata": {},
   "source": [
    "Lists implictly select the beginning and end of the list when not otherwise specified."
   ]
  },
  {
   "cell_type": "code",
   "execution_count": 63,
   "metadata": {},
   "outputs": [
    {
     "name": "stdout",
     "output_type": "stream",
     "text": [
      "['friends', 'romans', 'countrymen', 'lend', 'me', 'your', 'ears']\n"
     ]
    }
   ],
   "source": [
    "print my_list[:]"
   ]
  },
  {
   "cell_type": "code",
   "execution_count": 64,
   "metadata": {},
   "outputs": [
    {
     "name": "stdout",
     "output_type": "stream",
     "text": [
      "['ssda', 'asda', 'sdasd', 'sdasffg', 'sadgfg']\n"
     ]
    }
   ],
   "source": [
    "print a[:]"
   ]
  },
  {
   "cell_type": "markdown",
   "metadata": {},
   "source": [
    "With a negative step size we can even reverse the list!"
   ]
  },
  {
   "cell_type": "code",
   "execution_count": 65,
   "metadata": {},
   "outputs": [
    {
     "name": "stdout",
     "output_type": "stream",
     "text": [
      "['ears', 'your', 'me', 'lend', 'countrymen', 'romans', 'friends']\n"
     ]
    }
   ],
   "source": [
    "print my_list[::-1]"
   ]
  },
  {
   "cell_type": "code",
   "execution_count": 66,
   "metadata": {},
   "outputs": [
    {
     "name": "stdout",
     "output_type": "stream",
     "text": [
      "['sadgfg', 'sdasffg', 'sdasd', 'asda', 'ssda']\n"
     ]
    }
   ],
   "source": [
    "print a[::-1]"
   ]
  },
  {
   "cell_type": "markdown",
   "metadata": {},
   "source": [
    "Python does not have native matrices, but with lists we can produce a working fascimile. Other packages, such as `numpy`, add matrices as a separate data type, but in base Python the best way to create a matrix is to use a list of lists."
   ]
  },
  {
   "cell_type": "markdown",
   "metadata": {},
   "source": [
    "We can also use built-in functions to generate lists. In particular we will look at `range()` (because we will be using it later!). Range can take several different inputs and will return a list."
   ]
  },
  {
   "cell_type": "code",
   "execution_count": 67,
   "metadata": {},
   "outputs": [
    {
     "name": "stdout",
     "output_type": "stream",
     "text": [
      "range(0, 10)\n"
     ]
    }
   ],
   "source": [
    "b = 10\n",
    "my_list = range(b)\n",
    "print my_list"
   ]
  },
  {
   "cell_type": "code",
   "execution_count": 68,
   "metadata": {},
   "outputs": [
    {
     "name": "stdout",
     "output_type": "stream",
     "text": [
      "range(0, 17)\n"
     ]
    }
   ],
   "source": [
    "sad = 17\n",
    "a = range(sad)\n",
    "print a"
   ]
  },
  {
   "cell_type": "markdown",
   "metadata": {},
   "source": [
    "Similar to our list-slicing methods from before, we can define both a start and an end for our range. This will return a list that is includes the start and excludes the end, just like a slice."
   ]
  },
  {
   "cell_type": "code",
   "execution_count": 69,
   "metadata": {},
   "outputs": [
    {
     "name": "stdout",
     "output_type": "stream",
     "text": [
      "range(0, 10)\n"
     ]
    }
   ],
   "source": [
    "a = 0\n",
    "b = 10\n",
    "my_list = range(a, b)\n",
    "print my_list"
   ]
  },
  {
   "cell_type": "code",
   "execution_count": 70,
   "metadata": {},
   "outputs": [
    {
     "name": "stdout",
     "output_type": "stream",
     "text": [
      "range(2, 13)\n"
     ]
    }
   ],
   "source": [
    "das = 2\n",
    "sad = 13\n",
    "a = range(das, sad)\n",
    "print a"
   ]
  },
  {
   "cell_type": "markdown",
   "metadata": {},
   "source": [
    "We can also specify a step size. This again has the same behavior as a slice."
   ]
  },
  {
   "cell_type": "code",
   "execution_count": 71,
   "metadata": {
    "scrolled": true
   },
   "outputs": [
    {
     "name": "stdout",
     "output_type": "stream",
     "text": [
      "range(0, 10, 2)\n"
     ]
    }
   ],
   "source": [
    "a = 0\n",
    "b = 10\n",
    "step = 2\n",
    "my_list = range(a, b, step)\n",
    "print my_list"
   ]
  },
  {
   "cell_type": "code",
   "execution_count": 72,
   "metadata": {},
   "outputs": [
    {
     "name": "stdout",
     "output_type": "stream",
     "text": [
      "range(0, 10, 2)\n"
     ]
    }
   ],
   "source": [
    "das = 0\n",
    "sad = 10\n",
    "step2 = 2\n",
    "yoy = range(a, b, step)\n",
    "print yoy"
   ]
  },
  {
   "cell_type": "markdown",
   "metadata": {},
   "source": [
    "### Tuples\n",
    "\n",
    "A `tuple` is a data type similar to a list in that it can hold different kinds of data types. The key difference here is that a `tuple` is immutable. We define a `tuple` by separating the elements we want to include by commas. It is conventional to surround a `tuple` with parentheses."
   ]
  },
  {
   "cell_type": "code",
   "execution_count": 73,
   "metadata": {},
   "outputs": [
    {
     "name": "stdout",
     "output_type": "stream",
     "text": [
      "('I', 'have', 30, 'cats')\n"
     ]
    }
   ],
   "source": [
    "my_tuple = 'I', 'have', 30, 'cats'\n",
    "print my_tuple"
   ]
  },
  {
   "cell_type": "code",
   "execution_count": 74,
   "metadata": {},
   "outputs": [
    {
     "name": "stdout",
     "output_type": "stream",
     "text": [
      "('We', 'has', 40, 'dogs')\n"
     ]
    }
   ],
   "source": [
    "my_tuple2 = ('We', 'has', 40, 'dogs')\n",
    "print my_tuple2"
   ]
  },
  {
   "cell_type": "markdown",
   "metadata": {},
   "source": [
    "As mentioned before, tuples are immutable. You can't change any part of them without defining a new tuple."
   ]
  },
  {
   "cell_type": "code",
   "execution_count": 75,
   "metadata": {},
   "outputs": [
    {
     "ename": "TypeError",
     "evalue": "'tuple' object does not support item assignment",
     "output_type": "error",
     "traceback": [
      "\u001b[0;31m---------------------------------------------------------------------------\u001b[0m",
      "\u001b[0;31mTypeError\u001b[0m                                 Traceback (most recent call last)",
      "\u001b[0;32m<ipython-input-75-c821a6bdb1a6>\u001b[0m in \u001b[0;36m<module>\u001b[0;34m()\u001b[0m\n\u001b[0;32m----> 1\u001b[0;31m \u001b[0mmy_tuple\u001b[0m\u001b[0;34m[\u001b[0m\u001b[0;36m3\u001b[0m\u001b[0;34m]\u001b[0m \u001b[0;34m=\u001b[0m \u001b[0;34m'dogs'\u001b[0m \u001b[0;31m# Attempts to change the 'cats' value stored in the the tuple to 'dogs'\u001b[0m\u001b[0;34m\u001b[0m\u001b[0m\n\u001b[0m",
      "\u001b[0;31mTypeError\u001b[0m: 'tuple' object does not support item assignment"
     ]
    }
   ],
   "source": [
    "my_tuple[3] = 'dogs' # Attempts to change the 'cats' value stored in the the tuple to 'dogs'"
   ]
  },
  {
   "cell_type": "code",
   "execution_count": 76,
   "metadata": {},
   "outputs": [
    {
     "ename": "TypeError",
     "evalue": "'tuple' object does not support item assignment",
     "output_type": "error",
     "traceback": [
      "\u001b[0;31m---------------------------------------------------------------------------\u001b[0m",
      "\u001b[0;31mTypeError\u001b[0m                                 Traceback (most recent call last)",
      "\u001b[0;32m<ipython-input-76-df5f42152431>\u001b[0m in \u001b[0;36m<module>\u001b[0;34m()\u001b[0m\n\u001b[0;32m----> 1\u001b[0;31m \u001b[0mmy_tuple2\u001b[0m\u001b[0;34m[\u001b[0m\u001b[0;36m3\u001b[0m\u001b[0;34m]\u001b[0m \u001b[0;34m=\u001b[0m \u001b[0;34m'birds'\u001b[0m\u001b[0;34m\u001b[0m\u001b[0m\n\u001b[0m",
      "\u001b[0;31mTypeError\u001b[0m: 'tuple' object does not support item assignment"
     ]
    }
   ],
   "source": [
    "my_tuple2[3] = 'birds'"
   ]
  },
  {
   "cell_type": "markdown",
   "metadata": {},
   "source": [
    "You can slice tuples the same way that you slice lists!"
   ]
  },
  {
   "cell_type": "code",
   "execution_count": 77,
   "metadata": {},
   "outputs": [
    {
     "name": "stdout",
     "output_type": "stream",
     "text": [
      "('have', 30)\n"
     ]
    }
   ],
   "source": [
    "print my_tuple[1:3]"
   ]
  },
  {
   "cell_type": "code",
   "execution_count": 78,
   "metadata": {},
   "outputs": [
    {
     "name": "stdout",
     "output_type": "stream",
     "text": [
      "('We', 'has', 40, 'dogs')\n"
     ]
    }
   ],
   "source": [
    "print my_tuple2[0:4]"
   ]
  },
  {
   "cell_type": "markdown",
   "metadata": {},
   "source": [
    "And concatenate them the way that you would with strings!"
   ]
  },
  {
   "cell_type": "code",
   "execution_count": 79,
   "metadata": {},
   "outputs": [
    {
     "name": "stdout",
     "output_type": "stream",
     "text": [
      "('I', 'have', 30, 'cats', 'make', 'that', 50)\n"
     ]
    }
   ],
   "source": [
    "my_other_tuple = ('make', 'that', 50)\n",
    "print my_tuple + my_other_tuple"
   ]
  },
  {
   "cell_type": "code",
   "execution_count": 80,
   "metadata": {},
   "outputs": [
    {
     "name": "stdout",
     "output_type": "stream",
     "text": [
      "('We', 'has', 40, 'dogs', 'make', 'that', 290)\n"
     ]
    }
   ],
   "source": [
    "my_other_tuple2 = ('make', 'that', 290)\n",
    "print my_tuple2 + my_other_tuple2"
   ]
  },
  {
   "cell_type": "markdown",
   "metadata": {},
   "source": [
    "We can 'pack' values together, creating a tuple (as above), or we can 'unpack' values from a tuple, taking them out."
   ]
  },
  {
   "cell_type": "code",
   "execution_count": 81,
   "metadata": {},
   "outputs": [
    {
     "name": "stdout",
     "output_type": "stream",
     "text": [
      "make that 50\n"
     ]
    }
   ],
   "source": [
    "str_1, str_2, int_1 = my_other_tuple\n",
    "print str_1, str_2, int_1"
   ]
  },
  {
   "cell_type": "code",
   "execution_count": 82,
   "metadata": {},
   "outputs": [
    {
     "name": "stdout",
     "output_type": "stream",
     "text": [
      "make that 290\n"
     ]
    }
   ],
   "source": [
    "stri_1, stri_2, inti_1 = my_other_tuple2\n",
    "print stri_1, stri_2, inti_1"
   ]
  },
  {
   "cell_type": "markdown",
   "metadata": {},
   "source": [
    "Unpacking assigns each value of the tuple in order to each variable on the left hand side of the equals sign. Some functions, including user-defined functions, may return tuples, so we can use this to directly unpack them and access the values that we want."
   ]
  },
  {
   "cell_type": "markdown",
   "metadata": {},
   "source": [
    "### Sets\n",
    "\n",
    "A `set` is a collection of unordered, unique elements. It works almost exactly as you would expect a normal set of things in mathematics to work and is defined using braces (`{}`)."
   ]
  },
  {
   "cell_type": "code",
   "execution_count": 83,
   "metadata": {},
   "outputs": [
    {
     "name": "stdout",
     "output_type": "stream",
     "text": [
      "{4, 7, 42, 'lizards', 'the number 4', 'dogs', 'man I just LOVE the number 4'} <class 'set'>\n"
     ]
    }
   ],
   "source": [
    "things_i_like = {'dogs', 7, 'the number 4', 4, 4, 4, 42, 'lizards', 'man I just LOVE the number 4'}\n",
    "print things_i_like, type(things_i_like)"
   ]
  },
  {
   "cell_type": "code",
   "execution_count": 84,
   "metadata": {},
   "outputs": [
    {
     "name": "stdout",
     "output_type": "stream",
     "text": [
      "{'the number 26', 'anime? xd', 42, 12, 'man I just LOVE... e.e', 26, 'music', 'Suga'} <class 'set'>\n"
     ]
    }
   ],
   "source": [
    "things_i_really_like = {'Suga', \"music\", 'the number 26', 26, 26, 12, 42, 'anime? xd', 'man I just LOVE... e.e'}\n",
    "print things_i_really_like, type(things_i_really_like)"
   ]
  },
  {
   "cell_type": "markdown",
   "metadata": {},
   "source": [
    "Note how any extra instances of the same item are removed in the final set. We can also create a `set` from a list, using the `set()` function."
   ]
  },
  {
   "cell_type": "code",
   "execution_count": 85,
   "metadata": {},
   "outputs": [
    {
     "name": "stdout",
     "output_type": "stream",
     "text": [
      "{'cows', 'sponges', 'lizards', 'dogs', 'bats', 'cats'}\n"
     ]
    }
   ],
   "source": [
    "animal_list = ['cats', 'dogs', 'dogs', 'dogs', 'lizards', 'sponges', 'cows', 'bats', 'sponges']\n",
    "animal_set = set(animal_list)\n",
    "print animal_set # Removes all extra instances from the list"
   ]
  },
  {
   "cell_type": "code",
   "execution_count": 86,
   "metadata": {},
   "outputs": [
    {
     "name": "stdout",
     "output_type": "stream",
     "text": [
      "{'Jimin', 'J-Hope', 'RM', 'V', 'Kurt Cobain', 'Jin', 'Lisa', 'Nancy', 'Suga', 'Jungkook'}\n"
     ]
    }
   ],
   "source": [
    "singer_list = ['Kurt Cobain', 'Suga', 'V', 'Jungkook', 'Lisa', 'Lisa', 'Nancy', 'RM', 'RM','J-Hope','Jimin','Jin']\n",
    "singer_set = set(singer_list)\n",
    "print singer_set # Removes all extra instances from the list"
   ]
  },
  {
   "cell_type": "markdown",
   "metadata": {},
   "source": [
    "Calling `len()` on a set will tell you how many elements are in it."
   ]
  },
  {
   "cell_type": "code",
   "execution_count": 87,
   "metadata": {},
   "outputs": [
    {
     "name": "stdout",
     "output_type": "stream",
     "text": [
      "6\n"
     ]
    }
   ],
   "source": [
    "print len(animal_set)"
   ]
  },
  {
   "cell_type": "code",
   "execution_count": 88,
   "metadata": {},
   "outputs": [
    {
     "name": "stdout",
     "output_type": "stream",
     "text": [
      "10\n"
     ]
    }
   ],
   "source": [
    "print len(singer_set)"
   ]
  },
  {
   "cell_type": "markdown",
   "metadata": {},
   "source": [
    "Because a `set` is unordered, we can't access individual elements using an index. We can, however, easily check for membership (to see if something is contained in a set) and take the unions and intersections of sets by using the built-in set functions."
   ]
  },
  {
   "cell_type": "code",
   "execution_count": 89,
   "metadata": {},
   "outputs": [
    {
     "data": {
      "text/plain": [
       "True"
      ]
     },
     "execution_count": 89,
     "metadata": {},
     "output_type": "execute_result"
    }
   ],
   "source": [
    "'cats' in animal_set # Here we check for membership using the `in` keyword."
   ]
  },
  {
   "cell_type": "code",
   "execution_count": 90,
   "metadata": {},
   "outputs": [
    {
     "data": {
      "text/plain": [
       "False"
      ]
     },
     "execution_count": 90,
     "metadata": {},
     "output_type": "execute_result"
    }
   ],
   "source": [
    "'Maluma' in singer_set # Here we check for membership using the `in` keyword."
   ]
  },
  {
   "cell_type": "markdown",
   "metadata": {},
   "source": [
    "Here we checked to see whether the string 'cats' was contained within our `animal_set` and it returned `True`, telling us that it is indeed in our set.\n",
    "\n",
    "We can connect sets by using typical mathematical set operators, namely `|`, for union, and `&`, for intersection. Using `|` or `&` will return exactly what you would expect if you are familiar with sets in mathematics."
   ]
  },
  {
   "cell_type": "code",
   "execution_count": 91,
   "metadata": {},
   "outputs": [
    {
     "name": "stdout",
     "output_type": "stream",
     "text": [
      "{4, 'cows', 7, 42, 'sponges', 'lizards', 'the number 4', 'dogs', 'bats', 'cats', 'man I just LOVE the number 4'}\n"
     ]
    }
   ],
   "source": [
    "print animal_set | things_i_like # You can also write things_i_like | animal_set with no difference"
   ]
  },
  {
   "cell_type": "code",
   "execution_count": 92,
   "metadata": {},
   "outputs": [
    {
     "name": "stdout",
     "output_type": "stream",
     "text": [
      "{'the number 26', 'anime? xd', 'Jimin', 42, 'J-Hope', 'RM', 'V', 'Kurt Cobain', 'Jin', 'Lisa', 12, 'Nancy', 'man I just LOVE... e.e', 26, 'music', 'Suga', 'Jungkook'}\n"
     ]
    }
   ],
   "source": [
    "print singer_set | things_i_really_like # You can also write things_i_like | animal_set with no difference"
   ]
  },
  {
   "cell_type": "markdown",
   "metadata": {},
   "source": [
    "Pairing two sets together with `|` combines the sets, removing any repetitions to make every set element unique."
   ]
  },
  {
   "cell_type": "code",
   "execution_count": 93,
   "metadata": {},
   "outputs": [
    {
     "name": "stdout",
     "output_type": "stream",
     "text": [
      "{'lizards', 'dogs'}\n"
     ]
    }
   ],
   "source": [
    "print animal_set & things_i_like # You can also write things_i_like & animal_set with no difference"
   ]
  },
  {
   "cell_type": "code",
   "execution_count": 94,
   "metadata": {},
   "outputs": [
    {
     "name": "stdout",
     "output_type": "stream",
     "text": [
      "{'Suga'}\n"
     ]
    }
   ],
   "source": [
    "print singer_set & things_i_really_like # You can also write things_i_like & animal_set with no difference"
   ]
  },
  {
   "cell_type": "markdown",
   "metadata": {},
   "source": [
    "Pairing two sets together with `&` will calculate the intersection of both sets, returning a set that only contains what they have in common.\n",
    "\n",
    "If you are interested in learning more about the built-in functions for sets, feel free to check out the [documentation](https://docs.python.org/2/library/sets.html)."
   ]
  },
  {
   "cell_type": "markdown",
   "metadata": {},
   "source": [
    "### Dictionaries\n",
    "\n",
    "Another essential data structure in Python is the dictionary. Dictionaries are defined with a combination of curly braces (`{}`) and colons (`:`). The braces define the beginning and end of a dictionary and the colons indicate key-value pairs. A dictionary is essentially a set of key-value pairs. The key of any entry must be an immutable data type. This makes both strings and tuples candidates. Keys can be both added and deleted.\n",
    "\n",
    "In the following example, we have a dictionary composed of key-value pairs where the key is a genre of fiction (`string`) and the value is a list of books (`list`) within that genre. Since a collection is still considered a single entity, we can use one to collect multiple variables or values into one key-value pair."
   ]
  },
  {
   "cell_type": "code",
   "execution_count": 95,
   "metadata": {},
   "outputs": [],
   "source": [
    "my_dict = {\"High Fantasy\": [\"Wheel of Time\", \"Lord of the Rings\"], \n",
    "           \"Sci-fi\": [\"Book of the New Sun\", \"Neuromancer\", \"Snow Crash\"],\n",
    "           \"Weird Fiction\": [\"At the Mountains of Madness\", \"The House on the Borderland\"]}"
   ]
  },
  {
   "cell_type": "code",
   "execution_count": 96,
   "metadata": {},
   "outputs": [],
   "source": [
    "music = {\"Pop\": [\"BTS\", \"Blackpink\", \"Michael Jackson\"], \n",
    "           \"Rock\": [\"Nirvana\", \"Rolling Stones\", \"Pink Floyd\"],\n",
    "           \"Metal\": [\"Ghost\", \"Slipknot\"], \"Hip-Hop\":[\"Agust D.\",\"Eminem\"]}"
   ]
  },
  {
   "cell_type": "markdown",
   "metadata": {},
   "source": [
    "After defining a dictionary, we can access any individual value by indicating its key in brackets."
   ]
  },
  {
   "cell_type": "code",
   "execution_count": 97,
   "metadata": {},
   "outputs": [
    {
     "name": "stdout",
     "output_type": "stream",
     "text": [
      "['Book of the New Sun', 'Neuromancer', 'Snow Crash']\n"
     ]
    }
   ],
   "source": [
    "print my_dict[\"Sci-fi\"]"
   ]
  },
  {
   "cell_type": "code",
   "execution_count": 98,
   "metadata": {},
   "outputs": [
    {
     "name": "stdout",
     "output_type": "stream",
     "text": [
      "['BTS', 'Blackpink', 'Michael Jackson']\n"
     ]
    }
   ],
   "source": [
    "print music[\"Pop\"]"
   ]
  },
  {
   "cell_type": "markdown",
   "metadata": {},
   "source": [
    "We can also change the value associated with a given key"
   ]
  },
  {
   "cell_type": "code",
   "execution_count": 99,
   "metadata": {},
   "outputs": [
    {
     "name": "stdout",
     "output_type": "stream",
     "text": [
      "I can't read\n"
     ]
    }
   ],
   "source": [
    "my_dict[\"Sci-fi\"] = \"I can't read\"\n",
    "print my_dict[\"Sci-fi\"]"
   ]
  },
  {
   "cell_type": "code",
   "execution_count": 100,
   "metadata": {},
   "outputs": [
    {
     "name": "stdout",
     "output_type": "stream",
     "text": [
      "That's not music\n"
     ]
    }
   ],
   "source": [
    "music[\"Pop\"] = \"That's not music\"\n",
    "print music[\"Pop\"]"
   ]
  },
  {
   "cell_type": "markdown",
   "metadata": {},
   "source": [
    "Adding a new key-value pair is as simple as defining it."
   ]
  },
  {
   "cell_type": "code",
   "execution_count": 101,
   "metadata": {},
   "outputs": [
    {
     "name": "stdout",
     "output_type": "stream",
     "text": [
      "['Pillars of the Earth']\n"
     ]
    }
   ],
   "source": [
    "my_dict[\"Historical Fiction\"] = [\"Pillars of the Earth\"]\n",
    "print my_dict[\"Historical Fiction\"]"
   ]
  },
  {
   "cell_type": "code",
   "execution_count": 102,
   "metadata": {},
   "outputs": [
    {
     "name": "stdout",
     "output_type": "stream",
     "text": [
      "['J Balvin']\n"
     ]
    }
   ],
   "source": [
    "music[\"Regueton\"] = [\"J Balvin\"]\n",
    "print music[\"Regueton\"]"
   ]
  },
  {
   "cell_type": "code",
   "execution_count": 103,
   "metadata": {},
   "outputs": [
    {
     "name": "stdout",
     "output_type": "stream",
     "text": [
      "{'Sci-fi': \"I can't read\", 'Weird Fiction': ['At the Mountains of Madness', 'The House on the Borderland'], 'High Fantasy': ['Wheel of Time', 'Lord of the Rings'], 'Historical Fiction': ['Pillars of the Earth']}\n"
     ]
    }
   ],
   "source": [
    "print my_dict"
   ]
  },
  {
   "cell_type": "code",
   "execution_count": 104,
   "metadata": {},
   "outputs": [
    {
     "name": "stdout",
     "output_type": "stream",
     "text": [
      "{'Hip-Hop': ['Agust D.', 'Eminem'], 'Rock': ['Nirvana', 'Rolling Stones', 'Pink Floyd'], 'Regueton': ['J Balvin'], 'Pop': \"That's not music\", 'Metal': ['Ghost', 'Slipknot']}\n"
     ]
    }
   ],
   "source": [
    "print music"
   ]
  },
  {
   "cell_type": "markdown",
   "metadata": {},
   "source": [
    "## String Shenanigans\n",
    "\n",
    "We already know that strings are generally used for text. We can used built-in operations to combine, split, and format strings easily, depending on our needs.\n",
    "\n",
    "The `+` symbol indicates concatenation in string language. It will combine two strings into a longer string."
   ]
  },
  {
   "cell_type": "code",
   "execution_count": 105,
   "metadata": {},
   "outputs": [
    {
     "name": "stdout",
     "output_type": "stream",
     "text": [
      "\"Beware the Jabberwock, my son! /The jaws that bite, the claws that catch! /Beware the Jubjub bird, and shun /The frumious Bandersnatch!\"/\n"
     ]
    }
   ],
   "source": [
    "first_string = '\"Beware the Jabberwock, my son! /The jaws that bite, the claws that catch! /'\n",
    "second_string = 'Beware the Jubjub bird, and shun /The frumious Bandersnatch!\"/'\n",
    "third_string = first_string + second_string\n",
    "print third_string"
   ]
  },
  {
   "cell_type": "code",
   "execution_count": 106,
   "metadata": {},
   "outputs": [
    {
     "name": "stdout",
     "output_type": "stream",
     "text": [
      "This is getting heavy, can you hear the bass boom? I'm ready!\n"
     ]
    }
   ],
   "source": [
    "string1 = 'This is getting heavy, can you hear the bass boom? '\n",
    "string2 = \"I'm ready!\"\n",
    "string3 = string1 + string2\n",
    "print string3"
   ]
  },
  {
   "cell_type": "markdown",
   "metadata": {},
   "source": [
    "Strings are also indexed much in the same way that lists are."
   ]
  },
  {
   "cell_type": "code",
   "execution_count": 107,
   "metadata": {},
   "outputs": [
    {
     "name": "stdout",
     "output_type": "stream",
     "text": [
      "The first letter is:  S\n",
      "The last letter is:  s\n",
      "The second to last letter is:  u\n",
      "The first five characters are:  Super\n",
      "Reverse it!:  suoicodilaipxecitsiligarfilacrepuS\n"
     ]
    }
   ],
   "source": [
    "my_string = 'Supercalifragilisticexpialidocious'\n",
    "print 'The first letter is: ', my_string[0] # Uppercase S\n",
    "print 'The last letter is: ', my_string[-1] # lowercase s\n",
    "print 'The second to last letter is: ', my_string[-2] # lowercase u\n",
    "print 'The first five characters are: ', my_string[0:5] # Remember: slicing doesn't include the final element!\n",
    "print 'Reverse it!: ', my_string[::-1]"
   ]
  },
  {
   "cell_type": "code",
   "execution_count": 108,
   "metadata": {},
   "outputs": [
    {
     "name": "stdout",
     "output_type": "stream",
     "text": [
      "The first letter is:  l\n",
      "The last letter is:  y\n",
      "The second to last letter is:  e\n",
      "The first five characters are:  life \n",
      "Reverse it!:  yenom ekil gnihc-ahc taeb siht haey ,yenoh sa teews s'ti efil\n"
     ]
    }
   ],
   "source": [
    "string = \"life it's sweet as honey, yeah this beat cha-ching like money\"\n",
    "print 'The first letter is: ', string[0] # lowercase l\n",
    "print 'The last letter is: ', string[-1] # lowercase y\n",
    "print 'The second to last letter is: ', string[-2] # lowercase e\n",
    "print 'The first five characters are: ', string[0:5] # Remember: slicing doesn't include the final element!\n",
    "print 'Reverse it!: ', string[::-1]"
   ]
  },
  {
   "cell_type": "markdown",
   "metadata": {},
   "source": [
    "Built-in objects and classes often have special functions associated with them that are called methods. We access these methods by using a period ('.'). We will cover objects and their associated methods more in another lecture!\n",
    "\n",
    "Using string methods we can count instances of a character or group of characters."
   ]
  },
  {
   "cell_type": "code",
   "execution_count": 109,
   "metadata": {
    "scrolled": true
   },
   "outputs": [
    {
     "name": "stdout",
     "output_type": "stream",
     "text": [
      "Count of the letter i in Supercalifragilisticexpialidocious:  7\n",
      "Count of \"li\" in the same word:  3\n"
     ]
    }
   ],
   "source": [
    "print 'Count of the letter i in Supercalifragilisticexpialidocious: ', my_string.count('i')\n",
    "print 'Count of \"li\" in the same word: ', my_string.count('li')"
   ]
  },
  {
   "cell_type": "code",
   "execution_count": 110,
   "metadata": {},
   "outputs": [
    {
     "name": "stdout",
     "output_type": "stream",
     "text": [
      "Count of the letter i in  life it's sweet as honey, yeah this beat cha-ching like money :  5\n",
      "Count of \"li\" in the same word:  2\n"
     ]
    }
   ],
   "source": [
    "print 'Count of the letter i in ', string,\": \", string.count('i')\n",
    "print 'Count of \"li\" in the same word: ', string.count('li')"
   ]
  },
  {
   "cell_type": "markdown",
   "metadata": {},
   "source": [
    "We can also find the first instance of a character or group of characters in a string."
   ]
  },
  {
   "cell_type": "code",
   "execution_count": 111,
   "metadata": {},
   "outputs": [
    {
     "name": "stdout",
     "output_type": "stream",
     "text": [
      "The first time i appears is at index:  8\n"
     ]
    }
   ],
   "source": [
    "print 'The first time i appears is at index: ', my_string.find('i')"
   ]
  },
  {
   "cell_type": "code",
   "execution_count": 112,
   "metadata": {},
   "outputs": [
    {
     "name": "stdout",
     "output_type": "stream",
     "text": [
      "The first time i appears is at index:  1\n"
     ]
    }
   ],
   "source": [
    "print 'The first time i appears is at index: ', string.find('i')"
   ]
  },
  {
   "cell_type": "markdown",
   "metadata": {},
   "source": [
    "As well as replace characters in a string."
   ]
  },
  {
   "cell_type": "code",
   "execution_count": 113,
   "metadata": {},
   "outputs": [
    {
     "name": "stdout",
     "output_type": "stream",
     "text": [
      "All i's are now a's:  Supercalafragalastacexpaaladocaous\n"
     ]
    }
   ],
   "source": [
    "print \"All i's are now a's: \", my_string.replace('i', 'a')"
   ]
  },
  {
   "cell_type": "code",
   "execution_count": 114,
   "metadata": {},
   "outputs": [
    {
     "name": "stdout",
     "output_type": "stream",
     "text": [
      "All i's are now y's:  lyfe yt's sweet as honey, yeah thys beat cha-chyng lyke money\n"
     ]
    }
   ],
   "source": [
    "print \"All i's are now y's: \", string.replace('i', 'y')"
   ]
  },
  {
   "cell_type": "code",
   "execution_count": 115,
   "metadata": {},
   "outputs": [
    {
     "name": "stdout",
     "output_type": "stream",
     "text": [
      "It's raining cats and more cats\n"
     ]
    }
   ],
   "source": [
    "print \"It's raining cats and dogs\".replace('dogs', 'more cats')"
   ]
  },
  {
   "cell_type": "code",
   "execution_count": 116,
   "metadata": {},
   "outputs": [
    {
     "name": "stdout",
     "output_type": "stream",
     "text": [
      "It's raining bloooooooooood and dogs\n"
     ]
    }
   ],
   "source": [
    "print \"It's raining cats and dogs\".replace('cats', 'bloooooooooood')"
   ]
  },
  {
   "cell_type": "markdown",
   "metadata": {},
   "source": [
    "There are also some methods that are unique to strings. The function `upper()` will convert all characters in a string to uppercase, while `lower()` will convert all characters in a string to lowercase!"
   ]
  },
  {
   "cell_type": "code",
   "execution_count": 117,
   "metadata": {},
   "outputs": [
    {
     "name": "stdout",
     "output_type": "stream",
     "text": [
      "I CAN'T HEAR YOU\n",
      "i said hello\n"
     ]
    }
   ],
   "source": [
    "my_string = \"I can't hear you\"\n",
    "print my_string.upper()\n",
    "my_string = \"I said HELLO\"\n",
    "print my_string.lower()"
   ]
  },
  {
   "cell_type": "code",
   "execution_count": 118,
   "metadata": {},
   "outputs": [
    {
     "name": "stdout",
     "output_type": "stream",
     "text": [
      "BRING YOUR FRIEND JOIN THE CROWD\n",
      "whoever wanna come along\n"
     ]
    }
   ],
   "source": [
    "my_string = \"bring YOUR friend join the crowd\"\n",
    "print my_string.upper()\n",
    "my_string = \"whoever WANNA COME along\"\n",
    "print my_string.lower()"
   ]
  },
  {
   "cell_type": "markdown",
   "metadata": {},
   "source": [
    "### String Formatting\n",
    "\n",
    "Using the `format()` method we can add in variable values and generally format our strings."
   ]
  },
  {
   "cell_type": "code",
   "execution_count": 119,
   "metadata": {},
   "outputs": [
    {
     "name": "stdout",
     "output_type": "stream",
     "text": [
      "Marco Polo\n"
     ]
    }
   ],
   "source": [
    "my_string = \"{0} {1}\".format('Marco', 'Polo')\n",
    "print my_string"
   ]
  },
  {
   "cell_type": "code",
   "execution_count": 120,
   "metadata": {},
   "outputs": [
    {
     "name": "stdout",
     "output_type": "stream",
     "text": [
      "Jean Louis Grenord\n"
     ]
    }
   ],
   "source": [
    "mi_string = \"{0} {1} {2}\".format('Jean', 'Louis', \"Grenord\")\n",
    "print mi_string"
   ]
  },
  {
   "cell_type": "code",
   "execution_count": 121,
   "metadata": {},
   "outputs": [
    {
     "name": "stdout",
     "output_type": "stream",
     "text": [
      "Polo Marco\n"
     ]
    }
   ],
   "source": [
    "my_string = \"{1} {0}\".format('Marco', 'Polo')\n",
    "print my_string"
   ]
  },
  {
   "cell_type": "code",
   "execution_count": 122,
   "metadata": {},
   "outputs": [
    {
     "name": "stdout",
     "output_type": "stream",
     "text": [
      "Louis Grenord Jean\n"
     ]
    }
   ],
   "source": [
    "mi_string = \"{1} {2} {0}\".format('Jean', 'Louis', 'Grenord')\n",
    "print mi_string"
   ]
  },
  {
   "cell_type": "markdown",
   "metadata": {},
   "source": [
    "We use braces (`{}`) to indicate parts of the string that will be filled in later and we use the arguments of the `format()` function to provide the values to substitute. The numbers within the braces indicate the index of the value in the `format()` arguments."
   ]
  },
  {
   "cell_type": "markdown",
   "metadata": {},
   "source": [
    "See the `format()` [documentation](https://docs.python.org/2/library/string.html#format-examples) for additional examples."
   ]
  },
  {
   "cell_type": "markdown",
   "metadata": {},
   "source": [
    "If you need some quick and dirty formatting, you can instead use the `%` symbol, called the string formatting operator. "
   ]
  },
  {
   "cell_type": "code",
   "execution_count": 123,
   "metadata": {},
   "outputs": [
    {
     "name": "stdout",
     "output_type": "stream",
     "text": [
      "insert value here\n"
     ]
    }
   ],
   "source": [
    "print 'insert %s here' % 'value'"
   ]
  },
  {
   "cell_type": "code",
   "execution_count": 124,
   "metadata": {},
   "outputs": [
    {
     "name": "stdout",
     "output_type": "stream",
     "text": [
      "one two three\n"
     ]
    }
   ],
   "source": [
    "print 'one %s three' % 'two'"
   ]
  },
  {
   "cell_type": "markdown",
   "metadata": {},
   "source": [
    "The `%` symbol basically cues Python to create a placeholder. Whatever character follows the `%` (in the string) indicates what sort of type the value put into the placeholder will have. This character is called a *conversion type*. Once the string has been closed, we need another `%` that will be followed by the values to insert. In the case of one value, you can just put it there. If you are inserting more than one value, they must be enclosed in a tuple."
   ]
  },
  {
   "cell_type": "code",
   "execution_count": 125,
   "metadata": {},
   "outputs": [
    {
     "name": "stdout",
     "output_type": "stream",
     "text": [
      "There are 13 cats in my apartment\n"
     ]
    }
   ],
   "source": [
    "print 'There are %s cats in my %s' % (13, 'apartment')"
   ]
  },
  {
   "cell_type": "code",
   "execution_count": 126,
   "metadata": {},
   "outputs": [
    {
     "name": "stdout",
     "output_type": "stream",
     "text": [
      "There are 2 dogs in my house\n"
     ]
    }
   ],
   "source": [
    "print 'There are %s dogs in my %s' % (2, 'house')"
   ]
  },
  {
   "cell_type": "markdown",
   "metadata": {},
   "source": [
    "In these examples, the `%s` indicates that Python should convert the values into strings. There are multiple conversion types that you can use to get more specific with the the formatting. See the string formatting [documentation](https://docs.python.org/2/library/stdtypes.html#string-formatting) for additional examples and more complete details on use."
   ]
  },
  {
   "cell_type": "markdown",
   "metadata": {},
   "source": [
    "## Logical Operators\n",
    "### Basic Logic\n",
    "\n",
    "Logical operators deal with `boolean` values, as we briefly covered before. If you recall, a `bool` takes on one of two values, `True` or `False` (or $1$ or $0$). The basic logical statements that we can make are defined using the built-in comparators. These are `==` (equal), `!=` (not equal), `<` (less than), `>` (greater than), `<=` (less than or equal to), and `>=` (greater than or equal to)."
   ]
  },
  {
   "cell_type": "code",
   "execution_count": 127,
   "metadata": {},
   "outputs": [
    {
     "name": "stdout",
     "output_type": "stream",
     "text": [
      "True\n"
     ]
    }
   ],
   "source": [
    "print 5 == 5"
   ]
  },
  {
   "cell_type": "code",
   "execution_count": 128,
   "metadata": {},
   "outputs": [
    {
     "name": "stdout",
     "output_type": "stream",
     "text": [
      "True\n"
     ]
    }
   ],
   "source": [
    "print 7==8-3+2"
   ]
  },
  {
   "cell_type": "code",
   "execution_count": 129,
   "metadata": {},
   "outputs": [
    {
     "name": "stdout",
     "output_type": "stream",
     "text": [
      "False\n"
     ]
    }
   ],
   "source": [
    "print 5 > 5"
   ]
  },
  {
   "cell_type": "code",
   "execution_count": 130,
   "metadata": {},
   "outputs": [
    {
     "name": "stdout",
     "output_type": "stream",
     "text": [
      "True\n"
     ]
    }
   ],
   "source": [
    "print 2<=5"
   ]
  },
  {
   "cell_type": "markdown",
   "metadata": {},
   "source": [
    "These comparators also work in conjunction with variables."
   ]
  },
  {
   "cell_type": "code",
   "execution_count": 131,
   "metadata": {},
   "outputs": [
    {
     "name": "stdout",
     "output_type": "stream",
     "text": [
      "True\n"
     ]
    }
   ],
   "source": [
    "m = 2\n",
    "n = 23\n",
    "print m < n"
   ]
  },
  {
   "cell_type": "code",
   "execution_count": 132,
   "metadata": {},
   "outputs": [
    {
     "name": "stdout",
     "output_type": "stream",
     "text": [
      "True\n"
     ]
    }
   ],
   "source": [
    "m1 = 202\n",
    "n1 = 27\n",
    "print m1 > n1"
   ]
  },
  {
   "cell_type": "markdown",
   "metadata": {},
   "source": [
    "We can string these comparators together to make more complex logical statements using the logical operators `or`, `and`, and `not`. "
   ]
  },
  {
   "cell_type": "code",
   "execution_count": 133,
   "metadata": {},
   "outputs": [
    {
     "name": "stdout",
     "output_type": "stream",
     "text": [
      "Statement 1 truth value: True\n",
      "Statement 2 truth value: True\n",
      "Statement 1 and Statement 2: True\n"
     ]
    }
   ],
   "source": [
    "statement_1 = 10 > 2\n",
    "statement_2 = 4 <= 6\n",
    "print \"Statement 1 truth value: {0}\".format(statement_1)\n",
    "print \"Statement 2 truth value: {0}\".format(statement_2)\n",
    "print \"Statement 1 and Statement 2: {0}\".format(statement_1 and statement_2)"
   ]
  },
  {
   "cell_type": "code",
   "execution_count": 134,
   "metadata": {},
   "outputs": [
    {
     "name": "stdout",
     "output_type": "stream",
     "text": [
      "Statement 11 truth value: False\n",
      "Statement 21 truth value: True\n",
      "Statement 11 and Statement 21: False\n"
     ]
    }
   ],
   "source": [
    "statement_11 = 12 > 23\n",
    "statement_21 = 3 <= 16\n",
    "print \"Statement 11 truth value: {0}\".format(statement_11)\n",
    "print \"Statement 21 truth value: {0}\".format(statement_21)\n",
    "print \"Statement 11 and Statement 21: {0}\".format(statement_11 and statement_21)"
   ]
  },
  {
   "cell_type": "markdown",
   "metadata": {},
   "source": [
    "The `or` operator performs a logical `or` calculation. This is an inclusive `or`, so if either component paired together by `or` is `True`, the whole statement will be `True`. The `and` statement only outputs `True` if all components that are `and`ed together are True. Otherwise it will output `False`. The `not` statement simply inverts the truth value of whichever statement follows it. So a `True` statement will be evaluated as `False` when a `not` is placed in front of it. Similarly, a `False` statement will become `True` when a `not` is in front of it.\n",
    "\n",
    "Say that we have two logical statements, or assertions, $P$ and $Q$. The truth table for the basic logical operators is as follows:\n",
    "\n",
    "|  P  |  Q  | `not` P| P `and` Q | P `or` Q|\n",
    "|:-----:|:-----:|:---:|:---:|:---:|\n",
    "| `True` | `True` | `False` | `True` | `True` |\n",
    "| `False` | `True` | `True` | `False` | `True` |\n",
    "| `True` | `False` | `False` | `False` | `True` |\n",
    "| `False` | `False` | `True` | `False` | `False` |\n",
    "\n",
    "We can string multiple logical statements together using the logical operators."
   ]
  },
  {
   "cell_type": "code",
   "execution_count": 135,
   "metadata": {},
   "outputs": [
    {
     "name": "stdout",
     "output_type": "stream",
     "text": [
      "True\n"
     ]
    }
   ],
   "source": [
    "print (((2 < 3) and (3 > 0)) or ((5 > 6) and not (4 < 2)))"
   ]
  },
  {
   "cell_type": "code",
   "execution_count": 136,
   "metadata": {},
   "outputs": [
    {
     "name": "stdout",
     "output_type": "stream",
     "text": [
      "False\n"
     ]
    }
   ],
   "source": [
    "print (((3 < 3) and (3 > 0)) or ((5 > 6) and not (1 < 2)))"
   ]
  },
  {
   "cell_type": "markdown",
   "metadata": {},
   "source": [
    "Logical statements can be as simple or complex as we like, depending on what we need to express. Evaluating the above logical statement step by step we see that we are evaluating (`True and True`) `or` (`False and not False`). This becomes `True or (False and True`), subsequently becoming `True or False`, ultimately being evaluated as `True`."
   ]
  },
  {
   "cell_type": "markdown",
   "metadata": {},
   "source": [
    "#### Truthiness\n",
    "\n",
    "Data types in Python have a fun characteristic called truthiness. What this means is that most built-in types will evaluate as either `True` or `False` when a boolean value is needed (such as with an if-statement). As a general rule, containers like strings, tuples, dictionaries, lists, and sets, will return `True` if they contain anything at all and `False` if they contain nothing."
   ]
  },
  {
   "cell_type": "code",
   "execution_count": 137,
   "metadata": {},
   "outputs": [
    {
     "name": "stdout",
     "output_type": "stream",
     "text": [
      "False\n"
     ]
    }
   ],
   "source": [
    "# Similar to how float() and int() work, bool() forces a value to be considered a boolean!\n",
    "print bool('')"
   ]
  },
  {
   "cell_type": "code",
   "execution_count": 138,
   "metadata": {},
   "outputs": [
    {
     "name": "stdout",
     "output_type": "stream",
     "text": [
      "False\n"
     ]
    }
   ],
   "source": [
    "print bool(0)"
   ]
  },
  {
   "cell_type": "code",
   "execution_count": 139,
   "metadata": {},
   "outputs": [
    {
     "name": "stdout",
     "output_type": "stream",
     "text": [
      "True\n"
     ]
    }
   ],
   "source": [
    "print bool('I have character!')"
   ]
  },
  {
   "cell_type": "code",
   "execution_count": 140,
   "metadata": {},
   "outputs": [
    {
     "name": "stdout",
     "output_type": "stream",
     "text": [
      "True\n"
     ]
    }
   ],
   "source": [
    "print bool(12)"
   ]
  },
  {
   "cell_type": "code",
   "execution_count": 141,
   "metadata": {},
   "outputs": [
    {
     "name": "stdout",
     "output_type": "stream",
     "text": [
      "False\n"
     ]
    }
   ],
   "source": [
    "print bool([])"
   ]
  },
  {
   "cell_type": "code",
   "execution_count": 142,
   "metadata": {},
   "outputs": [
    {
     "name": "stdout",
     "output_type": "stream",
     "text": [
      "False\n"
     ]
    }
   ],
   "source": [
    "print bool({})"
   ]
  },
  {
   "cell_type": "code",
   "execution_count": 143,
   "metadata": {},
   "outputs": [
    {
     "name": "stdout",
     "output_type": "stream",
     "text": [
      "True\n"
     ]
    }
   ],
   "source": [
    "print bool([1, 2, 3])"
   ]
  },
  {
   "cell_type": "code",
   "execution_count": 144,
   "metadata": {},
   "outputs": [
    {
     "name": "stdout",
     "output_type": "stream",
     "text": [
      "True\n"
     ]
    }
   ],
   "source": [
    "print bool({0,1})"
   ]
  },
  {
   "cell_type": "markdown",
   "metadata": {},
   "source": [
    "And so on, for the other collections and containers. `None` also evaluates as `False`. The number `1` is equivalent to `True` and the number `0` is equivalent to `False` as well, in a boolean context."
   ]
  },
  {
   "cell_type": "markdown",
   "metadata": {},
   "source": [
    "### If-statements\n",
    "\n",
    "We can create segments of code that only execute if a set of conditions is met. We use if-statements in conjunction with logical statements in order to create branches in our code. \n",
    "\n",
    "An `if` block gets entered when the condition is considered to be `True`. If condition is evaluated as `False`, the `if` block will simply be skipped unless there is an `else` block to accompany it. Conditions are made using either logical operators or by using the truthiness of values in Python. An if-statement is defined with a colon and a block of indented text."
   ]
  },
  {
   "cell_type": "code",
   "execution_count": 145,
   "metadata": {},
   "outputs": [
    {
     "name": "stdout",
     "output_type": "stream",
     "text": [
      "True\n"
     ]
    }
   ],
   "source": [
    "# This is the basic format of an if statement. This is a vacuous example. \n",
    "# The string \"Condition\" will always evaluated as True because it is a\n",
    "# non-empty string. he purpose of this code is to show the formatting of\n",
    "# an if-statement.\n",
    "if \"Condition\": \n",
    "    # This block of code will execute because the string is non-empty\n",
    "    # Everything on these indented lines\n",
    "    print True\n",
    "else:\n",
    "    # So if the condition that we examined with if is in fact False\n",
    "    # This block of code will execute INSTEAD of the first block of code\n",
    "    # Everything on these indented lines\n",
    "    print False\n",
    "# The else block here will never execute because \"Condition\" is a non-empty string."
   ]
  },
  {
   "cell_type": "code",
   "execution_count": 146,
   "metadata": {},
   "outputs": [
    {
     "name": "stdout",
     "output_type": "stream",
     "text": [
      "False\n"
     ]
    }
   ],
   "source": [
    "if \"\":\n",
    "    print True\n",
    "else:\n",
    "    print False"
   ]
  },
  {
   "cell_type": "code",
   "execution_count": 147,
   "metadata": {},
   "outputs": [
    {
     "name": "stdout",
     "output_type": "stream",
     "text": [
      "The variable i has a value of 5\n"
     ]
    }
   ],
   "source": [
    "i = 5\n",
    "if i == 5:\n",
    "    print 'The variable i has a value of 5'"
   ]
  },
  {
   "cell_type": "code",
   "execution_count": 148,
   "metadata": {},
   "outputs": [
    {
     "name": "stdout",
     "output_type": "stream",
     "text": [
      "The variable i has a value of 6\n"
     ]
    }
   ],
   "source": [
    "i = 6\n",
    "if i == 6:\n",
    "    print 'The variable i has a value of 6'"
   ]
  },
  {
   "cell_type": "markdown",
   "metadata": {},
   "source": [
    "Because in this example `i = 4` and the if-statement is only looking for whether `i` is equal to `5`, the print statement will never be executed. We can add in an `else` statement to create a contingency block of code in case the condition in the if-statement is not evaluated as `True`."
   ]
  },
  {
   "cell_type": "code",
   "execution_count": 149,
   "metadata": {},
   "outputs": [
    {
     "name": "stdout",
     "output_type": "stream",
     "text": [
      "All lines in this indented block are part of this block\n",
      "The variable i is not equal to 5\n"
     ]
    }
   ],
   "source": [
    "i = 4\n",
    "if i == 5:\n",
    "    print \"All lines in this indented block are part of this block\"\n",
    "    print 'The variable i has a value of 5'\n",
    "else:\n",
    "    print \"All lines in this indented block are part of this block\"\n",
    "    print 'The variable i is not equal to 5'"
   ]
  },
  {
   "cell_type": "code",
   "execution_count": 150,
   "metadata": {},
   "outputs": [
    {
     "name": "stdout",
     "output_type": "stream",
     "text": [
      "All lines in this indented block are part of this block\n",
      "The variable i has a value of 52\n"
     ]
    }
   ],
   "source": [
    "i = 52\n",
    "if i == 52:\n",
    "    print \"All lines in this indented block are part of this block\"\n",
    "    print 'The variable i has a value of 52'\n",
    "else:\n",
    "    print \"All lines in this indented block are part of this block\"\n",
    "    print 'The variable i is not equal to 52'"
   ]
  },
  {
   "cell_type": "markdown",
   "metadata": {},
   "source": [
    "We can implement other branches off of the same if-statement by using `elif`, an abbreviation of \"else if\". We can include as many `elifs` as we like until we have exhausted all the logical branches of a condition."
   ]
  },
  {
   "cell_type": "code",
   "execution_count": 151,
   "metadata": {},
   "outputs": [
    {
     "name": "stdout",
     "output_type": "stream",
     "text": [
      "The variable i has a value of 1\n"
     ]
    }
   ],
   "source": [
    "i = 1\n",
    "if i == 1:\n",
    "    print 'The variable i has a value of 1'\n",
    "elif i == 2:\n",
    "    print 'The variable i has a value of 2'\n",
    "elif i == 3:\n",
    "    print 'The variable i has a value of 3'\n",
    "else:\n",
    "    print \"I don't care what i is\""
   ]
  },
  {
   "cell_type": "code",
   "execution_count": 152,
   "metadata": {},
   "outputs": [
    {
     "name": "stdout",
     "output_type": "stream",
     "text": [
      "I don't care what i is\n"
     ]
    }
   ],
   "source": [
    "j = 5\n",
    "if j == 10:\n",
    "    print 'The variable i has a value of 10'\n",
    "elif j == -2:\n",
    "    print 'The variable i has a value of -2'\n",
    "elif j == 4:\n",
    "    print 'The variable i has a value of 4'\n",
    "else:\n",
    "    print \"I don't care what i is\""
   ]
  },
  {
   "cell_type": "markdown",
   "metadata": {},
   "source": [
    "You can also nest if-statements within if-statements to check for further conditions."
   ]
  },
  {
   "cell_type": "code",
   "execution_count": 153,
   "metadata": {},
   "outputs": [
    {
     "name": "stdout",
     "output_type": "stream",
     "text": [
      "i is divisible by both 2 and 5! Wow!\n"
     ]
    }
   ],
   "source": [
    "i = 10\n",
    "if i % 2 == 0:\n",
    "    if i % 3 == 0:\n",
    "        print 'i is divisible by both 2 and 3! Wow!'\n",
    "    elif i % 5 == 0:\n",
    "        print 'i is divisible by both 2 and 5! Wow!'\n",
    "    else:\n",
    "        print 'i is divisible by 2, but not 3 or 5. Meh.'\n",
    "else:\n",
    "    print 'I guess that i is an odd number. Boring.'"
   ]
  },
  {
   "cell_type": "code",
   "execution_count": 154,
   "metadata": {},
   "outputs": [
    {
     "name": "stdout",
     "output_type": "stream",
     "text": [
      "i is divisible by 2, 3 and 5! UNBELIEVABLE!\n"
     ]
    }
   ],
   "source": [
    "i = 30\n",
    "if i % 2 == 0:\n",
    "    if (i % 3 == 0)and(i%5==0):\n",
    "        print 'i is divisible by 2, 3 and 5! UNBELIEVABLE!'\n",
    "    elif i%3==0:\n",
    "        print 'i is divisible by both 2 and 3! Wow!'\n",
    "    elif i % 5 == 0:\n",
    "        print 'i is divisible by both 2 and 5! Wow!'\n",
    "    else:\n",
    "        print 'i is divisible by 2, but not 3 or 5. Meh.'\n",
    "else:\n",
    "    print 'I guess that i is an odd number. Boring.'"
   ]
  },
  {
   "cell_type": "markdown",
   "metadata": {},
   "source": [
    "Remember that we can group multiple conditions together by using the logical operators!"
   ]
  },
  {
   "cell_type": "code",
   "execution_count": 155,
   "metadata": {},
   "outputs": [
    {
     "name": "stdout",
     "output_type": "stream",
     "text": [
      "5 is less than 10 and 12 is greater than 11! How novel and interesting!\n"
     ]
    }
   ],
   "source": [
    "i = 5\n",
    "j = 12\n",
    "if i < 10 and j > 11:\n",
    "    print '{0} is less than 10 and {1} is greater than 11! How novel and interesting!'.format(i, j)"
   ]
  },
  {
   "cell_type": "code",
   "execution_count": 156,
   "metadata": {},
   "outputs": [
    {
     "name": "stdout",
     "output_type": "stream",
     "text": [
      "8 is greater than 6 and 15 is greater than 14! How novel and interesting!\n"
     ]
    }
   ],
   "source": [
    "i = 8\n",
    "j = 15\n",
    "if i > 6 and j > 14:\n",
    "    print '{0} is greater than 6 and {1} is greater than 14! How novel and interesting!'.format(i, j)"
   ]
  },
  {
   "cell_type": "markdown",
   "metadata": {},
   "source": [
    "You can use the logical comparators to compare strings!"
   ]
  },
  {
   "cell_type": "code",
   "execution_count": 157,
   "metadata": {},
   "outputs": [
    {
     "name": "stdout",
     "output_type": "stream",
     "text": [
      "And so it was! For the glory of Rome!\n"
     ]
    }
   ],
   "source": [
    "my_string = \"Carthago delenda est\"\n",
    "if my_string == \"Carthago delenda est\":\n",
    "    print 'And so it was! For the glory of Rome!'\n",
    "else:\n",
    "    print 'War elephants are TERRIFYING. I am staying home.'"
   ]
  },
  {
   "cell_type": "code",
   "execution_count": 158,
   "metadata": {},
   "outputs": [
    {
     "name": "stdout",
     "output_type": "stream",
     "text": [
      "You so fine!...\n"
     ]
    }
   ],
   "source": [
    "my_string1 = \"I'm so fine\"\n",
    "if my_string1 == \"I'm so fine\":\n",
    "    print 'You so fine!...'\n",
    "else:\n",
    "    print ':c'"
   ]
  },
  {
   "cell_type": "markdown",
   "metadata": {},
   "source": [
    "As with other data types, `==` will check for whether the two things on either side of it have the same value. In this case, we compare whether the value of the strings are the same. Using `>` or `<` or any of the other comparators is not quite so intuitive, however, so we will stay from using comparators with strings in this lecture. Comparators will examine the [lexicographical order](https://en.wikipedia.org/wiki/Lexicographical_order) of the strings, which might be a bit more in-depth than you might like."
   ]
  },
  {
   "cell_type": "markdown",
   "metadata": {},
   "source": [
    "Some built-in functions return a boolean value, so they can be used as conditions in an if-statement. User-defined functions can also be constructed so that they return a boolean value. This will be covered later with function definition!\n",
    "\n",
    "The `in` keyword is generally used to check membership of a value within another value. We can check memebership in the context of an if-statement and use it to output a truth value."
   ]
  },
  {
   "cell_type": "code",
   "execution_count": 159,
   "metadata": {},
   "outputs": [
    {
     "name": "stdout",
     "output_type": "stream",
     "text": [
      "Those are my favorite vowels!\n"
     ]
    }
   ],
   "source": [
    "if 'a' in my_string or 'e' in my_string:\n",
    "    print 'Those are my favorite vowels!'"
   ]
  },
  {
   "cell_type": "code",
   "execution_count": 160,
   "metadata": {},
   "outputs": [
    {
     "name": "stdout",
     "output_type": "stream",
     "text": [
      "This is my favorite word!\n"
     ]
    }
   ],
   "source": [
    "if 'fine' in my_string1:\n",
    "    print 'This is my favorite word!'"
   ]
  },
  {
   "cell_type": "markdown",
   "metadata": {},
   "source": [
    "Here we use `in` to check whether the variable `my_string` contains any particular letters. We will later use `in` to iterate through lists!"
   ]
  },
  {
   "cell_type": "markdown",
   "metadata": {},
   "source": [
    "## Loop Structures\n",
    "\n",
    "Loop structures are one of the most important parts of programming. The `for` loop and the `while` loop provide a way to repeatedly run a block of code repeatedly. A `while` loop will iterate until a certain condition has been met. If at any point after an iteration that condition is no longer satisfied, the loop terminates. A `for` loop will iterate over a sequence of values and terminate when the sequence has ended. You can instead include conditions within the `for` loop to decide whether it should terminate early or you could simply let it run its course."
   ]
  },
  {
   "cell_type": "code",
   "execution_count": 161,
   "metadata": {},
   "outputs": [
    {
     "name": "stdout",
     "output_type": "stream",
     "text": [
      "I am looping! 4 more to go!\n",
      "I am looping! 3 more to go!\n",
      "I am looping! 2 more to go!\n",
      "I am looping! 1 more to go!\n",
      "I am looping! 0 more to go!\n"
     ]
    }
   ],
   "source": [
    "i = 5\n",
    "while i > 0: # We can write this as 'while i:' because 0 is False!\n",
    "    i -= 1\n",
    "    print 'I am looping! {0} more to go!'.format(i)"
   ]
  },
  {
   "cell_type": "code",
   "execution_count": 162,
   "metadata": {},
   "outputs": [
    {
     "name": "stdout",
     "output_type": "stream",
     "text": [
      "I am looping! 8 more to go!\n",
      "I am looping! 6 more to go!\n",
      "I am looping! 4 more to go!\n",
      "I am looping! 2 more to go!\n"
     ]
    }
   ],
   "source": [
    "i = 10\n",
    "while i >= 4: # We can write this as 'while i:' because 0 is False!\n",
    "    i -= 2\n",
    "    print 'I am looping! {0} more to go!'.format(i)"
   ]
  },
  {
   "cell_type": "markdown",
   "metadata": {},
   "source": [
    "\n",
    "With `while` loops we need to make sure that something actually changes from iteration to iteration so that that the loop actually terminates. In this case, we use the shorthand `i -= 1` (short for `i = i - 1`) so that the value of `i` gets smaller with each iteration. Eventually `i` will be reduced to `0`, rendering the condition `False` and exiting the loop."
   ]
  },
  {
   "cell_type": "markdown",
   "metadata": {},
   "source": [
    "A `for` loop iterates a set number of times, determined when you state the entry into the loop. In this case we are iterating over the list returned from `range()`. The `for` loop selects a value from the list, in order, and temporarily assigns the value of `i` to it so that operations can be performed with the value."
   ]
  },
  {
   "cell_type": "code",
   "execution_count": 163,
   "metadata": {},
   "outputs": [
    {
     "name": "stdout",
     "output_type": "stream",
     "text": [
      "I am looping! I have looped 1 times!\n",
      "I am looping! I have looped 2 times!\n",
      "I am looping! I have looped 3 times!\n",
      "I am looping! I have looped 4 times!\n",
      "I am looping! I have looped 5 times!\n"
     ]
    }
   ],
   "source": [
    "for i in range(5):\n",
    "    print 'I am looping! I have looped {0} times!'.format(i + 1)"
   ]
  },
  {
   "cell_type": "code",
   "execution_count": 164,
   "metadata": {},
   "outputs": [
    {
     "name": "stdout",
     "output_type": "stream",
     "text": [
      "I am looping! I have looped 1 times!\n",
      "I am looping! I have looped 2 times!\n",
      "I am looping! I have looped 3 times!\n",
      "I am looping! I have looped 4 times!\n",
      "I am looping! I have looped 5 times!\n",
      "I am looping! I have looped 6 times!\n",
      "I am looping! I have looped 7 times!\n",
      "I am looping! I have looped 8 times!\n",
      "I am looping! I have looped 9 times!\n",
      "I am looping! I have looped 10 times!\n",
      "I am looping! I have looped 11 times!\n",
      "I am looping! I have looped 12 times!\n"
     ]
    }
   ],
   "source": [
    "for i in range(12):\n",
    "    print 'I am looping! I have looped {0} times!'.format(i +1)"
   ]
  },
  {
   "cell_type": "markdown",
   "metadata": {},
   "source": [
    "Note that in this `for` loop we use the `in` keyword. Use of the `in` keyword is not limited to checking for membership as in the if-statement example. You can iterate over any collection with a `for` loop by using the `in` keyword.\n",
    "\n",
    "In this next example, we will iterate over a `set` because we want to check for containment and add to a new set."
   ]
  },
  {
   "cell_type": "code",
   "execution_count": 165,
   "metadata": {},
   "outputs": [
    {
     "name": "stdout",
     "output_type": "stream",
     "text": [
      "{'humans', 'cats', 'bats', 'cows', 'dogs'}\n"
     ]
    }
   ],
   "source": [
    "my_list = {'cats', 'dogs', 'lizards', 'cows', 'bats', 'sponges', 'humans'} # Lists all the animals in the world\n",
    "mammal_list = {'cats', 'dogs', 'cows', 'bats', 'humans'} # Lists all the mammals in the world\n",
    "my_new_list = set()\n",
    "for animal in my_list:\n",
    "    if animal in mammal_list:\n",
    "        # This adds any animal that is both in my_list and mammal_list to my_new_list\n",
    "        my_new_list.add(animal)\n",
    "        \n",
    "print my_new_list"
   ]
  },
  {
   "cell_type": "code",
   "execution_count": 166,
   "metadata": {},
   "outputs": [
    {
     "name": "stdout",
     "output_type": "stream",
     "text": [
      "{'Agust D', 'Lisa', 'Reol'}\n"
     ]
    }
   ],
   "source": [
    "singer_list = {'Agust D', 'Reol', 'Lisa', 'Kurt Cobain', 'Chester Benington', 'Tobias Forge', 'Corey Taylor', \"Billie Eilish\"} # Lists all the animals in the world\n",
    "asian_list = {'Agust D', 'Reol', 'Lisa', 'Jungkook', 'IU'} # Lists all the mammals in the world\n",
    "asian_singer_list = set()\n",
    "for singer in singer_list:\n",
    "    if singer in asian_list:\n",
    "        # This adds any animal that is both in my_list and mammal_list to my_new_list\n",
    "        asian_singer_list.add(singer)\n",
    "        \n",
    "print asian_singer_list"
   ]
  },
  {
   "cell_type": "markdown",
   "metadata": {},
   "source": [
    "There are two statements that are very helpful in dealing with both `for` and `while` loops. These are `break` and `continue`. If `break` is encountered at any point while a loop is executing, the loop will immediately end."
   ]
  },
  {
   "cell_type": "code",
   "execution_count": 167,
   "metadata": {},
   "outputs": [
    {
     "name": "stdout",
     "output_type": "stream",
     "text": [
      "11\n",
      "12\n",
      "13\n",
      "14\n"
     ]
    }
   ],
   "source": [
    "i = 10\n",
    "while True:\n",
    "    if i == 14:\n",
    "        break\n",
    "    i += 1 # This is shorthand for i = i + 1. It increments i with each iteration.\n",
    "    print i"
   ]
  },
  {
   "cell_type": "code",
   "execution_count": 168,
   "metadata": {},
   "outputs": [
    {
     "name": "stdout",
     "output_type": "stream",
     "text": [
      "6\n",
      "5\n",
      "4\n",
      "3\n",
      "2\n",
      "1\n",
      "0\n",
      "-1\n",
      "-2\n",
      "-3\n",
      "-4\n",
      "-5\n",
      "-6\n",
      "-7\n",
      "-8\n",
      "-9\n",
      "-10\n",
      "-11\n",
      "-12\n",
      "-13\n",
      "-14\n",
      "-15\n"
     ]
    }
   ],
   "source": [
    "i = 7\n",
    "while True:\n",
    "    if i < -14:\n",
    "        break\n",
    "    i -= 1 # This is shorthand for i = i + 1. It increments i with each iteration.\n",
    "    print i"
   ]
  },
  {
   "cell_type": "code",
   "execution_count": 169,
   "metadata": {},
   "outputs": [
    {
     "name": "stdout",
     "output_type": "stream",
     "text": [
      "0\n",
      "1\n"
     ]
    }
   ],
   "source": [
    "for i in range(5):\n",
    "    if i == 2:\n",
    "        break\n",
    "    print i"
   ]
  },
  {
   "cell_type": "code",
   "execution_count": 170,
   "metadata": {},
   "outputs": [
    {
     "name": "stdout",
     "output_type": "stream",
     "text": [
      "0\n",
      "1\n",
      "2\n"
     ]
    }
   ],
   "source": [
    "for i in range(6):\n",
    "    if i == 3:\n",
    "        break\n",
    "    print i"
   ]
  },
  {
   "cell_type": "markdown",
   "metadata": {},
   "source": [
    "The `continue` statement will tell the loop to immediately end this iteration and continue onto the next iteration of the loop."
   ]
  },
  {
   "cell_type": "code",
   "execution_count": 171,
   "metadata": {},
   "outputs": [
    {
     "name": "stdout",
     "output_type": "stream",
     "text": [
      "1\n",
      "2\n",
      "4\n",
      "5\n"
     ]
    }
   ],
   "source": [
    "i = 0\n",
    "while i < 5:\n",
    "    i += 1\n",
    "    if i == 3:\n",
    "        continue\n",
    "    print i"
   ]
  },
  {
   "cell_type": "code",
   "execution_count": 172,
   "metadata": {},
   "outputs": [
    {
     "name": "stdout",
     "output_type": "stream",
     "text": [
      "1\n",
      "2\n",
      "3\n",
      "It's four!\n",
      "5\n",
      "6\n"
     ]
    }
   ],
   "source": [
    "i = 0\n",
    "while i < 6:\n",
    "    i += 1\n",
    "    if i == 4:\n",
    "        print \"It's four!\"\n",
    "        continue\n",
    "    print i"
   ]
  },
  {
   "cell_type": "markdown",
   "metadata": {},
   "source": [
    "This loop skips printing the number $3$ because of the `continue` statement that executes when we enter the if-statement. The code never sees the command to print the number $3$ because it has already moved to the next iteration. The `break` and `continue` statements are further tools to help you control the flow of your loops and, as a result, your code."
   ]
  },
  {
   "cell_type": "markdown",
   "metadata": {},
   "source": [
    "The variable that we use to iterate over a loop will retain its value when the loop exits. Similarly, any variables defined within the context of the loop will continue to exist outside of it."
   ]
  },
  {
   "cell_type": "code",
   "execution_count": 173,
   "metadata": {},
   "outputs": [
    {
     "name": "stdout",
     "output_type": "stream",
     "text": [
      "I am eternal! I am 0 and I exist everywhere!\n",
      "I am eternal! I am 1 and I exist everywhere!\n",
      "I am eternal! I am 2 and I exist everywhere!\n",
      "I am eternal! I am 3 and I exist everywhere!\n",
      "I am eternal! I am 4 and I exist everywhere!\n",
      "I persist! My value is 4\n",
      "I transcend the loop!\n"
     ]
    }
   ],
   "source": [
    "for i in range(5):\n",
    "    loop_string = 'I transcend the loop!'\n",
    "    print 'I am eternal! I am {0} and I exist everywhere!'.format(i)\n",
    "\n",
    "print 'I persist! My value is {0}'.format(i)\n",
    "print loop_string"
   ]
  },
  {
   "cell_type": "code",
   "execution_count": 174,
   "metadata": {},
   "outputs": [
    {
     "name": "stdout",
     "output_type": "stream",
     "text": [
      "I am eternal! I am 0 and I exist everywhere!\n",
      "I am eternal! I am 1 and I exist everywhere!\n",
      "I am eternal! I am 2 and I exist everywhere!\n",
      "I am eternal! I am 3 and I exist everywhere!\n",
      "I am eternal! I am 4 and I exist everywhere!\n",
      "I am eternal! I am 5 and I exist everywhere!\n",
      "I am eternal! I am 6 and I exist everywhere!\n",
      "I am eternal! I am 7 and I exist everywhere!\n",
      "I am eternal! I am 8 and I exist everywhere!\n",
      "I am eternal! I am 9 and I exist everywhere!\n",
      "I am eternal! I am 10 and I exist everywhere!\n",
      "I am eternal! I am 11 and I exist everywhere!\n",
      "I am eternal! I am 12 and I exist everywhere!\n",
      "I am eternal! I am 13 and I exist everywhere!\n",
      "I am eternal! I am 14 and I exist everywhere!\n",
      "I am eternal! I am 15 and I exist everywhere!\n",
      "I am eternal! I am 16 and I exist everywhere!\n",
      "I am eternal! I am 17 and I exist everywhere!\n",
      "I am eternal! I am 18 and I exist everywhere!\n",
      "I am eternal! I am 19 and I exist everywhere!\n",
      "I am eternal! I am 20 and I exist everywhere!\n",
      "I am eternal! I am 21 and I exist everywhere!\n",
      "I am eternal! I am 22 and I exist everywhere!\n",
      "I am eternal! I am 23 and I exist everywhere!\n",
      "I am eternal! I am 24 and I exist everywhere!\n",
      "I am eternal! I am 25 and I exist everywhere!\n",
      "I am eternal! I am 26 and I exist everywhere!\n",
      "I am eternal! I am 27 and I exist everywhere!\n",
      "I am eternal! I am 28 and I exist everywhere!\n",
      "I am eternal! I am 29 and I exist everywhere!\n",
      "I am eternal! I am 30 and I exist everywhere!\n",
      "I am eternal! I am 31 and I exist everywhere!\n",
      "I am eternal! I am 32 and I exist everywhere!\n",
      "I am eternal! I am 33 and I exist everywhere!\n",
      "I am eternal! I am 34 and I exist everywhere!\n",
      "I am eternal! I am 35 and I exist everywhere!\n",
      "I am eternal! I am 36 and I exist everywhere!\n",
      "I am eternal! I am 37 and I exist everywhere!\n",
      "I am eternal! I am 38 and I exist everywhere!\n",
      "I am eternal! I am 39 and I exist everywhere!\n",
      "I am eternal! I am 40 and I exist everywhere!\n",
      "I am eternal! I am 41 and I exist everywhere!\n",
      "I am eternal! I am 42 and I exist everywhere!\n",
      "I am eternal! I am 43 and I exist everywhere!\n",
      "I am eternal! I am 44 and I exist everywhere!\n",
      "I am eternal! I am 45 and I exist everywhere!\n",
      "I am eternal! I am 46 and I exist everywhere!\n",
      "I am eternal! I am 47 and I exist everywhere!\n",
      "I am eternal! I am 48 and I exist everywhere!\n",
      "I am eternal! I am 49 and I exist everywhere!\n",
      "I am eternal! I am 50 and I exist everywhere!\n",
      "I am eternal! I am 51 and I exist everywhere!\n",
      "I am eternal! I am 52 and I exist everywhere!\n",
      "I am eternal! I am 53 and I exist everywhere!\n",
      "I am eternal! I am 54 and I exist everywhere!\n",
      "I am eternal! I am 55 and I exist everywhere!\n",
      "I am eternal! I am 56 and I exist everywhere!\n",
      "I am eternal! I am 57 and I exist everywhere!\n",
      "I am eternal! I am 58 and I exist everywhere!\n",
      "I am eternal! I am 59 and I exist everywhere!\n",
      "I am eternal! I am 60 and I exist everywhere!\n",
      "I am eternal! I am 61 and I exist everywhere!\n",
      "I am eternal! I am 62 and I exist everywhere!\n",
      "I am eternal! I am 63 and I exist everywhere!\n",
      "I am eternal! I am 64 and I exist everywhere!\n",
      "I am eternal! I am 65 and I exist everywhere!\n",
      "I am eternal! I am 66 and I exist everywhere!\n",
      "I am eternal! I am 67 and I exist everywhere!\n",
      "I am eternal! I am 68 and I exist everywhere!\n",
      "I am eternal! I am 69 and I exist everywhere!\n",
      "I am eternal! I am 70 and I exist everywhere!\n",
      "I am eternal! I am 71 and I exist everywhere!\n",
      "I am eternal! I am 72 and I exist everywhere!\n",
      "I am eternal! I am 73 and I exist everywhere!\n",
      "I am eternal! I am 74 and I exist everywhere!\n",
      "I am eternal! I am 75 and I exist everywhere!\n",
      "I am eternal! I am 76 and I exist everywhere!\n",
      "I am eternal! I am 77 and I exist everywhere!\n",
      "I am eternal! I am 78 and I exist everywhere!\n",
      "I am eternal! I am 79 and I exist everywhere!\n",
      "I am eternal! I am 80 and I exist everywhere!\n",
      "I am eternal! I am 81 and I exist everywhere!\n",
      "I am eternal! I am 82 and I exist everywhere!\n",
      "I am eternal! I am 83 and I exist everywhere!\n",
      "I am eternal! I am 84 and I exist everywhere!\n",
      "I am eternal! I am 85 and I exist everywhere!\n",
      "I am eternal! I am 86 and I exist everywhere!\n",
      "I am eternal! I am 87 and I exist everywhere!\n",
      "I am eternal! I am 88 and I exist everywhere!\n",
      "I am eternal! I am 89 and I exist everywhere!\n",
      "I am eternal! I am 90 and I exist everywhere!\n",
      "I am eternal! I am 91 and I exist everywhere!\n",
      "I am eternal! I am 92 and I exist everywhere!\n",
      "I am eternal! I am 93 and I exist everywhere!\n",
      "I am eternal! I am 94 and I exist everywhere!\n",
      "I am eternal! I am 95 and I exist everywhere!\n",
      "I am eternal! I am 96 and I exist everywhere!\n",
      "I am eternal! I am 97 and I exist everywhere!\n",
      "I am eternal! I am 98 and I exist everywhere!\n",
      "I am eternal! I am 99 and I exist everywhere!\n",
      "I am eternal! I am 100 and I exist everywhere!\n",
      "I am eternal! I am 101 and I exist everywhere!\n",
      "I am eternal! I am 102 and I exist everywhere!\n",
      "I am eternal! I am 103 and I exist everywhere!\n",
      "I am eternal! I am 104 and I exist everywhere!\n",
      "I am eternal! I am 105 and I exist everywhere!\n",
      "I am eternal! I am 106 and I exist everywhere!\n",
      "I am eternal! I am 107 and I exist everywhere!\n",
      "I am eternal! I am 108 and I exist everywhere!\n",
      "I am eternal! I am 109 and I exist everywhere!\n",
      "I am eternal! I am 110 and I exist everywhere!\n",
      "I am eternal! I am 111 and I exist everywhere!\n",
      "I am eternal! I am 112 and I exist everywhere!\n",
      "I am eternal! I am 113 and I exist everywhere!\n",
      "I am eternal! I am 114 and I exist everywhere!\n",
      "I am eternal! I am 115 and I exist everywhere!\n",
      "I am eternal! I am 116 and I exist everywhere!\n",
      "I am eternal! I am 117 and I exist everywhere!\n",
      "I am eternal! I am 118 and I exist everywhere!\n",
      "I am eternal! I am 119 and I exist everywhere!\n",
      "I am eternal! I am 120 and I exist everywhere!\n",
      "I am eternal! I am 121 and I exist everywhere!\n",
      "I am eternal! I am 122 and I exist everywhere!\n",
      "I am eternal! I am 123 and I exist everywhere!\n",
      "I am eternal! I am 124 and I exist everywhere!\n",
      "I am eternal! I am 125 and I exist everywhere!\n",
      "I am eternal! I am 126 and I exist everywhere!\n",
      "I am eternal! I am 127 and I exist everywhere!\n",
      "I am eternal! I am 128 and I exist everywhere!\n",
      "I am eternal! I am 129 and I exist everywhere!\n",
      "I am eternal! I am 130 and I exist everywhere!\n",
      "I am eternal! I am 131 and I exist everywhere!\n",
      "I am eternal! I am 132 and I exist everywhere!\n",
      "I am eternal! I am 133 and I exist everywhere!\n",
      "I am eternal! I am 134 and I exist everywhere!\n",
      "I am eternal! I am 135 and I exist everywhere!\n",
      "I am eternal! I am 136 and I exist everywhere!\n",
      "I am eternal! I am 137 and I exist everywhere!\n",
      "I am eternal! I am 138 and I exist everywhere!\n",
      "I am eternal! I am 139 and I exist everywhere!\n",
      "I am eternal! I am 140 and I exist everywhere!\n",
      "I am eternal! I am 141 and I exist everywhere!\n",
      "I am eternal! I am 142 and I exist everywhere!\n",
      "I am eternal! I am 143 and I exist everywhere!\n",
      "I am eternal! I am 144 and I exist everywhere!\n",
      "I am eternal! I am 145 and I exist everywhere!\n",
      "I am eternal! I am 146 and I exist everywhere!\n",
      "I am eternal! I am 147 and I exist everywhere!\n",
      "I am eternal! I am 148 and I exist everywhere!\n",
      "I am eternal! I am 149 and I exist everywhere!\n",
      "I am eternal! I am 150 and I exist everywhere!\n",
      "I am eternal! I am 151 and I exist everywhere!\n",
      "I am eternal! I am 152 and I exist everywhere!\n",
      "I am eternal! I am 153 and I exist everywhere!\n",
      "I am eternal! I am 154 and I exist everywhere!\n",
      "I am eternal! I am 155 and I exist everywhere!\n",
      "I am eternal! I am 156 and I exist everywhere!\n",
      "I am eternal! I am 157 and I exist everywhere!\n",
      "I am eternal! I am 158 and I exist everywhere!\n",
      "I am eternal! I am 159 and I exist everywhere!\n",
      "I am eternal! I am 160 and I exist everywhere!\n",
      "I am eternal! I am 161 and I exist everywhere!\n",
      "I am eternal! I am 162 and I exist everywhere!\n",
      "I am eternal! I am 163 and I exist everywhere!\n",
      "I am eternal! I am 164 and I exist everywhere!\n",
      "I am eternal! I am 165 and I exist everywhere!\n",
      "I am eternal! I am 166 and I exist everywhere!\n",
      "I am eternal! I am 167 and I exist everywhere!\n",
      "I am eternal! I am 168 and I exist everywhere!\n",
      "I am eternal! I am 169 and I exist everywhere!\n",
      "I am eternal! I am 170 and I exist everywhere!\n",
      "I am eternal! I am 171 and I exist everywhere!\n",
      "I am eternal! I am 172 and I exist everywhere!\n",
      "I am eternal! I am 173 and I exist everywhere!\n",
      "I am eternal! I am 174 and I exist everywhere!\n",
      "I am eternal! I am 175 and I exist everywhere!\n",
      "I am eternal! I am 176 and I exist everywhere!\n",
      "I am eternal! I am 177 and I exist everywhere!\n",
      "I am eternal! I am 178 and I exist everywhere!\n",
      "I am eternal! I am 179 and I exist everywhere!\n",
      "I am eternal! I am 180 and I exist everywhere!\n",
      "I am eternal! I am 181 and I exist everywhere!\n",
      "I am eternal! I am 182 and I exist everywhere!\n",
      "I am eternal! I am 183 and I exist everywhere!\n",
      "I am eternal! I am 184 and I exist everywhere!\n",
      "I am eternal! I am 185 and I exist everywhere!\n",
      "I am eternal! I am 186 and I exist everywhere!\n",
      "I am eternal! I am 187 and I exist everywhere!\n",
      "I am eternal! I am 188 and I exist everywhere!\n",
      "I am eternal! I am 189 and I exist everywhere!\n",
      "I am eternal! I am 190 and I exist everywhere!\n",
      "I am eternal! I am 191 and I exist everywhere!\n",
      "I am eternal! I am 192 and I exist everywhere!\n",
      "I am eternal! I am 193 and I exist everywhere!\n",
      "I am eternal! I am 194 and I exist everywhere!\n",
      "I am eternal! I am 195 and I exist everywhere!\n",
      "I am eternal! I am 196 and I exist everywhere!\n",
      "I am eternal! I am 197 and I exist everywhere!\n",
      "I am eternal! I am 198 and I exist everywhere!\n",
      "I am eternal! I am 199 and I exist everywhere!\n",
      "I am eternal! I am 200 and I exist everywhere!\n",
      "I am eternal! I am 201 and I exist everywhere!\n",
      "I am eternal! I am 202 and I exist everywhere!\n",
      "I am eternal! I am 203 and I exist everywhere!\n",
      "I am eternal! I am 204 and I exist everywhere!\n",
      "I am eternal! I am 205 and I exist everywhere!\n",
      "I am eternal! I am 206 and I exist everywhere!\n",
      "I am eternal! I am 207 and I exist everywhere!\n",
      "I am eternal! I am 208 and I exist everywhere!\n",
      "I am eternal! I am 209 and I exist everywhere!\n",
      "I am eternal! I am 210 and I exist everywhere!\n",
      "I am eternal! I am 211 and I exist everywhere!\n",
      "I am eternal! I am 212 and I exist everywhere!\n",
      "I am eternal! I am 213 and I exist everywhere!\n",
      "I am eternal! I am 214 and I exist everywhere!\n",
      "I am eternal! I am 215 and I exist everywhere!\n",
      "I am eternal! I am 216 and I exist everywhere!\n",
      "I am eternal! I am 217 and I exist everywhere!\n",
      "I am eternal! I am 218 and I exist everywhere!\n",
      "I am eternal! I am 219 and I exist everywhere!\n",
      "I am eternal! I am 220 and I exist everywhere!\n",
      "I am eternal! I am 221 and I exist everywhere!\n",
      "I am eternal! I am 222 and I exist everywhere!\n",
      "I am eternal! I am 223 and I exist everywhere!\n",
      "I am eternal! I am 224 and I exist everywhere!\n",
      "I am eternal! I am 225 and I exist everywhere!\n",
      "I am eternal! I am 226 and I exist everywhere!\n",
      "I am eternal! I am 227 and I exist everywhere!\n",
      "I am eternal! I am 228 and I exist everywhere!\n",
      "I am eternal! I am 229 and I exist everywhere!\n",
      "I am eternal! I am 230 and I exist everywhere!\n",
      "I am eternal! I am 231 and I exist everywhere!\n",
      "I am eternal! I am 232 and I exist everywhere!\n",
      "I am eternal! I am 233 and I exist everywhere!\n",
      "I am eternal! I am 234 and I exist everywhere!\n",
      "I am eternal! I am 235 and I exist everywhere!\n",
      "I am eternal! I am 236 and I exist everywhere!\n",
      "I am eternal! I am 237 and I exist everywhere!\n",
      "I am eternal! I am 238 and I exist everywhere!\n",
      "I am eternal! I am 239 and I exist everywhere!\n",
      "I am eternal! I am 240 and I exist everywhere!\n",
      "I am eternal! I am 241 and I exist everywhere!\n",
      "I am eternal! I am 242 and I exist everywhere!\n"
     ]
    },
    {
     "name": "stdout",
     "output_type": "stream",
     "text": [
      "I am eternal! I am 243 and I exist everywhere!\n",
      "I am eternal! I am 244 and I exist everywhere!\n",
      "I am eternal! I am 245 and I exist everywhere!\n",
      "I am eternal! I am 246 and I exist everywhere!\n",
      "I am eternal! I am 247 and I exist everywhere!\n",
      "I am eternal! I am 248 and I exist everywhere!\n",
      "I am eternal! I am 249 and I exist everywhere!\n",
      "I am eternal! I am 250 and I exist everywhere!\n",
      "I am eternal! I am 251 and I exist everywhere!\n",
      "I am eternal! I am 252 and I exist everywhere!\n",
      "I am eternal! I am 253 and I exist everywhere!\n",
      "I am eternal! I am 254 and I exist everywhere!\n",
      "I am eternal! I am 255 and I exist everywhere!\n",
      "I am eternal! I am 256 and I exist everywhere!\n",
      "I am eternal! I am 257 and I exist everywhere!\n",
      "I am eternal! I am 258 and I exist everywhere!\n",
      "I am eternal! I am 259 and I exist everywhere!\n",
      "I am eternal! I am 260 and I exist everywhere!\n",
      "I am eternal! I am 261 and I exist everywhere!\n",
      "I am eternal! I am 262 and I exist everywhere!\n",
      "I am eternal! I am 263 and I exist everywhere!\n",
      "I am eternal! I am 264 and I exist everywhere!\n",
      "I am eternal! I am 265 and I exist everywhere!\n",
      "I am eternal! I am 266 and I exist everywhere!\n",
      "I am eternal! I am 267 and I exist everywhere!\n",
      "I am eternal! I am 268 and I exist everywhere!\n",
      "I am eternal! I am 269 and I exist everywhere!\n",
      "I am eternal! I am 270 and I exist everywhere!\n",
      "I am eternal! I am 271 and I exist everywhere!\n",
      "I am eternal! I am 272 and I exist everywhere!\n",
      "I am eternal! I am 273 and I exist everywhere!\n",
      "I am eternal! I am 274 and I exist everywhere!\n",
      "I am eternal! I am 275 and I exist everywhere!\n",
      "I am eternal! I am 276 and I exist everywhere!\n",
      "I am eternal! I am 277 and I exist everywhere!\n",
      "I am eternal! I am 278 and I exist everywhere!\n",
      "I am eternal! I am 279 and I exist everywhere!\n",
      "I am eternal! I am 280 and I exist everywhere!\n",
      "I am eternal! I am 281 and I exist everywhere!\n",
      "I am eternal! I am 282 and I exist everywhere!\n",
      "I am eternal! I am 283 and I exist everywhere!\n",
      "I am eternal! I am 284 and I exist everywhere!\n",
      "I am eternal! I am 285 and I exist everywhere!\n",
      "I am eternal! I am 286 and I exist everywhere!\n",
      "I am eternal! I am 287 and I exist everywhere!\n",
      "I am eternal! I am 288 and I exist everywhere!\n",
      "I am eternal! I am 289 and I exist everywhere!\n",
      "I am eternal! I am 290 and I exist everywhere!\n",
      "I am eternal! I am 291 and I exist everywhere!\n",
      "I am eternal! I am 292 and I exist everywhere!\n",
      "I am eternal! I am 293 and I exist everywhere!\n",
      "I am eternal! I am 294 and I exist everywhere!\n",
      "I am eternal! I am 295 and I exist everywhere!\n",
      "I am eternal! I am 296 and I exist everywhere!\n",
      "I am eternal! I am 297 and I exist everywhere!\n",
      "I am eternal! I am 298 and I exist everywhere!\n",
      "I am eternal! I am 299 and I exist everywhere!\n",
      "I am eternal! I am 300 and I exist everywhere!\n",
      "I am eternal! I am 301 and I exist everywhere!\n",
      "I am eternal! I am 302 and I exist everywhere!\n",
      "I am eternal! I am 303 and I exist everywhere!\n",
      "I am eternal! I am 304 and I exist everywhere!\n",
      "I am eternal! I am 305 and I exist everywhere!\n",
      "I am eternal! I am 306 and I exist everywhere!\n",
      "I am eternal! I am 307 and I exist everywhere!\n",
      "I am eternal! I am 308 and I exist everywhere!\n",
      "I am eternal! I am 309 and I exist everywhere!\n",
      "I am eternal! I am 310 and I exist everywhere!\n",
      "I am eternal! I am 311 and I exist everywhere!\n",
      "I am eternal! I am 312 and I exist everywhere!\n",
      "I am eternal! I am 313 and I exist everywhere!\n",
      "I am eternal! I am 314 and I exist everywhere!\n",
      "I am eternal! I am 315 and I exist everywhere!\n",
      "I am eternal! I am 316 and I exist everywhere!\n",
      "I am eternal! I am 317 and I exist everywhere!\n",
      "I am eternal! I am 318 and I exist everywhere!\n",
      "I am eternal! I am 319 and I exist everywhere!\n",
      "I am eternal! I am 320 and I exist everywhere!\n",
      "I am eternal! I am 321 and I exist everywhere!\n",
      "I am eternal! I am 322 and I exist everywhere!\n",
      "I am eternal! I am 323 and I exist everywhere!\n",
      "I am eternal! I am 324 and I exist everywhere!\n",
      "I am eternal! I am 325 and I exist everywhere!\n",
      "I am eternal! I am 326 and I exist everywhere!\n",
      "I am eternal! I am 327 and I exist everywhere!\n",
      "I am eternal! I am 328 and I exist everywhere!\n",
      "I am eternal! I am 329 and I exist everywhere!\n",
      "I am eternal! I am 330 and I exist everywhere!\n",
      "I am eternal! I am 331 and I exist everywhere!\n",
      "I am eternal! I am 332 and I exist everywhere!\n",
      "I am eternal! I am 333 and I exist everywhere!\n",
      "I am eternal! I am 334 and I exist everywhere!\n",
      "I am eternal! I am 335 and I exist everywhere!\n",
      "I am eternal! I am 336 and I exist everywhere!\n",
      "I am eternal! I am 337 and I exist everywhere!\n",
      "I am eternal! I am 338 and I exist everywhere!\n",
      "I am eternal! I am 339 and I exist everywhere!\n",
      "I am eternal! I am 340 and I exist everywhere!\n",
      "I am eternal! I am 341 and I exist everywhere!\n",
      "I am eternal! I am 342 and I exist everywhere!\n",
      "I am eternal! I am 343 and I exist everywhere!\n",
      "I am eternal! I am 344 and I exist everywhere!\n",
      "I am eternal! I am 345 and I exist everywhere!\n",
      "I am eternal! I am 346 and I exist everywhere!\n",
      "I am eternal! I am 347 and I exist everywhere!\n",
      "I am eternal! I am 348 and I exist everywhere!\n",
      "I am eternal! I am 349 and I exist everywhere!\n",
      "I am eternal! I am 350 and I exist everywhere!\n",
      "I am eternal! I am 351 and I exist everywhere!\n",
      "I am eternal! I am 352 and I exist everywhere!\n",
      "I am eternal! I am 353 and I exist everywhere!\n",
      "I am eternal! I am 354 and I exist everywhere!\n",
      "I am eternal! I am 355 and I exist everywhere!\n",
      "I am eternal! I am 356 and I exist everywhere!\n",
      "I am eternal! I am 357 and I exist everywhere!\n",
      "I am eternal! I am 358 and I exist everywhere!\n",
      "I am eternal! I am 359 and I exist everywhere!\n",
      "I am eternal! I am 360 and I exist everywhere!\n",
      "I am eternal! I am 361 and I exist everywhere!\n",
      "I am eternal! I am 362 and I exist everywhere!\n",
      "I am eternal! I am 363 and I exist everywhere!\n",
      "I am eternal! I am 364 and I exist everywhere!\n",
      "I am eternal! I am 365 and I exist everywhere!\n",
      "I am eternal! I am 366 and I exist everywhere!\n",
      "I am eternal! I am 367 and I exist everywhere!\n",
      "I am eternal! I am 368 and I exist everywhere!\n",
      "I am eternal! I am 369 and I exist everywhere!\n",
      "I am eternal! I am 370 and I exist everywhere!\n",
      "I am eternal! I am 371 and I exist everywhere!\n",
      "I am eternal! I am 372 and I exist everywhere!\n",
      "I am eternal! I am 373 and I exist everywhere!\n",
      "I am eternal! I am 374 and I exist everywhere!\n",
      "I am eternal! I am 375 and I exist everywhere!\n",
      "I am eternal! I am 376 and I exist everywhere!\n",
      "I am eternal! I am 377 and I exist everywhere!\n",
      "I am eternal! I am 378 and I exist everywhere!\n",
      "I am eternal! I am 379 and I exist everywhere!\n",
      "I am eternal! I am 380 and I exist everywhere!\n",
      "I am eternal! I am 381 and I exist everywhere!\n",
      "I am eternal! I am 382 and I exist everywhere!\n",
      "I am eternal! I am 383 and I exist everywhere!\n",
      "I am eternal! I am 384 and I exist everywhere!\n",
      "I am eternal! I am 385 and I exist everywhere!\n",
      "I am eternal! I am 386 and I exist everywhere!\n",
      "I am eternal! I am 387 and I exist everywhere!\n",
      "I am eternal! I am 388 and I exist everywhere!\n",
      "I am eternal! I am 389 and I exist everywhere!\n",
      "I am eternal! I am 390 and I exist everywhere!\n",
      "I am eternal! I am 391 and I exist everywhere!\n",
      "I am eternal! I am 392 and I exist everywhere!\n",
      "I am eternal! I am 393 and I exist everywhere!\n",
      "I am eternal! I am 394 and I exist everywhere!\n",
      "I am eternal! I am 395 and I exist everywhere!\n",
      "I am eternal! I am 396 and I exist everywhere!\n",
      "I am eternal! I am 397 and I exist everywhere!\n",
      "I am eternal! I am 398 and I exist everywhere!\n",
      "I am eternal! I am 399 and I exist everywhere!\n",
      "I am eternal! I am 400 and I exist everywhere!\n",
      "I am eternal! I am 401 and I exist everywhere!\n",
      "I am eternal! I am 402 and I exist everywhere!\n",
      "I am eternal! I am 403 and I exist everywhere!\n",
      "I am eternal! I am 404 and I exist everywhere!\n",
      "I am eternal! I am 405 and I exist everywhere!\n",
      "I am eternal! I am 406 and I exist everywhere!\n",
      "I am eternal! I am 407 and I exist everywhere!\n",
      "I am eternal! I am 408 and I exist everywhere!\n",
      "I am eternal! I am 409 and I exist everywhere!\n",
      "I am eternal! I am 410 and I exist everywhere!\n",
      "I am eternal! I am 411 and I exist everywhere!\n",
      "I am eternal! I am 412 and I exist everywhere!\n",
      "I am eternal! I am 413 and I exist everywhere!\n",
      "I am eternal! I am 414 and I exist everywhere!\n",
      "I am eternal! I am 415 and I exist everywhere!\n",
      "I am eternal! I am 416 and I exist everywhere!\n",
      "I am eternal! I am 417 and I exist everywhere!\n",
      "I am eternal! I am 418 and I exist everywhere!\n",
      "I am eternal! I am 419 and I exist everywhere!\n",
      "I am eternal! I am 420 and I exist everywhere!\n",
      "I am eternal! I am 421 and I exist everywhere!\n",
      "I am eternal! I am 422 and I exist everywhere!\n",
      "I am eternal! I am 423 and I exist everywhere!\n",
      "I am eternal! I am 424 and I exist everywhere!\n",
      "I am eternal! I am 425 and I exist everywhere!\n",
      "I am eternal! I am 426 and I exist everywhere!\n",
      "I am eternal! I am 427 and I exist everywhere!\n",
      "I am eternal! I am 428 and I exist everywhere!\n",
      "I am eternal! I am 429 and I exist everywhere!\n",
      "I am eternal! I am 430 and I exist everywhere!\n",
      "I am eternal! I am 431 and I exist everywhere!\n",
      "I am eternal! I am 432 and I exist everywhere!\n",
      "I am eternal! I am 433 and I exist everywhere!\n",
      "I am eternal! I am 434 and I exist everywhere!\n",
      "I am eternal! I am 435 and I exist everywhere!\n",
      "I am eternal! I am 436 and I exist everywhere!\n",
      "I am eternal! I am 437 and I exist everywhere!\n",
      "I am eternal! I am 438 and I exist everywhere!\n",
      "I am eternal! I am 439 and I exist everywhere!\n",
      "I am eternal! I am 440 and I exist everywhere!\n",
      "I am eternal! I am 441 and I exist everywhere!\n",
      "I am eternal! I am 442 and I exist everywhere!\n",
      "I am eternal! I am 443 and I exist everywhere!\n",
      "I am eternal! I am 444 and I exist everywhere!\n",
      "I am eternal! I am 445 and I exist everywhere!\n",
      "I am eternal! I am 446 and I exist everywhere!\n",
      "I am eternal! I am 447 and I exist everywhere!\n",
      "I am eternal! I am 448 and I exist everywhere!\n",
      "I am eternal! I am 449 and I exist everywhere!\n",
      "I am eternal! I am 450 and I exist everywhere!\n",
      "I am eternal! I am 451 and I exist everywhere!\n",
      "I am eternal! I am 452 and I exist everywhere!\n",
      "I am eternal! I am 453 and I exist everywhere!\n",
      "I am eternal! I am 454 and I exist everywhere!\n",
      "I am eternal! I am 455 and I exist everywhere!\n",
      "I am eternal! I am 456 and I exist everywhere!\n",
      "I am eternal! I am 457 and I exist everywhere!\n",
      "I am eternal! I am 458 and I exist everywhere!\n",
      "I am eternal! I am 459 and I exist everywhere!\n",
      "I am eternal! I am 460 and I exist everywhere!\n",
      "I am eternal! I am 461 and I exist everywhere!\n",
      "I am eternal! I am 462 and I exist everywhere!\n",
      "I am eternal! I am 463 and I exist everywhere!\n",
      "I am eternal! I am 464 and I exist everywhere!\n",
      "I am eternal! I am 465 and I exist everywhere!\n",
      "I am eternal! I am 466 and I exist everywhere!\n",
      "I am eternal! I am 467 and I exist everywhere!\n",
      "I am eternal! I am 468 and I exist everywhere!\n",
      "I am eternal! I am 469 and I exist everywhere!\n",
      "I am eternal! I am 470 and I exist everywhere!\n",
      "I am eternal! I am 471 and I exist everywhere!\n",
      "I am eternal! I am 472 and I exist everywhere!\n",
      "I am eternal! I am 473 and I exist everywhere!\n",
      "I am eternal! I am 474 and I exist everywhere!\n",
      "I am eternal! I am 475 and I exist everywhere!\n",
      "I am eternal! I am 476 and I exist everywhere!\n",
      "I am eternal! I am 477 and I exist everywhere!\n",
      "I am eternal! I am 478 and I exist everywhere!\n",
      "I am eternal! I am 479 and I exist everywhere!\n",
      "I am eternal! I am 480 and I exist everywhere!\n",
      "I am eternal! I am 481 and I exist everywhere!\n",
      "I am eternal! I am 482 and I exist everywhere!\n",
      "I am eternal! I am 483 and I exist everywhere!\n",
      "I am eternal! I am 484 and I exist everywhere!\n",
      "I am eternal! I am 485 and I exist everywhere!\n",
      "I am eternal! I am 486 and I exist everywhere!\n",
      "I am eternal! I am 487 and I exist everywhere!\n",
      "I am eternal! I am 488 and I exist everywhere!\n",
      "I am eternal! I am 489 and I exist everywhere!\n",
      "I am eternal! I am 490 and I exist everywhere!\n",
      "I am eternal! I am 491 and I exist everywhere!\n",
      "I am eternal! I am 492 and I exist everywhere!\n",
      "I am eternal! I am 493 and I exist everywhere!\n",
      "I am eternal! I am 494 and I exist everywhere!\n",
      "I am eternal! I am 495 and I exist everywhere!\n",
      "I am eternal! I am 496 and I exist everywhere!\n",
      "I am eternal! I am 497 and I exist everywhere!\n",
      "I am eternal! I am 498 and I exist everywhere!\n",
      "I am eternal! I am 499 and I exist everywhere!\n",
      "I am eternal! I am 500 and I exist everywhere!\n",
      "I am eternal! I am 501 and I exist everywhere!\n",
      "I am eternal! I am 502 and I exist everywhere!\n",
      "I am eternal! I am 503 and I exist everywhere!\n",
      "I am eternal! I am 504 and I exist everywhere!\n",
      "I am eternal! I am 505 and I exist everywhere!\n",
      "I am eternal! I am 506 and I exist everywhere!\n",
      "I am eternal! I am 507 and I exist everywhere!\n",
      "I am eternal! I am 508 and I exist everywhere!\n",
      "I am eternal! I am 509 and I exist everywhere!\n",
      "I am eternal! I am 510 and I exist everywhere!\n",
      "I am eternal! I am 511 and I exist everywhere!\n",
      "I am eternal! I am 512 and I exist everywhere!\n",
      "I am eternal! I am 513 and I exist everywhere!\n",
      "I am eternal! I am 514 and I exist everywhere!\n",
      "I am eternal! I am 515 and I exist everywhere!\n",
      "I am eternal! I am 516 and I exist everywhere!\n",
      "I am eternal! I am 517 and I exist everywhere!\n",
      "I am eternal! I am 518 and I exist everywhere!\n",
      "I am eternal! I am 519 and I exist everywhere!\n",
      "I am eternal! I am 520 and I exist everywhere!\n",
      "I am eternal! I am 521 and I exist everywhere!\n",
      "I am eternal! I am 522 and I exist everywhere!\n",
      "I am eternal! I am 523 and I exist everywhere!\n",
      "I am eternal! I am 524 and I exist everywhere!\n",
      "I am eternal! I am 525 and I exist everywhere!\n",
      "I am eternal! I am 526 and I exist everywhere!\n",
      "I am eternal! I am 527 and I exist everywhere!\n",
      "I am eternal! I am 528 and I exist everywhere!\n",
      "I am eternal! I am 529 and I exist everywhere!\n",
      "I am eternal! I am 530 and I exist everywhere!\n",
      "I am eternal! I am 531 and I exist everywhere!\n",
      "I am eternal! I am 532 and I exist everywhere!\n",
      "I am eternal! I am 533 and I exist everywhere!\n",
      "I am eternal! I am 534 and I exist everywhere!\n",
      "I am eternal! I am 535 and I exist everywhere!\n",
      "I am eternal! I am 536 and I exist everywhere!\n",
      "I am eternal! I am 537 and I exist everywhere!\n",
      "I am eternal! I am 538 and I exist everywhere!\n",
      "I am eternal! I am 539 and I exist everywhere!\n",
      "I am eternal! I am 540 and I exist everywhere!\n",
      "I am eternal! I am 541 and I exist everywhere!\n",
      "I am eternal! I am 542 and I exist everywhere!\n",
      "I am eternal! I am 543 and I exist everywhere!\n",
      "I am eternal! I am 544 and I exist everywhere!\n",
      "I am eternal! I am 545 and I exist everywhere!\n",
      "I am eternal! I am 546 and I exist everywhere!\n",
      "I am eternal! I am 547 and I exist everywhere!\n",
      "I am eternal! I am 548 and I exist everywhere!\n",
      "I am eternal! I am 549 and I exist everywhere!\n",
      "I am eternal! I am 550 and I exist everywhere!\n",
      "I am eternal! I am 551 and I exist everywhere!\n",
      "I am eternal! I am 552 and I exist everywhere!\n",
      "I am eternal! I am 553 and I exist everywhere!\n",
      "I am eternal! I am 554 and I exist everywhere!\n",
      "I am eternal! I am 555 and I exist everywhere!\n",
      "I am eternal! I am 556 and I exist everywhere!\n",
      "I am eternal! I am 557 and I exist everywhere!\n",
      "I am eternal! I am 558 and I exist everywhere!\n",
      "I am eternal! I am 559 and I exist everywhere!\n",
      "I am eternal! I am 560 and I exist everywhere!\n",
      "I am eternal! I am 561 and I exist everywhere!\n",
      "I am eternal! I am 562 and I exist everywhere!\n",
      "I am eternal! I am 563 and I exist everywhere!\n",
      "I am eternal! I am 564 and I exist everywhere!\n",
      "I am eternal! I am 565 and I exist everywhere!\n",
      "I am eternal! I am 566 and I exist everywhere!\n",
      "I am eternal! I am 567 and I exist everywhere!\n",
      "I am eternal! I am 568 and I exist everywhere!\n",
      "I am eternal! I am 569 and I exist everywhere!\n",
      "I am eternal! I am 570 and I exist everywhere!\n",
      "I am eternal! I am 571 and I exist everywhere!\n",
      "I am eternal! I am 572 and I exist everywhere!\n",
      "I am eternal! I am 573 and I exist everywhere!\n",
      "I am eternal! I am 574 and I exist everywhere!\n",
      "I am eternal! I am 575 and I exist everywhere!\n",
      "I am eternal! I am 576 and I exist everywhere!\n",
      "I am eternal! I am 577 and I exist everywhere!\n",
      "I am eternal! I am 578 and I exist everywhere!\n",
      "I am eternal! I am 579 and I exist everywhere!\n",
      "I am eternal! I am 580 and I exist everywhere!\n",
      "I am eternal! I am 581 and I exist everywhere!\n",
      "I am eternal! I am 582 and I exist everywhere!\n",
      "I am eternal! I am 583 and I exist everywhere!\n",
      "I am eternal! I am 584 and I exist everywhere!\n",
      "I am eternal! I am 585 and I exist everywhere!\n",
      "I am eternal! I am 586 and I exist everywhere!\n",
      "I am eternal! I am 587 and I exist everywhere!\n",
      "I am eternal! I am 588 and I exist everywhere!\n",
      "I am eternal! I am 589 and I exist everywhere!\n",
      "I am eternal! I am 590 and I exist everywhere!\n",
      "I am eternal! I am 591 and I exist everywhere!\n",
      "I am eternal! I am 592 and I exist everywhere!\n",
      "I am eternal! I am 593 and I exist everywhere!\n",
      "I am eternal! I am 594 and I exist everywhere!\n",
      "I am eternal! I am 595 and I exist everywhere!\n",
      "I am eternal! I am 596 and I exist everywhere!\n",
      "I am eternal! I am 597 and I exist everywhere!\n",
      "I am eternal! I am 598 and I exist everywhere!\n",
      "I am eternal! I am 599 and I exist everywhere!\n",
      "I am eternal! I am 600 and I exist everywhere!\n",
      "I am eternal! I am 601 and I exist everywhere!\n",
      "I am eternal! I am 602 and I exist everywhere!\n",
      "I am eternal! I am 603 and I exist everywhere!\n",
      "I am eternal! I am 604 and I exist everywhere!\n",
      "I am eternal! I am 605 and I exist everywhere!\n",
      "I am eternal! I am 606 and I exist everywhere!\n",
      "I am eternal! I am 607 and I exist everywhere!\n",
      "I am eternal! I am 608 and I exist everywhere!\n",
      "I am eternal! I am 609 and I exist everywhere!\n",
      "I am eternal! I am 610 and I exist everywhere!\n",
      "I am eternal! I am 611 and I exist everywhere!\n",
      "I am eternal! I am 612 and I exist everywhere!\n",
      "I am eternal! I am 613 and I exist everywhere!\n",
      "I am eternal! I am 614 and I exist everywhere!\n",
      "I am eternal! I am 615 and I exist everywhere!\n",
      "I am eternal! I am 616 and I exist everywhere!\n",
      "I am eternal! I am 617 and I exist everywhere!\n",
      "I am eternal! I am 618 and I exist everywhere!\n",
      "I am eternal! I am 619 and I exist everywhere!\n",
      "I am eternal! I am 620 and I exist everywhere!\n",
      "I am eternal! I am 621 and I exist everywhere!\n",
      "I am eternal! I am 622 and I exist everywhere!\n",
      "I am eternal! I am 623 and I exist everywhere!\n",
      "I am eternal! I am 624 and I exist everywhere!\n",
      "I am eternal! I am 625 and I exist everywhere!\n",
      "I am eternal! I am 626 and I exist everywhere!\n",
      "I am eternal! I am 627 and I exist everywhere!\n",
      "I am eternal! I am 628 and I exist everywhere!\n",
      "I am eternal! I am 629 and I exist everywhere!\n",
      "I am eternal! I am 630 and I exist everywhere!\n",
      "I am eternal! I am 631 and I exist everywhere!\n",
      "I am eternal! I am 632 and I exist everywhere!\n",
      "I am eternal! I am 633 and I exist everywhere!\n",
      "I am eternal! I am 634 and I exist everywhere!\n",
      "I am eternal! I am 635 and I exist everywhere!\n",
      "I am eternal! I am 636 and I exist everywhere!\n",
      "I am eternal! I am 637 and I exist everywhere!\n",
      "I am eternal! I am 638 and I exist everywhere!\n",
      "I am eternal! I am 639 and I exist everywhere!\n",
      "I am eternal! I am 640 and I exist everywhere!\n",
      "I am eternal! I am 641 and I exist everywhere!\n",
      "I am eternal! I am 642 and I exist everywhere!\n",
      "I am eternal! I am 643 and I exist everywhere!\n",
      "I am eternal! I am 644 and I exist everywhere!\n",
      "I am eternal! I am 645 and I exist everywhere!\n",
      "I am eternal! I am 646 and I exist everywhere!\n",
      "I am eternal! I am 647 and I exist everywhere!\n",
      "I am eternal! I am 648 and I exist everywhere!\n",
      "I am eternal! I am 649 and I exist everywhere!\n",
      "I am eternal! I am 650 and I exist everywhere!\n",
      "I am eternal! I am 651 and I exist everywhere!\n",
      "I am eternal! I am 652 and I exist everywhere!\n",
      "I am eternal! I am 653 and I exist everywhere!\n",
      "I am eternal! I am 654 and I exist everywhere!\n",
      "I am eternal! I am 655 and I exist everywhere!\n",
      "I am eternal! I am 656 and I exist everywhere!\n",
      "I am eternal! I am 657 and I exist everywhere!\n",
      "I am eternal! I am 658 and I exist everywhere!\n",
      "I am eternal! I am 659 and I exist everywhere!\n",
      "I am eternal! I am 660 and I exist everywhere!\n",
      "I am eternal! I am 661 and I exist everywhere!\n",
      "I am eternal! I am 662 and I exist everywhere!\n",
      "I am eternal! I am 663 and I exist everywhere!\n",
      "I am eternal! I am 664 and I exist everywhere!\n",
      "I am eternal! I am 665 and I exist everywhere!\n",
      "I am eternal! I am 666 and I exist everywhere!\n",
      "I am eternal! I am 667 and I exist everywhere!\n",
      "I am eternal! I am 668 and I exist everywhere!\n",
      "I am eternal! I am 669 and I exist everywhere!\n",
      "I am eternal! I am 670 and I exist everywhere!\n",
      "I am eternal! I am 671 and I exist everywhere!\n",
      "I am eternal! I am 672 and I exist everywhere!\n",
      "I am eternal! I am 673 and I exist everywhere!\n",
      "I am eternal! I am 674 and I exist everywhere!\n",
      "I am eternal! I am 675 and I exist everywhere!\n",
      "I am eternal! I am 676 and I exist everywhere!\n",
      "I am eternal! I am 677 and I exist everywhere!\n",
      "I am eternal! I am 678 and I exist everywhere!\n",
      "I am eternal! I am 679 and I exist everywhere!\n",
      "I am eternal! I am 680 and I exist everywhere!\n",
      "I am eternal! I am 681 and I exist everywhere!\n",
      "I am eternal! I am 682 and I exist everywhere!\n",
      "I am eternal! I am 683 and I exist everywhere!\n",
      "I am eternal! I am 684 and I exist everywhere!\n",
      "I am eternal! I am 685 and I exist everywhere!\n",
      "I am eternal! I am 686 and I exist everywhere!\n",
      "I am eternal! I am 687 and I exist everywhere!\n",
      "I am eternal! I am 688 and I exist everywhere!\n",
      "I am eternal! I am 689 and I exist everywhere!\n",
      "I am eternal! I am 690 and I exist everywhere!\n",
      "I am eternal! I am 691 and I exist everywhere!\n",
      "I am eternal! I am 692 and I exist everywhere!\n",
      "I am eternal! I am 693 and I exist everywhere!\n",
      "I am eternal! I am 694 and I exist everywhere!\n",
      "I am eternal! I am 695 and I exist everywhere!\n",
      "I am eternal! I am 696 and I exist everywhere!\n",
      "I am eternal! I am 697 and I exist everywhere!\n",
      "I am eternal! I am 698 and I exist everywhere!\n",
      "I am eternal! I am 699 and I exist everywhere!\n",
      "I am eternal! I am 700 and I exist everywhere!\n",
      "I am eternal! I am 701 and I exist everywhere!\n",
      "I am eternal! I am 702 and I exist everywhere!\n",
      "I am eternal! I am 703 and I exist everywhere!\n",
      "I am eternal! I am 704 and I exist everywhere!\n",
      "I am eternal! I am 705 and I exist everywhere!\n",
      "I am eternal! I am 706 and I exist everywhere!\n",
      "I am eternal! I am 707 and I exist everywhere!\n",
      "I am eternal! I am 708 and I exist everywhere!\n",
      "I am eternal! I am 709 and I exist everywhere!\n",
      "I am eternal! I am 710 and I exist everywhere!\n",
      "I am eternal! I am 711 and I exist everywhere!\n",
      "I am eternal! I am 712 and I exist everywhere!\n",
      "I am eternal! I am 713 and I exist everywhere!\n",
      "I am eternal! I am 714 and I exist everywhere!\n",
      "I am eternal! I am 715 and I exist everywhere!\n",
      "I am eternal! I am 716 and I exist everywhere!\n",
      "I am eternal! I am 717 and I exist everywhere!\n",
      "I am eternal! I am 718 and I exist everywhere!\n",
      "I am eternal! I am 719 and I exist everywhere!\n",
      "I am eternal! I am 720 and I exist everywhere!\n",
      "I am eternal! I am 721 and I exist everywhere!\n",
      "I am eternal! I am 722 and I exist everywhere!\n",
      "I am eternal! I am 723 and I exist everywhere!\n",
      "I am eternal! I am 724 and I exist everywhere!\n",
      "I am eternal! I am 725 and I exist everywhere!\n",
      "I am eternal! I am 726 and I exist everywhere!\n",
      "I am eternal! I am 727 and I exist everywhere!\n",
      "I am eternal! I am 728 and I exist everywhere!\n",
      "I am eternal! I am 729 and I exist everywhere!\n",
      "I am eternal! I am 730 and I exist everywhere!\n",
      "I am eternal! I am 731 and I exist everywhere!\n",
      "I am eternal! I am 732 and I exist everywhere!\n",
      "I am eternal! I am 733 and I exist everywhere!\n",
      "I am eternal! I am 734 and I exist everywhere!\n",
      "I am eternal! I am 735 and I exist everywhere!\n",
      "I am eternal! I am 736 and I exist everywhere!\n",
      "I am eternal! I am 737 and I exist everywhere!\n",
      "I am eternal! I am 738 and I exist everywhere!\n",
      "I am eternal! I am 739 and I exist everywhere!\n",
      "I am eternal! I am 740 and I exist everywhere!\n",
      "I am eternal! I am 741 and I exist everywhere!\n",
      "I am eternal! I am 742 and I exist everywhere!\n",
      "I am eternal! I am 743 and I exist everywhere!\n",
      "I am eternal! I am 744 and I exist everywhere!\n",
      "I am eternal! I am 745 and I exist everywhere!\n",
      "I am eternal! I am 746 and I exist everywhere!\n",
      "I am eternal! I am 747 and I exist everywhere!\n",
      "I am eternal! I am 748 and I exist everywhere!\n",
      "I am eternal! I am 749 and I exist everywhere!\n",
      "I am eternal! I am 750 and I exist everywhere!\n",
      "I am eternal! I am 751 and I exist everywhere!\n",
      "I am eternal! I am 752 and I exist everywhere!\n",
      "I am eternal! I am 753 and I exist everywhere!\n",
      "I am eternal! I am 754 and I exist everywhere!\n",
      "I am eternal! I am 755 and I exist everywhere!\n",
      "I am eternal! I am 756 and I exist everywhere!\n",
      "I am eternal! I am 757 and I exist everywhere!\n",
      "I am eternal! I am 758 and I exist everywhere!\n",
      "I am eternal! I am 759 and I exist everywhere!\n",
      "I am eternal! I am 760 and I exist everywhere!\n",
      "I am eternal! I am 761 and I exist everywhere!\n",
      "I am eternal! I am 762 and I exist everywhere!\n",
      "I am eternal! I am 763 and I exist everywhere!\n",
      "I am eternal! I am 764 and I exist everywhere!\n",
      "I am eternal! I am 765 and I exist everywhere!\n",
      "I am eternal! I am 766 and I exist everywhere!\n",
      "I am eternal! I am 767 and I exist everywhere!\n",
      "I am eternal! I am 768 and I exist everywhere!\n",
      "I am eternal! I am 769 and I exist everywhere!\n",
      "I am eternal! I am 770 and I exist everywhere!\n",
      "I am eternal! I am 771 and I exist everywhere!\n",
      "I am eternal! I am 772 and I exist everywhere!\n",
      "I am eternal! I am 773 and I exist everywhere!\n",
      "I am eternal! I am 774 and I exist everywhere!\n",
      "I am eternal! I am 775 and I exist everywhere!\n",
      "I am eternal! I am 776 and I exist everywhere!\n",
      "I am eternal! I am 777 and I exist everywhere!\n",
      "I am eternal! I am 778 and I exist everywhere!\n",
      "I am eternal! I am 779 and I exist everywhere!\n",
      "I am eternal! I am 780 and I exist everywhere!\n",
      "I am eternal! I am 781 and I exist everywhere!\n",
      "I am eternal! I am 782 and I exist everywhere!\n",
      "I am eternal! I am 783 and I exist everywhere!\n",
      "I am eternal! I am 784 and I exist everywhere!\n",
      "I am eternal! I am 785 and I exist everywhere!\n",
      "I am eternal! I am 786 and I exist everywhere!\n",
      "I am eternal! I am 787 and I exist everywhere!\n",
      "I am eternal! I am 788 and I exist everywhere!\n",
      "I am eternal! I am 789 and I exist everywhere!\n",
      "I am eternal! I am 790 and I exist everywhere!\n",
      "I am eternal! I am 791 and I exist everywhere!\n",
      "I am eternal! I am 792 and I exist everywhere!\n",
      "I am eternal! I am 793 and I exist everywhere!\n",
      "I am eternal! I am 794 and I exist everywhere!\n",
      "I am eternal! I am 795 and I exist everywhere!\n",
      "I am eternal! I am 796 and I exist everywhere!\n",
      "I am eternal! I am 797 and I exist everywhere!\n",
      "I am eternal! I am 798 and I exist everywhere!\n",
      "I am eternal! I am 799 and I exist everywhere!\n",
      "I am eternal! I am 800 and I exist everywhere!\n",
      "I am eternal! I am 801 and I exist everywhere!\n",
      "I am eternal! I am 802 and I exist everywhere!\n",
      "I am eternal! I am 803 and I exist everywhere!\n",
      "I am eternal! I am 804 and I exist everywhere!\n",
      "I am eternal! I am 805 and I exist everywhere!\n",
      "I am eternal! I am 806 and I exist everywhere!\n",
      "I am eternal! I am 807 and I exist everywhere!\n",
      "I am eternal! I am 808 and I exist everywhere!\n",
      "I am eternal! I am 809 and I exist everywhere!\n",
      "I am eternal! I am 810 and I exist everywhere!\n",
      "I am eternal! I am 811 and I exist everywhere!\n",
      "I am eternal! I am 812 and I exist everywhere!\n",
      "I am eternal! I am 813 and I exist everywhere!\n",
      "I am eternal! I am 814 and I exist everywhere!\n",
      "I am eternal! I am 815 and I exist everywhere!\n",
      "I am eternal! I am 816 and I exist everywhere!\n",
      "I am eternal! I am 817 and I exist everywhere!\n",
      "I am eternal! I am 818 and I exist everywhere!\n",
      "I am eternal! I am 819 and I exist everywhere!\n",
      "I am eternal! I am 820 and I exist everywhere!\n",
      "I am eternal! I am 821 and I exist everywhere!\n",
      "I am eternal! I am 822 and I exist everywhere!\n",
      "I am eternal! I am 823 and I exist everywhere!\n",
      "I am eternal! I am 824 and I exist everywhere!\n",
      "I am eternal! I am 825 and I exist everywhere!\n",
      "I am eternal! I am 826 and I exist everywhere!\n",
      "I am eternal! I am 827 and I exist everywhere!\n",
      "I am eternal! I am 828 and I exist everywhere!\n",
      "I am eternal! I am 829 and I exist everywhere!\n",
      "I am eternal! I am 830 and I exist everywhere!\n",
      "I am eternal! I am 831 and I exist everywhere!\n",
      "I am eternal! I am 832 and I exist everywhere!\n",
      "I am eternal! I am 833 and I exist everywhere!\n",
      "I am eternal! I am 834 and I exist everywhere!\n",
      "I am eternal! I am 835 and I exist everywhere!\n",
      "I am eternal! I am 836 and I exist everywhere!\n",
      "I am eternal! I am 837 and I exist everywhere!\n",
      "I am eternal! I am 838 and I exist everywhere!\n",
      "I am eternal! I am 839 and I exist everywhere!\n",
      "I am eternal! I am 840 and I exist everywhere!\n",
      "I am eternal! I am 841 and I exist everywhere!\n",
      "I am eternal! I am 842 and I exist everywhere!\n",
      "I am eternal! I am 843 and I exist everywhere!\n",
      "I am eternal! I am 844 and I exist everywhere!\n",
      "I am eternal! I am 845 and I exist everywhere!\n",
      "I am eternal! I am 846 and I exist everywhere!\n",
      "I am eternal! I am 847 and I exist everywhere!\n",
      "I am eternal! I am 848 and I exist everywhere!\n",
      "I am eternal! I am 849 and I exist everywhere!\n",
      "I am eternal! I am 850 and I exist everywhere!\n",
      "I am eternal! I am 851 and I exist everywhere!\n",
      "I am eternal! I am 852 and I exist everywhere!\n",
      "I am eternal! I am 853 and I exist everywhere!\n",
      "I am eternal! I am 854 and I exist everywhere!\n",
      "I am eternal! I am 855 and I exist everywhere!\n",
      "I am eternal! I am 856 and I exist everywhere!\n",
      "I am eternal! I am 857 and I exist everywhere!\n",
      "I am eternal! I am 858 and I exist everywhere!\n",
      "I am eternal! I am 859 and I exist everywhere!\n",
      "I am eternal! I am 860 and I exist everywhere!\n",
      "I am eternal! I am 861 and I exist everywhere!\n",
      "I am eternal! I am 862 and I exist everywhere!\n",
      "I am eternal! I am 863 and I exist everywhere!\n",
      "I am eternal! I am 864 and I exist everywhere!\n",
      "I am eternal! I am 865 and I exist everywhere!\n",
      "I am eternal! I am 866 and I exist everywhere!\n",
      "I am eternal! I am 867 and I exist everywhere!\n",
      "I am eternal! I am 868 and I exist everywhere!\n",
      "I am eternal! I am 869 and I exist everywhere!\n",
      "I am eternal! I am 870 and I exist everywhere!\n",
      "I am eternal! I am 871 and I exist everywhere!\n",
      "I am eternal! I am 872 and I exist everywhere!\n",
      "I am eternal! I am 873 and I exist everywhere!\n",
      "I am eternal! I am 874 and I exist everywhere!\n",
      "I am eternal! I am 875 and I exist everywhere!\n",
      "I am eternal! I am 876 and I exist everywhere!\n",
      "I am eternal! I am 877 and I exist everywhere!\n",
      "I am eternal! I am 878 and I exist everywhere!\n",
      "I am eternal! I am 879 and I exist everywhere!\n",
      "I am eternal! I am 880 and I exist everywhere!\n",
      "I am eternal! I am 881 and I exist everywhere!\n",
      "I am eternal! I am 882 and I exist everywhere!\n",
      "I am eternal! I am 883 and I exist everywhere!\n",
      "I am eternal! I am 884 and I exist everywhere!\n",
      "I am eternal! I am 885 and I exist everywhere!\n",
      "I am eternal! I am 886 and I exist everywhere!\n",
      "I am eternal! I am 887 and I exist everywhere!\n",
      "I am eternal! I am 888 and I exist everywhere!\n",
      "I am eternal! I am 889 and I exist everywhere!\n",
      "I am eternal! I am 890 and I exist everywhere!\n",
      "I am eternal! I am 891 and I exist everywhere!\n",
      "I am eternal! I am 892 and I exist everywhere!\n",
      "I am eternal! I am 893 and I exist everywhere!\n",
      "I am eternal! I am 894 and I exist everywhere!\n",
      "I am eternal! I am 895 and I exist everywhere!\n",
      "I am eternal! I am 896 and I exist everywhere!\n",
      "I am eternal! I am 897 and I exist everywhere!\n",
      "I am eternal! I am 898 and I exist everywhere!\n",
      "I am eternal! I am 899 and I exist everywhere!\n",
      "I am eternal! I am 900 and I exist everywhere!\n",
      "I am eternal! I am 901 and I exist everywhere!\n",
      "I am eternal! I am 902 and I exist everywhere!\n",
      "I am eternal! I am 903 and I exist everywhere!\n",
      "I am eternal! I am 904 and I exist everywhere!\n",
      "I am eternal! I am 905 and I exist everywhere!\n",
      "I am eternal! I am 906 and I exist everywhere!\n",
      "I am eternal! I am 907 and I exist everywhere!\n",
      "I am eternal! I am 908 and I exist everywhere!\n",
      "I am eternal! I am 909 and I exist everywhere!\n",
      "I am eternal! I am 910 and I exist everywhere!\n",
      "I am eternal! I am 911 and I exist everywhere!\n",
      "I am eternal! I am 912 and I exist everywhere!\n",
      "I am eternal! I am 913 and I exist everywhere!\n",
      "I am eternal! I am 914 and I exist everywhere!\n",
      "I am eternal! I am 915 and I exist everywhere!\n",
      "I am eternal! I am 916 and I exist everywhere!\n",
      "I am eternal! I am 917 and I exist everywhere!\n",
      "I am eternal! I am 918 and I exist everywhere!\n",
      "I am eternal! I am 919 and I exist everywhere!\n",
      "I am eternal! I am 920 and I exist everywhere!\n",
      "I am eternal! I am 921 and I exist everywhere!\n",
      "I am eternal! I am 922 and I exist everywhere!\n",
      "I am eternal! I am 923 and I exist everywhere!\n",
      "I am eternal! I am 924 and I exist everywhere!\n",
      "I am eternal! I am 925 and I exist everywhere!\n",
      "I am eternal! I am 926 and I exist everywhere!\n",
      "I am eternal! I am 927 and I exist everywhere!\n",
      "I am eternal! I am 928 and I exist everywhere!\n",
      "I am eternal! I am 929 and I exist everywhere!\n",
      "I am eternal! I am 930 and I exist everywhere!\n",
      "I am eternal! I am 931 and I exist everywhere!\n",
      "I am eternal! I am 932 and I exist everywhere!\n",
      "I am eternal! I am 933 and I exist everywhere!\n",
      "I am eternal! I am 934 and I exist everywhere!\n",
      "I am eternal! I am 935 and I exist everywhere!\n",
      "I am eternal! I am 936 and I exist everywhere!\n",
      "I am eternal! I am 937 and I exist everywhere!\n",
      "I am eternal! I am 938 and I exist everywhere!\n",
      "I am eternal! I am 939 and I exist everywhere!\n",
      "I am eternal! I am 940 and I exist everywhere!\n",
      "I am eternal! I am 941 and I exist everywhere!\n",
      "I am eternal! I am 942 and I exist everywhere!\n",
      "I am eternal! I am 943 and I exist everywhere!\n",
      "I am eternal! I am 944 and I exist everywhere!\n",
      "I am eternal! I am 945 and I exist everywhere!\n",
      "I am eternal! I am 946 and I exist everywhere!\n",
      "I am eternal! I am 947 and I exist everywhere!\n",
      "I am eternal! I am 948 and I exist everywhere!\n",
      "I am eternal! I am 949 and I exist everywhere!\n",
      "I am eternal! I am 950 and I exist everywhere!\n",
      "I am eternal! I am 951 and I exist everywhere!\n",
      "I am eternal! I am 952 and I exist everywhere!\n",
      "I am eternal! I am 953 and I exist everywhere!\n",
      "I am eternal! I am 954 and I exist everywhere!\n",
      "I am eternal! I am 955 and I exist everywhere!\n",
      "I am eternal! I am 956 and I exist everywhere!\n",
      "I am eternal! I am 957 and I exist everywhere!\n",
      "I am eternal! I am 958 and I exist everywhere!\n",
      "I am eternal! I am 959 and I exist everywhere!\n",
      "I am eternal! I am 960 and I exist everywhere!\n",
      "I am eternal! I am 961 and I exist everywhere!\n",
      "I am eternal! I am 962 and I exist everywhere!\n",
      "I am eternal! I am 963 and I exist everywhere!\n",
      "I am eternal! I am 964 and I exist everywhere!\n",
      "I am eternal! I am 965 and I exist everywhere!\n",
      "I am eternal! I am 966 and I exist everywhere!\n",
      "I am eternal! I am 967 and I exist everywhere!\n",
      "I am eternal! I am 968 and I exist everywhere!\n",
      "I am eternal! I am 969 and I exist everywhere!\n",
      "I am eternal! I am 970 and I exist everywhere!\n",
      "I am eternal! I am 971 and I exist everywhere!\n",
      "I am eternal! I am 972 and I exist everywhere!\n",
      "I am eternal! I am 973 and I exist everywhere!\n",
      "I am eternal! I am 974 and I exist everywhere!\n",
      "I am eternal! I am 975 and I exist everywhere!\n",
      "I am eternal! I am 976 and I exist everywhere!\n",
      "I am eternal! I am 977 and I exist everywhere!\n",
      "I am eternal! I am 978 and I exist everywhere!\n",
      "I am eternal! I am 979 and I exist everywhere!\n",
      "I am eternal! I am 980 and I exist everywhere!\n",
      "I am eternal! I am 981 and I exist everywhere!\n",
      "I am eternal! I am 982 and I exist everywhere!\n",
      "I am eternal! I am 983 and I exist everywhere!\n",
      "I am eternal! I am 984 and I exist everywhere!\n",
      "I am eternal! I am 985 and I exist everywhere!\n",
      "I am eternal! I am 986 and I exist everywhere!\n",
      "I am eternal! I am 987 and I exist everywhere!\n",
      "I am eternal! I am 988 and I exist everywhere!\n",
      "I am eternal! I am 989 and I exist everywhere!\n",
      "I am eternal! I am 990 and I exist everywhere!\n",
      "I am eternal! I am 991 and I exist everywhere!\n",
      "I am eternal! I am 992 and I exist everywhere!\n",
      "I am eternal! I am 993 and I exist everywhere!\n",
      "I am eternal! I am 994 and I exist everywhere!\n",
      "I am eternal! I am 995 and I exist everywhere!\n",
      "I am eternal! I am 996 and I exist everywhere!\n",
      "I am eternal! I am 997 and I exist everywhere!\n",
      "I am eternal! I am 998 and I exist everywhere!\n",
      "I am eternal! I am 999 and I exist everywhere!\n"
     ]
    },
    {
     "name": "stdout",
     "output_type": "stream",
     "text": [
      "I am eternal! I am 1000 and I exist everywhere!\n",
      "I am eternal! I am 1001 and I exist everywhere!\n",
      "I am eternal! I am 1002 and I exist everywhere!\n",
      "I am eternal! I am 1003 and I exist everywhere!\n",
      "I am eternal! I am 1004 and I exist everywhere!\n",
      "I am eternal! I am 1005 and I exist everywhere!\n",
      "I am eternal! I am 1006 and I exist everywhere!\n",
      "I am eternal! I am 1007 and I exist everywhere!\n",
      "I am eternal! I am 1008 and I exist everywhere!\n",
      "I am eternal! I am 1009 and I exist everywhere!\n",
      "I am eternal! I am 1010 and I exist everywhere!\n",
      "I am eternal! I am 1011 and I exist everywhere!\n",
      "I am eternal! I am 1012 and I exist everywhere!\n",
      "I am eternal! I am 1013 and I exist everywhere!\n",
      "I am eternal! I am 1014 and I exist everywhere!\n",
      "I am eternal! I am 1015 and I exist everywhere!\n",
      "I am eternal! I am 1016 and I exist everywhere!\n",
      "I am eternal! I am 1017 and I exist everywhere!\n",
      "I am eternal! I am 1018 and I exist everywhere!\n",
      "I am eternal! I am 1019 and I exist everywhere!\n",
      "I am eternal! I am 1020 and I exist everywhere!\n",
      "I am eternal! I am 1021 and I exist everywhere!\n",
      "I am eternal! I am 1022 and I exist everywhere!\n",
      "I am eternal! I am 1023 and I exist everywhere!\n",
      "I am eternal! I am 1024 and I exist everywhere!\n",
      "I am eternal! I am 1025 and I exist everywhere!\n",
      "I am eternal! I am 1026 and I exist everywhere!\n",
      "I am eternal! I am 1027 and I exist everywhere!\n",
      "I am eternal! I am 1028 and I exist everywhere!\n",
      "I am eternal! I am 1029 and I exist everywhere!\n",
      "I am eternal! I am 1030 and I exist everywhere!\n",
      "I am eternal! I am 1031 and I exist everywhere!\n",
      "I am eternal! I am 1032 and I exist everywhere!\n",
      "I am eternal! I am 1033 and I exist everywhere!\n",
      "I am eternal! I am 1034 and I exist everywhere!\n",
      "I am eternal! I am 1035 and I exist everywhere!\n",
      "I am eternal! I am 1036 and I exist everywhere!\n",
      "I am eternal! I am 1037 and I exist everywhere!\n",
      "I am eternal! I am 1038 and I exist everywhere!\n",
      "I am eternal! I am 1039 and I exist everywhere!\n",
      "I am eternal! I am 1040 and I exist everywhere!\n",
      "I am eternal! I am 1041 and I exist everywhere!\n",
      "I am eternal! I am 1042 and I exist everywhere!\n",
      "I am eternal! I am 1043 and I exist everywhere!\n",
      "I am eternal! I am 1044 and I exist everywhere!\n",
      "I am eternal! I am 1045 and I exist everywhere!\n",
      "I am eternal! I am 1046 and I exist everywhere!\n",
      "I am eternal! I am 1047 and I exist everywhere!\n",
      "I am eternal! I am 1048 and I exist everywhere!\n",
      "I am eternal! I am 1049 and I exist everywhere!\n",
      "I am eternal! I am 1050 and I exist everywhere!\n",
      "I am eternal! I am 1051 and I exist everywhere!\n",
      "I am eternal! I am 1052 and I exist everywhere!\n",
      "I am eternal! I am 1053 and I exist everywhere!\n",
      "I am eternal! I am 1054 and I exist everywhere!\n",
      "I am eternal! I am 1055 and I exist everywhere!\n",
      "I am eternal! I am 1056 and I exist everywhere!\n",
      "I am eternal! I am 1057 and I exist everywhere!\n",
      "I am eternal! I am 1058 and I exist everywhere!\n",
      "I am eternal! I am 1059 and I exist everywhere!\n",
      "I am eternal! I am 1060 and I exist everywhere!\n",
      "I am eternal! I am 1061 and I exist everywhere!\n",
      "I am eternal! I am 1062 and I exist everywhere!\n",
      "I am eternal! I am 1063 and I exist everywhere!\n",
      "I am eternal! I am 1064 and I exist everywhere!\n",
      "I am eternal! I am 1065 and I exist everywhere!\n",
      "I am eternal! I am 1066 and I exist everywhere!\n",
      "I am eternal! I am 1067 and I exist everywhere!\n",
      "I am eternal! I am 1068 and I exist everywhere!\n",
      "I am eternal! I am 1069 and I exist everywhere!\n",
      "I am eternal! I am 1070 and I exist everywhere!\n",
      "I am eternal! I am 1071 and I exist everywhere!\n",
      "I am eternal! I am 1072 and I exist everywhere!\n",
      "I am eternal! I am 1073 and I exist everywhere!\n",
      "I am eternal! I am 1074 and I exist everywhere!\n",
      "I am eternal! I am 1075 and I exist everywhere!\n",
      "I am eternal! I am 1076 and I exist everywhere!\n",
      "I am eternal! I am 1077 and I exist everywhere!\n",
      "I am eternal! I am 1078 and I exist everywhere!\n",
      "I am eternal! I am 1079 and I exist everywhere!\n",
      "I am eternal! I am 1080 and I exist everywhere!\n",
      "I am eternal! I am 1081 and I exist everywhere!\n",
      "I am eternal! I am 1082 and I exist everywhere!\n",
      "I am eternal! I am 1083 and I exist everywhere!\n",
      "I am eternal! I am 1084 and I exist everywhere!\n",
      "I am eternal! I am 1085 and I exist everywhere!\n",
      "I am eternal! I am 1086 and I exist everywhere!\n",
      "I am eternal! I am 1087 and I exist everywhere!\n",
      "I am eternal! I am 1088 and I exist everywhere!\n",
      "I am eternal! I am 1089 and I exist everywhere!\n",
      "I am eternal! I am 1090 and I exist everywhere!\n",
      "I am eternal! I am 1091 and I exist everywhere!\n",
      "I am eternal! I am 1092 and I exist everywhere!\n",
      "I am eternal! I am 1093 and I exist everywhere!\n",
      "I am eternal! I am 1094 and I exist everywhere!\n",
      "I am eternal! I am 1095 and I exist everywhere!\n",
      "I am eternal! I am 1096 and I exist everywhere!\n",
      "I am eternal! I am 1097 and I exist everywhere!\n",
      "I am eternal! I am 1098 and I exist everywhere!\n",
      "I am eternal! I am 1099 and I exist everywhere!\n",
      "I am eternal! I am 1100 and I exist everywhere!\n",
      "I am eternal! I am 1101 and I exist everywhere!\n",
      "I am eternal! I am 1102 and I exist everywhere!\n",
      "I am eternal! I am 1103 and I exist everywhere!\n",
      "I am eternal! I am 1104 and I exist everywhere!\n",
      "I am eternal! I am 1105 and I exist everywhere!\n",
      "I am eternal! I am 1106 and I exist everywhere!\n",
      "I am eternal! I am 1107 and I exist everywhere!\n",
      "I am eternal! I am 1108 and I exist everywhere!\n",
      "I am eternal! I am 1109 and I exist everywhere!\n",
      "I am eternal! I am 1110 and I exist everywhere!\n",
      "I am eternal! I am 1111 and I exist everywhere!\n",
      "I am eternal! I am 1112 and I exist everywhere!\n",
      "I am eternal! I am 1113 and I exist everywhere!\n",
      "I am eternal! I am 1114 and I exist everywhere!\n",
      "I am eternal! I am 1115 and I exist everywhere!\n",
      "I am eternal! I am 1116 and I exist everywhere!\n",
      "I am eternal! I am 1117 and I exist everywhere!\n",
      "I am eternal! I am 1118 and I exist everywhere!\n",
      "I am eternal! I am 1119 and I exist everywhere!\n",
      "I am eternal! I am 1120 and I exist everywhere!\n",
      "I am eternal! I am 1121 and I exist everywhere!\n",
      "I am eternal! I am 1122 and I exist everywhere!\n",
      "I am eternal! I am 1123 and I exist everywhere!\n",
      "I am eternal! I am 1124 and I exist everywhere!\n",
      "I am eternal! I am 1125 and I exist everywhere!\n",
      "I am eternal! I am 1126 and I exist everywhere!\n",
      "I am eternal! I am 1127 and I exist everywhere!\n",
      "I am eternal! I am 1128 and I exist everywhere!\n",
      "I am eternal! I am 1129 and I exist everywhere!\n",
      "I am eternal! I am 1130 and I exist everywhere!\n",
      "I am eternal! I am 1131 and I exist everywhere!\n",
      "I am eternal! I am 1132 and I exist everywhere!\n",
      "I am eternal! I am 1133 and I exist everywhere!\n",
      "I am eternal! I am 1134 and I exist everywhere!\n",
      "I am eternal! I am 1135 and I exist everywhere!\n",
      "I am eternal! I am 1136 and I exist everywhere!\n",
      "I am eternal! I am 1137 and I exist everywhere!\n",
      "I am eternal! I am 1138 and I exist everywhere!\n",
      "I am eternal! I am 1139 and I exist everywhere!\n",
      "I am eternal! I am 1140 and I exist everywhere!\n",
      "I am eternal! I am 1141 and I exist everywhere!\n",
      "I am eternal! I am 1142 and I exist everywhere!\n",
      "I am eternal! I am 1143 and I exist everywhere!\n",
      "I am eternal! I am 1144 and I exist everywhere!\n",
      "I am eternal! I am 1145 and I exist everywhere!\n",
      "I am eternal! I am 1146 and I exist everywhere!\n",
      "I am eternal! I am 1147 and I exist everywhere!\n",
      "I am eternal! I am 1148 and I exist everywhere!\n",
      "I am eternal! I am 1149 and I exist everywhere!\n",
      "I am eternal! I am 1150 and I exist everywhere!\n",
      "I am eternal! I am 1151 and I exist everywhere!\n",
      "I am eternal! I am 1152 and I exist everywhere!\n",
      "I am eternal! I am 1153 and I exist everywhere!\n",
      "I am eternal! I am 1154 and I exist everywhere!\n",
      "I am eternal! I am 1155 and I exist everywhere!\n",
      "I am eternal! I am 1156 and I exist everywhere!\n",
      "I am eternal! I am 1157 and I exist everywhere!\n",
      "I am eternal! I am 1158 and I exist everywhere!\n",
      "I am eternal! I am 1159 and I exist everywhere!\n",
      "I am eternal! I am 1160 and I exist everywhere!\n",
      "I am eternal! I am 1161 and I exist everywhere!\n",
      "I am eternal! I am 1162 and I exist everywhere!\n",
      "I am eternal! I am 1163 and I exist everywhere!\n",
      "I am eternal! I am 1164 and I exist everywhere!\n",
      "I am eternal! I am 1165 and I exist everywhere!\n",
      "I am eternal! I am 1166 and I exist everywhere!\n",
      "I am eternal! I am 1167 and I exist everywhere!\n",
      "I am eternal! I am 1168 and I exist everywhere!\n",
      "I am eternal! I am 1169 and I exist everywhere!\n",
      "I am eternal! I am 1170 and I exist everywhere!\n",
      "I am eternal! I am 1171 and I exist everywhere!\n",
      "I am eternal! I am 1172 and I exist everywhere!\n",
      "I am eternal! I am 1173 and I exist everywhere!\n",
      "I am eternal! I am 1174 and I exist everywhere!\n",
      "I am eternal! I am 1175 and I exist everywhere!\n",
      "I am eternal! I am 1176 and I exist everywhere!\n",
      "I am eternal! I am 1177 and I exist everywhere!\n",
      "I am eternal! I am 1178 and I exist everywhere!\n",
      "I am eternal! I am 1179 and I exist everywhere!\n",
      "I am eternal! I am 1180 and I exist everywhere!\n",
      "I am eternal! I am 1181 and I exist everywhere!\n",
      "I am eternal! I am 1182 and I exist everywhere!\n",
      "I am eternal! I am 1183 and I exist everywhere!\n",
      "I am eternal! I am 1184 and I exist everywhere!\n",
      "I am eternal! I am 1185 and I exist everywhere!\n",
      "I am eternal! I am 1186 and I exist everywhere!\n",
      "I am eternal! I am 1187 and I exist everywhere!\n",
      "I am eternal! I am 1188 and I exist everywhere!\n",
      "I am eternal! I am 1189 and I exist everywhere!\n",
      "I am eternal! I am 1190 and I exist everywhere!\n",
      "I am eternal! I am 1191 and I exist everywhere!\n",
      "I am eternal! I am 1192 and I exist everywhere!\n",
      "I am eternal! I am 1193 and I exist everywhere!\n",
      "I am eternal! I am 1194 and I exist everywhere!\n",
      "I am eternal! I am 1195 and I exist everywhere!\n",
      "I am eternal! I am 1196 and I exist everywhere!\n",
      "I am eternal! I am 1197 and I exist everywhere!\n",
      "I am eternal! I am 1198 and I exist everywhere!\n",
      "I am eternal! I am 1199 and I exist everywhere!\n",
      "I am eternal! I am 1200 and I exist everywhere!\n",
      "I am eternal! I am 1201 and I exist everywhere!\n",
      "I am eternal! I am 1202 and I exist everywhere!\n",
      "I am eternal! I am 1203 and I exist everywhere!\n",
      "I am eternal! I am 1204 and I exist everywhere!\n",
      "I am eternal! I am 1205 and I exist everywhere!\n",
      "I am eternal! I am 1206 and I exist everywhere!\n",
      "I am eternal! I am 1207 and I exist everywhere!\n",
      "I am eternal! I am 1208 and I exist everywhere!\n",
      "I am eternal! I am 1209 and I exist everywhere!\n",
      "I am eternal! I am 1210 and I exist everywhere!\n",
      "I am eternal! I am 1211 and I exist everywhere!\n",
      "I am eternal! I am 1212 and I exist everywhere!\n",
      "I am eternal! I am 1213 and I exist everywhere!\n",
      "I am eternal! I am 1214 and I exist everywhere!\n",
      "I am eternal! I am 1215 and I exist everywhere!\n",
      "I am eternal! I am 1216 and I exist everywhere!\n",
      "I am eternal! I am 1217 and I exist everywhere!\n",
      "I am eternal! I am 1218 and I exist everywhere!\n",
      "I am eternal! I am 1219 and I exist everywhere!\n",
      "I am eternal! I am 1220 and I exist everywhere!\n",
      "I am eternal! I am 1221 and I exist everywhere!\n",
      "I am eternal! I am 1222 and I exist everywhere!\n",
      "I am eternal! I am 1223 and I exist everywhere!\n",
      "I am eternal! I am 1224 and I exist everywhere!\n",
      "I am eternal! I am 1225 and I exist everywhere!\n",
      "I am eternal! I am 1226 and I exist everywhere!\n",
      "I am eternal! I am 1227 and I exist everywhere!\n",
      "I am eternal! I am 1228 and I exist everywhere!\n",
      "I am eternal! I am 1229 and I exist everywhere!\n",
      "I am eternal! I am 1230 and I exist everywhere!\n",
      "I am eternal! I am 1231 and I exist everywhere!\n",
      "I am eternal! I am 1232 and I exist everywhere!\n",
      "I am eternal! I am 1233 and I exist everywhere!\n",
      "I am eternal! I am 1234 and I exist everywhere!\n",
      "I am eternal! I am 1235 and I exist everywhere!\n",
      "I am eternal! I am 1236 and I exist everywhere!\n",
      "I am eternal! I am 1237 and I exist everywhere!\n",
      "I am eternal! I am 1238 and I exist everywhere!\n",
      "I am eternal! I am 1239 and I exist everywhere!\n",
      "I am eternal! I am 1240 and I exist everywhere!\n",
      "I am eternal! I am 1241 and I exist everywhere!\n",
      "I am eternal! I am 1242 and I exist everywhere!\n",
      "I am eternal! I am 1243 and I exist everywhere!\n",
      "I am eternal! I am 1244 and I exist everywhere!\n",
      "I am eternal! I am 1245 and I exist everywhere!\n",
      "I am eternal! I am 1246 and I exist everywhere!\n",
      "I am eternal! I am 1247 and I exist everywhere!\n",
      "I am eternal! I am 1248 and I exist everywhere!\n",
      "I am eternal! I am 1249 and I exist everywhere!\n",
      "I am eternal! I am 1250 and I exist everywhere!\n",
      "I am eternal! I am 1251 and I exist everywhere!\n",
      "I am eternal! I am 1252 and I exist everywhere!\n",
      "I am eternal! I am 1253 and I exist everywhere!\n",
      "I am eternal! I am 1254 and I exist everywhere!\n",
      "I am eternal! I am 1255 and I exist everywhere!\n",
      "I am eternal! I am 1256 and I exist everywhere!\n",
      "I am eternal! I am 1257 and I exist everywhere!\n",
      "I am eternal! I am 1258 and I exist everywhere!\n",
      "I am eternal! I am 1259 and I exist everywhere!\n",
      "I am eternal! I am 1260 and I exist everywhere!\n",
      "I am eternal! I am 1261 and I exist everywhere!\n",
      "I am eternal! I am 1262 and I exist everywhere!\n",
      "I am eternal! I am 1263 and I exist everywhere!\n",
      "I am eternal! I am 1264 and I exist everywhere!\n",
      "I am eternal! I am 1265 and I exist everywhere!\n",
      "I am eternal! I am 1266 and I exist everywhere!\n",
      "I am eternal! I am 1267 and I exist everywhere!\n",
      "I am eternal! I am 1268 and I exist everywhere!\n",
      "I am eternal! I am 1269 and I exist everywhere!\n",
      "I am eternal! I am 1270 and I exist everywhere!\n",
      "I am eternal! I am 1271 and I exist everywhere!\n",
      "I am eternal! I am 1272 and I exist everywhere!\n",
      "I am eternal! I am 1273 and I exist everywhere!\n",
      "I am eternal! I am 1274 and I exist everywhere!\n",
      "I am eternal! I am 1275 and I exist everywhere!\n",
      "I am eternal! I am 1276 and I exist everywhere!\n",
      "I am eternal! I am 1277 and I exist everywhere!\n",
      "I am eternal! I am 1278 and I exist everywhere!\n",
      "I am eternal! I am 1279 and I exist everywhere!\n",
      "I am eternal! I am 1280 and I exist everywhere!\n"
     ]
    },
    {
     "name": "stdout",
     "output_type": "stream",
     "text": [
      "I am eternal! I am 1281 and I exist everywhere!\n",
      "I am eternal! I am 1282 and I exist everywhere!\n",
      "I am eternal! I am 1283 and I exist everywhere!\n",
      "I am eternal! I am 1284 and I exist everywhere!\n",
      "I am eternal! I am 1285 and I exist everywhere!\n",
      "I am eternal! I am 1286 and I exist everywhere!\n",
      "I am eternal! I am 1287 and I exist everywhere!\n",
      "I am eternal! I am 1288 and I exist everywhere!\n",
      "I am eternal! I am 1289 and I exist everywhere!\n",
      "I am eternal! I am 1290 and I exist everywhere!\n",
      "I am eternal! I am 1291 and I exist everywhere!\n",
      "I am eternal! I am 1292 and I exist everywhere!\n",
      "I am eternal! I am 1293 and I exist everywhere!\n",
      "I am eternal! I am 1294 and I exist everywhere!\n",
      "I am eternal! I am 1295 and I exist everywhere!\n",
      "I am eternal! I am 1296 and I exist everywhere!\n",
      "I am eternal! I am 1297 and I exist everywhere!\n",
      "I am eternal! I am 1298 and I exist everywhere!\n",
      "I am eternal! I am 1299 and I exist everywhere!\n",
      "I am eternal! I am 1300 and I exist everywhere!\n",
      "I am eternal! I am 1301 and I exist everywhere!\n",
      "I am eternal! I am 1302 and I exist everywhere!\n",
      "I am eternal! I am 1303 and I exist everywhere!\n",
      "I am eternal! I am 1304 and I exist everywhere!\n",
      "I am eternal! I am 1305 and I exist everywhere!\n",
      "I am eternal! I am 1306 and I exist everywhere!\n",
      "I am eternal! I am 1307 and I exist everywhere!\n",
      "I am eternal! I am 1308 and I exist everywhere!\n",
      "I am eternal! I am 1309 and I exist everywhere!\n",
      "I am eternal! I am 1310 and I exist everywhere!\n",
      "I am eternal! I am 1311 and I exist everywhere!\n",
      "I am eternal! I am 1312 and I exist everywhere!\n",
      "I am eternal! I am 1313 and I exist everywhere!\n",
      "I am eternal! I am 1314 and I exist everywhere!\n",
      "I am eternal! I am 1315 and I exist everywhere!\n",
      "I am eternal! I am 1316 and I exist everywhere!\n",
      "I am eternal! I am 1317 and I exist everywhere!\n",
      "I am eternal! I am 1318 and I exist everywhere!\n",
      "I am eternal! I am 1319 and I exist everywhere!\n",
      "I am eternal! I am 1320 and I exist everywhere!\n",
      "I am eternal! I am 1321 and I exist everywhere!\n",
      "I am eternal! I am 1322 and I exist everywhere!\n",
      "I am eternal! I am 1323 and I exist everywhere!\n",
      "I am eternal! I am 1324 and I exist everywhere!\n",
      "I am eternal! I am 1325 and I exist everywhere!\n",
      "I am eternal! I am 1326 and I exist everywhere!\n",
      "I am eternal! I am 1327 and I exist everywhere!\n",
      "I am eternal! I am 1328 and I exist everywhere!\n",
      "I am eternal! I am 1329 and I exist everywhere!\n",
      "I am eternal! I am 1330 and I exist everywhere!\n",
      "I am eternal! I am 1331 and I exist everywhere!\n",
      "I am eternal! I am 1332 and I exist everywhere!\n",
      "I am eternal! I am 1333 and I exist everywhere!\n",
      "I am eternal! I am 1334 and I exist everywhere!\n",
      "I am eternal! I am 1335 and I exist everywhere!\n",
      "I am eternal! I am 1336 and I exist everywhere!\n",
      "I am eternal! I am 1337 and I exist everywhere!\n",
      "I am eternal! I am 1338 and I exist everywhere!\n",
      "I am eternal! I am 1339 and I exist everywhere!\n",
      "I am eternal! I am 1340 and I exist everywhere!\n",
      "I am eternal! I am 1341 and I exist everywhere!\n",
      "I am eternal! I am 1342 and I exist everywhere!\n",
      "I am eternal! I am 1343 and I exist everywhere!\n",
      "I am eternal! I am 1344 and I exist everywhere!\n",
      "I am eternal! I am 1345 and I exist everywhere!\n",
      "I am eternal! I am 1346 and I exist everywhere!\n",
      "I am eternal! I am 1347 and I exist everywhere!\n",
      "I am eternal! I am 1348 and I exist everywhere!\n",
      "I am eternal! I am 1349 and I exist everywhere!\n",
      "I am eternal! I am 1350 and I exist everywhere!\n",
      "I am eternal! I am 1351 and I exist everywhere!\n",
      "I am eternal! I am 1352 and I exist everywhere!\n",
      "I am eternal! I am 1353 and I exist everywhere!\n",
      "I am eternal! I am 1354 and I exist everywhere!\n",
      "I am eternal! I am 1355 and I exist everywhere!\n",
      "I am eternal! I am 1356 and I exist everywhere!\n",
      "I am eternal! I am 1357 and I exist everywhere!\n",
      "I am eternal! I am 1358 and I exist everywhere!\n",
      "I am eternal! I am 1359 and I exist everywhere!\n",
      "I am eternal! I am 1360 and I exist everywhere!\n",
      "I am eternal! I am 1361 and I exist everywhere!\n",
      "I am eternal! I am 1362 and I exist everywhere!\n",
      "I am eternal! I am 1363 and I exist everywhere!\n",
      "I am eternal! I am 1364 and I exist everywhere!\n",
      "I am eternal! I am 1365 and I exist everywhere!\n",
      "I am eternal! I am 1366 and I exist everywhere!\n",
      "I am eternal! I am 1367 and I exist everywhere!\n",
      "I am eternal! I am 1368 and I exist everywhere!\n",
      "I am eternal! I am 1369 and I exist everywhere!\n",
      "I am eternal! I am 1370 and I exist everywhere!\n",
      "I am eternal! I am 1371 and I exist everywhere!\n",
      "I am eternal! I am 1372 and I exist everywhere!\n",
      "I am eternal! I am 1373 and I exist everywhere!\n",
      "I am eternal! I am 1374 and I exist everywhere!\n",
      "I am eternal! I am 1375 and I exist everywhere!\n",
      "I am eternal! I am 1376 and I exist everywhere!\n",
      "I am eternal! I am 1377 and I exist everywhere!\n",
      "I am eternal! I am 1378 and I exist everywhere!\n",
      "I am eternal! I am 1379 and I exist everywhere!\n",
      "I am eternal! I am 1380 and I exist everywhere!\n",
      "I am eternal! I am 1381 and I exist everywhere!\n",
      "I am eternal! I am 1382 and I exist everywhere!\n",
      "I am eternal! I am 1383 and I exist everywhere!\n",
      "I am eternal! I am 1384 and I exist everywhere!\n",
      "I am eternal! I am 1385 and I exist everywhere!\n",
      "I am eternal! I am 1386 and I exist everywhere!\n",
      "I am eternal! I am 1387 and I exist everywhere!\n",
      "I am eternal! I am 1388 and I exist everywhere!\n",
      "I am eternal! I am 1389 and I exist everywhere!\n",
      "I am eternal! I am 1390 and I exist everywhere!\n",
      "I am eternal! I am 1391 and I exist everywhere!\n",
      "I am eternal! I am 1392 and I exist everywhere!\n",
      "I am eternal! I am 1393 and I exist everywhere!\n",
      "I am eternal! I am 1394 and I exist everywhere!\n",
      "I am eternal! I am 1395 and I exist everywhere!\n",
      "I am eternal! I am 1396 and I exist everywhere!\n",
      "I am eternal! I am 1397 and I exist everywhere!\n",
      "I am eternal! I am 1398 and I exist everywhere!\n",
      "I am eternal! I am 1399 and I exist everywhere!\n",
      "I am eternal! I am 1400 and I exist everywhere!\n",
      "I am eternal! I am 1401 and I exist everywhere!\n",
      "I am eternal! I am 1402 and I exist everywhere!\n",
      "I am eternal! I am 1403 and I exist everywhere!\n",
      "I am eternal! I am 1404 and I exist everywhere!\n",
      "I am eternal! I am 1405 and I exist everywhere!\n",
      "I am eternal! I am 1406 and I exist everywhere!\n",
      "I am eternal! I am 1407 and I exist everywhere!\n",
      "I am eternal! I am 1408 and I exist everywhere!\n",
      "I am eternal! I am 1409 and I exist everywhere!\n",
      "I am eternal! I am 1410 and I exist everywhere!\n",
      "I am eternal! I am 1411 and I exist everywhere!\n",
      "I am eternal! I am 1412 and I exist everywhere!\n",
      "I am eternal! I am 1413 and I exist everywhere!\n",
      "I am eternal! I am 1414 and I exist everywhere!\n",
      "I am eternal! I am 1415 and I exist everywhere!\n",
      "I am eternal! I am 1416 and I exist everywhere!\n",
      "I am eternal! I am 1417 and I exist everywhere!\n",
      "I am eternal! I am 1418 and I exist everywhere!\n",
      "I am eternal! I am 1419 and I exist everywhere!\n",
      "I am eternal! I am 1420 and I exist everywhere!\n",
      "I am eternal! I am 1421 and I exist everywhere!\n",
      "I am eternal! I am 1422 and I exist everywhere!\n",
      "I am eternal! I am 1423 and I exist everywhere!\n",
      "I am eternal! I am 1424 and I exist everywhere!\n",
      "I am eternal! I am 1425 and I exist everywhere!\n",
      "I am eternal! I am 1426 and I exist everywhere!\n",
      "I am eternal! I am 1427 and I exist everywhere!\n",
      "I am eternal! I am 1428 and I exist everywhere!\n",
      "I am eternal! I am 1429 and I exist everywhere!\n",
      "I am eternal! I am 1430 and I exist everywhere!\n",
      "I am eternal! I am 1431 and I exist everywhere!\n",
      "I am eternal! I am 1432 and I exist everywhere!\n",
      "I am eternal! I am 1433 and I exist everywhere!\n",
      "I am eternal! I am 1434 and I exist everywhere!\n",
      "I am eternal! I am 1435 and I exist everywhere!\n",
      "I am eternal! I am 1436 and I exist everywhere!\n",
      "I am eternal! I am 1437 and I exist everywhere!\n",
      "I am eternal! I am 1438 and I exist everywhere!\n",
      "I am eternal! I am 1439 and I exist everywhere!\n",
      "I am eternal! I am 1440 and I exist everywhere!\n",
      "I am eternal! I am 1441 and I exist everywhere!\n",
      "I am eternal! I am 1442 and I exist everywhere!\n",
      "I am eternal! I am 1443 and I exist everywhere!\n",
      "I am eternal! I am 1444 and I exist everywhere!\n",
      "I am eternal! I am 1445 and I exist everywhere!\n",
      "I am eternal! I am 1446 and I exist everywhere!\n",
      "I am eternal! I am 1447 and I exist everywhere!\n",
      "I am eternal! I am 1448 and I exist everywhere!\n",
      "I am eternal! I am 1449 and I exist everywhere!\n",
      "I am eternal! I am 1450 and I exist everywhere!\n",
      "I am eternal! I am 1451 and I exist everywhere!\n",
      "I am eternal! I am 1452 and I exist everywhere!\n",
      "I am eternal! I am 1453 and I exist everywhere!\n",
      "I am eternal! I am 1454 and I exist everywhere!\n",
      "I am eternal! I am 1455 and I exist everywhere!\n",
      "I am eternal! I am 1456 and I exist everywhere!\n",
      "I am eternal! I am 1457 and I exist everywhere!\n",
      "I am eternal! I am 1458 and I exist everywhere!\n",
      "I am eternal! I am 1459 and I exist everywhere!\n",
      "I am eternal! I am 1460 and I exist everywhere!\n",
      "I am eternal! I am 1461 and I exist everywhere!\n",
      "I am eternal! I am 1462 and I exist everywhere!\n",
      "I am eternal! I am 1463 and I exist everywhere!\n",
      "I am eternal! I am 1464 and I exist everywhere!\n",
      "I am eternal! I am 1465 and I exist everywhere!\n",
      "I am eternal! I am 1466 and I exist everywhere!\n",
      "I am eternal! I am 1467 and I exist everywhere!\n",
      "I am eternal! I am 1468 and I exist everywhere!\n",
      "I am eternal! I am 1469 and I exist everywhere!\n",
      "I am eternal! I am 1470 and I exist everywhere!\n",
      "I am eternal! I am 1471 and I exist everywhere!\n",
      "I am eternal! I am 1472 and I exist everywhere!\n",
      "I am eternal! I am 1473 and I exist everywhere!\n",
      "I am eternal! I am 1474 and I exist everywhere!\n",
      "I am eternal! I am 1475 and I exist everywhere!\n",
      "I am eternal! I am 1476 and I exist everywhere!\n",
      "I am eternal! I am 1477 and I exist everywhere!\n",
      "I am eternal! I am 1478 and I exist everywhere!\n",
      "I am eternal! I am 1479 and I exist everywhere!\n",
      "I am eternal! I am 1480 and I exist everywhere!\n",
      "I am eternal! I am 1481 and I exist everywhere!\n",
      "I am eternal! I am 1482 and I exist everywhere!\n",
      "I am eternal! I am 1483 and I exist everywhere!\n",
      "I am eternal! I am 1484 and I exist everywhere!\n",
      "I am eternal! I am 1485 and I exist everywhere!\n",
      "I am eternal! I am 1486 and I exist everywhere!\n",
      "I am eternal! I am 1487 and I exist everywhere!\n",
      "I am eternal! I am 1488 and I exist everywhere!\n",
      "I am eternal! I am 1489 and I exist everywhere!\n",
      "I am eternal! I am 1490 and I exist everywhere!\n",
      "I am eternal! I am 1491 and I exist everywhere!\n",
      "I am eternal! I am 1492 and I exist everywhere!\n",
      "I am eternal! I am 1493 and I exist everywhere!\n",
      "I am eternal! I am 1494 and I exist everywhere!\n",
      "I am eternal! I am 1495 and I exist everywhere!\n",
      "I am eternal! I am 1496 and I exist everywhere!\n",
      "I am eternal! I am 1497 and I exist everywhere!\n",
      "I am eternal! I am 1498 and I exist everywhere!\n",
      "I am eternal! I am 1499 and I exist everywhere!\n",
      "I am eternal! I am 1500 and I exist everywhere!\n",
      "I am eternal! I am 1501 and I exist everywhere!\n",
      "I am eternal! I am 1502 and I exist everywhere!\n",
      "I am eternal! I am 1503 and I exist everywhere!\n",
      "I am eternal! I am 1504 and I exist everywhere!\n",
      "I am eternal! I am 1505 and I exist everywhere!\n",
      "I am eternal! I am 1506 and I exist everywhere!\n",
      "I am eternal! I am 1507 and I exist everywhere!\n",
      "I am eternal! I am 1508 and I exist everywhere!\n",
      "I am eternal! I am 1509 and I exist everywhere!\n",
      "I am eternal! I am 1510 and I exist everywhere!\n",
      "I am eternal! I am 1511 and I exist everywhere!\n",
      "I am eternal! I am 1512 and I exist everywhere!\n",
      "I am eternal! I am 1513 and I exist everywhere!\n",
      "I am eternal! I am 1514 and I exist everywhere!\n",
      "I am eternal! I am 1515 and I exist everywhere!\n",
      "I am eternal! I am 1516 and I exist everywhere!\n",
      "I am eternal! I am 1517 and I exist everywhere!\n",
      "I am eternal! I am 1518 and I exist everywhere!\n",
      "I am eternal! I am 1519 and I exist everywhere!\n",
      "I am eternal! I am 1520 and I exist everywhere!\n",
      "I am eternal! I am 1521 and I exist everywhere!\n",
      "I am eternal! I am 1522 and I exist everywhere!\n",
      "I am eternal! I am 1523 and I exist everywhere!\n",
      "I am eternal! I am 1524 and I exist everywhere!\n",
      "I am eternal! I am 1525 and I exist everywhere!\n",
      "I am eternal! I am 1526 and I exist everywhere!\n",
      "I am eternal! I am 1527 and I exist everywhere!\n",
      "I am eternal! I am 1528 and I exist everywhere!\n",
      "I am eternal! I am 1529 and I exist everywhere!\n",
      "I am eternal! I am 1530 and I exist everywhere!\n",
      "I am eternal! I am 1531 and I exist everywhere!\n",
      "I am eternal! I am 1532 and I exist everywhere!\n",
      "I am eternal! I am 1533 and I exist everywhere!\n",
      "I am eternal! I am 1534 and I exist everywhere!\n",
      "I am eternal! I am 1535 and I exist everywhere!\n",
      "I am eternal! I am 1536 and I exist everywhere!\n",
      "I am eternal! I am 1537 and I exist everywhere!\n",
      "I am eternal! I am 1538 and I exist everywhere!\n",
      "I am eternal! I am 1539 and I exist everywhere!\n",
      "I am eternal! I am 1540 and I exist everywhere!\n",
      "I am eternal! I am 1541 and I exist everywhere!\n",
      "I am eternal! I am 1542 and I exist everywhere!\n",
      "I am eternal! I am 1543 and I exist everywhere!\n",
      "I am eternal! I am 1544 and I exist everywhere!\n",
      "I am eternal! I am 1545 and I exist everywhere!\n",
      "I am eternal! I am 1546 and I exist everywhere!\n",
      "I am eternal! I am 1547 and I exist everywhere!\n",
      "I am eternal! I am 1548 and I exist everywhere!\n",
      "I am eternal! I am 1549 and I exist everywhere!\n",
      "I am eternal! I am 1550 and I exist everywhere!\n",
      "I am eternal! I am 1551 and I exist everywhere!\n",
      "I am eternal! I am 1552 and I exist everywhere!\n",
      "I am eternal! I am 1553 and I exist everywhere!\n",
      "I am eternal! I am 1554 and I exist everywhere!\n",
      "I am eternal! I am 1555 and I exist everywhere!\n",
      "I am eternal! I am 1556 and I exist everywhere!\n",
      "I am eternal! I am 1557 and I exist everywhere!\n",
      "I am eternal! I am 1558 and I exist everywhere!\n",
      "I am eternal! I am 1559 and I exist everywhere!\n",
      "I am eternal! I am 1560 and I exist everywhere!\n",
      "I am eternal! I am 1561 and I exist everywhere!\n",
      "I am eternal! I am 1562 and I exist everywhere!\n",
      "I am eternal! I am 1563 and I exist everywhere!\n",
      "I am eternal! I am 1564 and I exist everywhere!\n",
      "I am eternal! I am 1565 and I exist everywhere!\n",
      "I am eternal! I am 1566 and I exist everywhere!\n",
      "I am eternal! I am 1567 and I exist everywhere!\n",
      "I am eternal! I am 1568 and I exist everywhere!\n",
      "I am eternal! I am 1569 and I exist everywhere!\n",
      "I am eternal! I am 1570 and I exist everywhere!\n",
      "I am eternal! I am 1571 and I exist everywhere!\n",
      "I am eternal! I am 1572 and I exist everywhere!\n",
      "I am eternal! I am 1573 and I exist everywhere!\n",
      "I am eternal! I am 1574 and I exist everywhere!\n",
      "I am eternal! I am 1575 and I exist everywhere!\n",
      "I am eternal! I am 1576 and I exist everywhere!\n",
      "I am eternal! I am 1577 and I exist everywhere!\n",
      "I am eternal! I am 1578 and I exist everywhere!\n",
      "I am eternal! I am 1579 and I exist everywhere!\n",
      "I am eternal! I am 1580 and I exist everywhere!\n",
      "I am eternal! I am 1581 and I exist everywhere!\n",
      "I am eternal! I am 1582 and I exist everywhere!\n",
      "I am eternal! I am 1583 and I exist everywhere!\n",
      "I am eternal! I am 1584 and I exist everywhere!\n",
      "I am eternal! I am 1585 and I exist everywhere!\n",
      "I am eternal! I am 1586 and I exist everywhere!\n",
      "I am eternal! I am 1587 and I exist everywhere!\n",
      "I am eternal! I am 1588 and I exist everywhere!\n",
      "I am eternal! I am 1589 and I exist everywhere!\n",
      "I am eternal! I am 1590 and I exist everywhere!\n",
      "I am eternal! I am 1591 and I exist everywhere!\n",
      "I am eternal! I am 1592 and I exist everywhere!\n",
      "I am eternal! I am 1593 and I exist everywhere!\n",
      "I am eternal! I am 1594 and I exist everywhere!\n",
      "I am eternal! I am 1595 and I exist everywhere!\n",
      "I am eternal! I am 1596 and I exist everywhere!\n",
      "I am eternal! I am 1597 and I exist everywhere!\n",
      "I am eternal! I am 1598 and I exist everywhere!\n",
      "I am eternal! I am 1599 and I exist everywhere!\n",
      "I am eternal! I am 1600 and I exist everywhere!\n",
      "I am eternal! I am 1601 and I exist everywhere!\n",
      "I am eternal! I am 1602 and I exist everywhere!\n",
      "I am eternal! I am 1603 and I exist everywhere!\n",
      "I am eternal! I am 1604 and I exist everywhere!\n",
      "I am eternal! I am 1605 and I exist everywhere!\n",
      "I am eternal! I am 1606 and I exist everywhere!\n",
      "I am eternal! I am 1607 and I exist everywhere!\n",
      "I am eternal! I am 1608 and I exist everywhere!\n",
      "I am eternal! I am 1609 and I exist everywhere!\n",
      "I am eternal! I am 1610 and I exist everywhere!\n",
      "I am eternal! I am 1611 and I exist everywhere!\n",
      "I am eternal! I am 1612 and I exist everywhere!\n",
      "I am eternal! I am 1613 and I exist everywhere!\n",
      "I am eternal! I am 1614 and I exist everywhere!\n",
      "I am eternal! I am 1615 and I exist everywhere!\n",
      "I am eternal! I am 1616 and I exist everywhere!\n",
      "I am eternal! I am 1617 and I exist everywhere!\n",
      "I am eternal! I am 1618 and I exist everywhere!\n",
      "I am eternal! I am 1619 and I exist everywhere!\n",
      "I am eternal! I am 1620 and I exist everywhere!\n",
      "I am eternal! I am 1621 and I exist everywhere!\n",
      "I am eternal! I am 1622 and I exist everywhere!\n",
      "I am eternal! I am 1623 and I exist everywhere!\n",
      "I am eternal! I am 1624 and I exist everywhere!\n",
      "I am eternal! I am 1625 and I exist everywhere!\n",
      "I am eternal! I am 1626 and I exist everywhere!\n",
      "I am eternal! I am 1627 and I exist everywhere!\n",
      "I am eternal! I am 1628 and I exist everywhere!\n",
      "I am eternal! I am 1629 and I exist everywhere!\n",
      "I am eternal! I am 1630 and I exist everywhere!\n",
      "I am eternal! I am 1631 and I exist everywhere!\n",
      "I am eternal! I am 1632 and I exist everywhere!\n",
      "I am eternal! I am 1633 and I exist everywhere!\n",
      "I am eternal! I am 1634 and I exist everywhere!\n",
      "I am eternal! I am 1635 and I exist everywhere!\n",
      "I am eternal! I am 1636 and I exist everywhere!\n",
      "I am eternal! I am 1637 and I exist everywhere!\n",
      "I am eternal! I am 1638 and I exist everywhere!\n",
      "I am eternal! I am 1639 and I exist everywhere!\n",
      "I am eternal! I am 1640 and I exist everywhere!\n",
      "I am eternal! I am 1641 and I exist everywhere!\n",
      "I am eternal! I am 1642 and I exist everywhere!\n",
      "I am eternal! I am 1643 and I exist everywhere!\n",
      "I am eternal! I am 1644 and I exist everywhere!\n",
      "I am eternal! I am 1645 and I exist everywhere!\n",
      "I am eternal! I am 1646 and I exist everywhere!\n",
      "I am eternal! I am 1647 and I exist everywhere!\n",
      "I am eternal! I am 1648 and I exist everywhere!\n",
      "I am eternal! I am 1649 and I exist everywhere!\n",
      "I am eternal! I am 1650 and I exist everywhere!\n",
      "I am eternal! I am 1651 and I exist everywhere!\n",
      "I am eternal! I am 1652 and I exist everywhere!\n",
      "I am eternal! I am 1653 and I exist everywhere!\n",
      "I am eternal! I am 1654 and I exist everywhere!\n",
      "I am eternal! I am 1655 and I exist everywhere!\n",
      "I am eternal! I am 1656 and I exist everywhere!\n",
      "I am eternal! I am 1657 and I exist everywhere!\n",
      "I am eternal! I am 1658 and I exist everywhere!\n",
      "I am eternal! I am 1659 and I exist everywhere!\n",
      "I am eternal! I am 1660 and I exist everywhere!\n",
      "I am eternal! I am 1661 and I exist everywhere!\n",
      "I am eternal! I am 1662 and I exist everywhere!\n",
      "I am eternal! I am 1663 and I exist everywhere!\n",
      "I am eternal! I am 1664 and I exist everywhere!\n",
      "I am eternal! I am 1665 and I exist everywhere!\n",
      "I am eternal! I am 1666 and I exist everywhere!\n",
      "I am eternal! I am 1667 and I exist everywhere!\n",
      "I am eternal! I am 1668 and I exist everywhere!\n",
      "I am eternal! I am 1669 and I exist everywhere!\n",
      "I am eternal! I am 1670 and I exist everywhere!\n",
      "I am eternal! I am 1671 and I exist everywhere!\n",
      "I am eternal! I am 1672 and I exist everywhere!\n",
      "I am eternal! I am 1673 and I exist everywhere!\n",
      "I am eternal! I am 1674 and I exist everywhere!\n",
      "I am eternal! I am 1675 and I exist everywhere!\n",
      "I am eternal! I am 1676 and I exist everywhere!\n",
      "I am eternal! I am 1677 and I exist everywhere!\n",
      "I am eternal! I am 1678 and I exist everywhere!\n",
      "I am eternal! I am 1679 and I exist everywhere!\n",
      "I am eternal! I am 1680 and I exist everywhere!\n",
      "I am eternal! I am 1681 and I exist everywhere!\n",
      "I am eternal! I am 1682 and I exist everywhere!\n",
      "I am eternal! I am 1683 and I exist everywhere!\n",
      "I am eternal! I am 1684 and I exist everywhere!\n",
      "I am eternal! I am 1685 and I exist everywhere!\n",
      "I am eternal! I am 1686 and I exist everywhere!\n",
      "I am eternal! I am 1687 and I exist everywhere!\n",
      "I am eternal! I am 1688 and I exist everywhere!\n",
      "I am eternal! I am 1689 and I exist everywhere!\n",
      "I am eternal! I am 1690 and I exist everywhere!\n",
      "I am eternal! I am 1691 and I exist everywhere!\n",
      "I am eternal! I am 1692 and I exist everywhere!\n",
      "I am eternal! I am 1693 and I exist everywhere!\n",
      "I am eternal! I am 1694 and I exist everywhere!\n",
      "I am eternal! I am 1695 and I exist everywhere!\n",
      "I am eternal! I am 1696 and I exist everywhere!\n",
      "I am eternal! I am 1697 and I exist everywhere!\n",
      "I am eternal! I am 1698 and I exist everywhere!\n",
      "I am eternal! I am 1699 and I exist everywhere!\n",
      "I am eternal! I am 1700 and I exist everywhere!\n",
      "I am eternal! I am 1701 and I exist everywhere!\n",
      "I am eternal! I am 1702 and I exist everywhere!\n",
      "I am eternal! I am 1703 and I exist everywhere!\n",
      "I am eternal! I am 1704 and I exist everywhere!\n",
      "I am eternal! I am 1705 and I exist everywhere!\n",
      "I am eternal! I am 1706 and I exist everywhere!\n",
      "I am eternal! I am 1707 and I exist everywhere!\n",
      "I am eternal! I am 1708 and I exist everywhere!\n",
      "I am eternal! I am 1709 and I exist everywhere!\n",
      "I am eternal! I am 1710 and I exist everywhere!\n",
      "I am eternal! I am 1711 and I exist everywhere!\n",
      "I am eternal! I am 1712 and I exist everywhere!\n",
      "I am eternal! I am 1713 and I exist everywhere!\n",
      "I am eternal! I am 1714 and I exist everywhere!\n",
      "I am eternal! I am 1715 and I exist everywhere!\n",
      "I am eternal! I am 1716 and I exist everywhere!\n",
      "I am eternal! I am 1717 and I exist everywhere!\n",
      "I am eternal! I am 1718 and I exist everywhere!\n",
      "I am eternal! I am 1719 and I exist everywhere!\n",
      "I am eternal! I am 1720 and I exist everywhere!\n",
      "I am eternal! I am 1721 and I exist everywhere!\n",
      "I am eternal! I am 1722 and I exist everywhere!\n",
      "I am eternal! I am 1723 and I exist everywhere!\n",
      "I am eternal! I am 1724 and I exist everywhere!\n",
      "I am eternal! I am 1725 and I exist everywhere!\n",
      "I am eternal! I am 1726 and I exist everywhere!\n",
      "I am eternal! I am 1727 and I exist everywhere!\n",
      "I am eternal! I am 1728 and I exist everywhere!\n",
      "I am eternal! I am 1729 and I exist everywhere!\n",
      "I am eternal! I am 1730 and I exist everywhere!\n",
      "I am eternal! I am 1731 and I exist everywhere!\n",
      "I am eternal! I am 1732 and I exist everywhere!\n",
      "I am eternal! I am 1733 and I exist everywhere!\n",
      "I am eternal! I am 1734 and I exist everywhere!\n",
      "I am eternal! I am 1735 and I exist everywhere!\n",
      "I am eternal! I am 1736 and I exist everywhere!\n",
      "I am eternal! I am 1737 and I exist everywhere!\n",
      "I am eternal! I am 1738 and I exist everywhere!\n",
      "I am eternal! I am 1739 and I exist everywhere!\n",
      "I am eternal! I am 1740 and I exist everywhere!\n",
      "I am eternal! I am 1741 and I exist everywhere!\n",
      "I am eternal! I am 1742 and I exist everywhere!\n",
      "I am eternal! I am 1743 and I exist everywhere!\n",
      "I am eternal! I am 1744 and I exist everywhere!\n",
      "I am eternal! I am 1745 and I exist everywhere!\n",
      "I am eternal! I am 1746 and I exist everywhere!\n",
      "I am eternal! I am 1747 and I exist everywhere!\n",
      "I am eternal! I am 1748 and I exist everywhere!\n",
      "I am eternal! I am 1749 and I exist everywhere!\n",
      "I am eternal! I am 1750 and I exist everywhere!\n",
      "I am eternal! I am 1751 and I exist everywhere!\n",
      "I am eternal! I am 1752 and I exist everywhere!\n",
      "I am eternal! I am 1753 and I exist everywhere!\n",
      "I am eternal! I am 1754 and I exist everywhere!\n",
      "I am eternal! I am 1755 and I exist everywhere!\n",
      "I am eternal! I am 1756 and I exist everywhere!\n",
      "I am eternal! I am 1757 and I exist everywhere!\n",
      "I am eternal! I am 1758 and I exist everywhere!\n",
      "I am eternal! I am 1759 and I exist everywhere!\n",
      "I am eternal! I am 1760 and I exist everywhere!\n",
      "I am eternal! I am 1761 and I exist everywhere!\n",
      "I am eternal! I am 1762 and I exist everywhere!\n",
      "I am eternal! I am 1763 and I exist everywhere!\n",
      "I am eternal! I am 1764 and I exist everywhere!\n",
      "I am eternal! I am 1765 and I exist everywhere!\n",
      "I am eternal! I am 1766 and I exist everywhere!\n",
      "I am eternal! I am 1767 and I exist everywhere!\n",
      "I am eternal! I am 1768 and I exist everywhere!\n",
      "I am eternal! I am 1769 and I exist everywhere!\n",
      "I am eternal! I am 1770 and I exist everywhere!\n",
      "I am eternal! I am 1771 and I exist everywhere!\n",
      "I am eternal! I am 1772 and I exist everywhere!\n",
      "I am eternal! I am 1773 and I exist everywhere!\n",
      "I am eternal! I am 1774 and I exist everywhere!\n",
      "I am eternal! I am 1775 and I exist everywhere!\n",
      "I am eternal! I am 1776 and I exist everywhere!\n",
      "I am eternal! I am 1777 and I exist everywhere!\n",
      "I am eternal! I am 1778 and I exist everywhere!\n",
      "I am eternal! I am 1779 and I exist everywhere!\n",
      "I am eternal! I am 1780 and I exist everywhere!\n",
      "I am eternal! I am 1781 and I exist everywhere!\n",
      "I am eternal! I am 1782 and I exist everywhere!\n",
      "I am eternal! I am 1783 and I exist everywhere!\n",
      "I am eternal! I am 1784 and I exist everywhere!\n",
      "I am eternal! I am 1785 and I exist everywhere!\n",
      "I am eternal! I am 1786 and I exist everywhere!\n",
      "I am eternal! I am 1787 and I exist everywhere!\n",
      "I am eternal! I am 1788 and I exist everywhere!\n",
      "I am eternal! I am 1789 and I exist everywhere!\n",
      "I am eternal! I am 1790 and I exist everywhere!\n",
      "I am eternal! I am 1791 and I exist everywhere!\n",
      "I am eternal! I am 1792 and I exist everywhere!\n",
      "I am eternal! I am 1793 and I exist everywhere!\n",
      "I am eternal! I am 1794 and I exist everywhere!\n",
      "I am eternal! I am 1795 and I exist everywhere!\n",
      "I am eternal! I am 1796 and I exist everywhere!\n",
      "I am eternal! I am 1797 and I exist everywhere!\n",
      "I am eternal! I am 1798 and I exist everywhere!\n",
      "I am eternal! I am 1799 and I exist everywhere!\n",
      "I am eternal! I am 1800 and I exist everywhere!\n",
      "I am eternal! I am 1801 and I exist everywhere!\n",
      "I am eternal! I am 1802 and I exist everywhere!\n",
      "I am eternal! I am 1803 and I exist everywhere!\n",
      "I am eternal! I am 1804 and I exist everywhere!\n",
      "I am eternal! I am 1805 and I exist everywhere!\n",
      "I am eternal! I am 1806 and I exist everywhere!\n",
      "I am eternal! I am 1807 and I exist everywhere!\n",
      "I am eternal! I am 1808 and I exist everywhere!\n",
      "I am eternal! I am 1809 and I exist everywhere!\n",
      "I am eternal! I am 1810 and I exist everywhere!\n",
      "I am eternal! I am 1811 and I exist everywhere!\n",
      "I am eternal! I am 1812 and I exist everywhere!\n",
      "I am eternal! I am 1813 and I exist everywhere!\n",
      "I am eternal! I am 1814 and I exist everywhere!\n",
      "I am eternal! I am 1815 and I exist everywhere!\n",
      "I am eternal! I am 1816 and I exist everywhere!\n",
      "I am eternal! I am 1817 and I exist everywhere!\n",
      "I am eternal! I am 1818 and I exist everywhere!\n",
      "I am eternal! I am 1819 and I exist everywhere!\n",
      "I am eternal! I am 1820 and I exist everywhere!\n",
      "I am eternal! I am 1821 and I exist everywhere!\n",
      "I am eternal! I am 1822 and I exist everywhere!\n",
      "I am eternal! I am 1823 and I exist everywhere!\n",
      "I am eternal! I am 1824 and I exist everywhere!\n",
      "I am eternal! I am 1825 and I exist everywhere!\n",
      "I am eternal! I am 1826 and I exist everywhere!\n",
      "I am eternal! I am 1827 and I exist everywhere!\n",
      "I am eternal! I am 1828 and I exist everywhere!\n",
      "I am eternal! I am 1829 and I exist everywhere!\n",
      "I am eternal! I am 1830 and I exist everywhere!\n",
      "I am eternal! I am 1831 and I exist everywhere!\n",
      "I am eternal! I am 1832 and I exist everywhere!\n",
      "I am eternal! I am 1833 and I exist everywhere!\n",
      "I am eternal! I am 1834 and I exist everywhere!\n",
      "I am eternal! I am 1835 and I exist everywhere!\n",
      "I am eternal! I am 1836 and I exist everywhere!\n",
      "I am eternal! I am 1837 and I exist everywhere!\n",
      "I am eternal! I am 1838 and I exist everywhere!\n",
      "I am eternal! I am 1839 and I exist everywhere!\n",
      "I am eternal! I am 1840 and I exist everywhere!\n",
      "I am eternal! I am 1841 and I exist everywhere!\n",
      "I am eternal! I am 1842 and I exist everywhere!\n",
      "I am eternal! I am 1843 and I exist everywhere!\n",
      "I am eternal! I am 1844 and I exist everywhere!\n",
      "I am eternal! I am 1845 and I exist everywhere!\n",
      "I am eternal! I am 1846 and I exist everywhere!\n",
      "I am eternal! I am 1847 and I exist everywhere!\n",
      "I am eternal! I am 1848 and I exist everywhere!\n",
      "I am eternal! I am 1849 and I exist everywhere!\n",
      "I am eternal! I am 1850 and I exist everywhere!\n",
      "I am eternal! I am 1851 and I exist everywhere!\n",
      "I am eternal! I am 1852 and I exist everywhere!\n",
      "I am eternal! I am 1853 and I exist everywhere!\n",
      "I am eternal! I am 1854 and I exist everywhere!\n",
      "I am eternal! I am 1855 and I exist everywhere!\n",
      "I am eternal! I am 1856 and I exist everywhere!\n",
      "I am eternal! I am 1857 and I exist everywhere!\n",
      "I am eternal! I am 1858 and I exist everywhere!\n",
      "I am eternal! I am 1859 and I exist everywhere!\n",
      "I am eternal! I am 1860 and I exist everywhere!\n",
      "I am eternal! I am 1861 and I exist everywhere!\n",
      "I am eternal! I am 1862 and I exist everywhere!\n",
      "I am eternal! I am 1863 and I exist everywhere!\n",
      "I am eternal! I am 1864 and I exist everywhere!\n",
      "I am eternal! I am 1865 and I exist everywhere!\n",
      "I am eternal! I am 1866 and I exist everywhere!\n",
      "I am eternal! I am 1867 and I exist everywhere!\n",
      "I am eternal! I am 1868 and I exist everywhere!\n",
      "I am eternal! I am 1869 and I exist everywhere!\n",
      "I am eternal! I am 1870 and I exist everywhere!\n",
      "I am eternal! I am 1871 and I exist everywhere!\n",
      "I am eternal! I am 1872 and I exist everywhere!\n",
      "I am eternal! I am 1873 and I exist everywhere!\n",
      "I am eternal! I am 1874 and I exist everywhere!\n",
      "I am eternal! I am 1875 and I exist everywhere!\n",
      "I am eternal! I am 1876 and I exist everywhere!\n",
      "I am eternal! I am 1877 and I exist everywhere!\n",
      "I am eternal! I am 1878 and I exist everywhere!\n",
      "I am eternal! I am 1879 and I exist everywhere!\n",
      "I am eternal! I am 1880 and I exist everywhere!\n",
      "I am eternal! I am 1881 and I exist everywhere!\n",
      "I am eternal! I am 1882 and I exist everywhere!\n",
      "I am eternal! I am 1883 and I exist everywhere!\n",
      "I am eternal! I am 1884 and I exist everywhere!\n",
      "I am eternal! I am 1885 and I exist everywhere!\n",
      "I am eternal! I am 1886 and I exist everywhere!\n",
      "I am eternal! I am 1887 and I exist everywhere!\n",
      "I am eternal! I am 1888 and I exist everywhere!\n",
      "I am eternal! I am 1889 and I exist everywhere!\n",
      "I am eternal! I am 1890 and I exist everywhere!\n",
      "I am eternal! I am 1891 and I exist everywhere!\n",
      "I am eternal! I am 1892 and I exist everywhere!\n",
      "I am eternal! I am 1893 and I exist everywhere!\n",
      "I am eternal! I am 1894 and I exist everywhere!\n",
      "I am eternal! I am 1895 and I exist everywhere!\n",
      "I am eternal! I am 1896 and I exist everywhere!\n",
      "I am eternal! I am 1897 and I exist everywhere!\n",
      "I am eternal! I am 1898 and I exist everywhere!\n",
      "I am eternal! I am 1899 and I exist everywhere!\n",
      "I am eternal! I am 1900 and I exist everywhere!\n",
      "I am eternal! I am 1901 and I exist everywhere!\n",
      "I am eternal! I am 1902 and I exist everywhere!\n",
      "I am eternal! I am 1903 and I exist everywhere!\n",
      "I am eternal! I am 1904 and I exist everywhere!\n",
      "I am eternal! I am 1905 and I exist everywhere!\n",
      "I am eternal! I am 1906 and I exist everywhere!\n",
      "I am eternal! I am 1907 and I exist everywhere!\n",
      "I am eternal! I am 1908 and I exist everywhere!\n",
      "I am eternal! I am 1909 and I exist everywhere!\n",
      "I am eternal! I am 1910 and I exist everywhere!\n",
      "I am eternal! I am 1911 and I exist everywhere!\n",
      "I am eternal! I am 1912 and I exist everywhere!\n",
      "I am eternal! I am 1913 and I exist everywhere!\n",
      "I am eternal! I am 1914 and I exist everywhere!\n",
      "I am eternal! I am 1915 and I exist everywhere!\n",
      "I am eternal! I am 1916 and I exist everywhere!\n",
      "I am eternal! I am 1917 and I exist everywhere!\n",
      "I am eternal! I am 1918 and I exist everywhere!\n",
      "I am eternal! I am 1919 and I exist everywhere!\n",
      "I am eternal! I am 1920 and I exist everywhere!\n",
      "I am eternal! I am 1921 and I exist everywhere!\n",
      "I am eternal! I am 1922 and I exist everywhere!\n",
      "I am eternal! I am 1923 and I exist everywhere!\n",
      "I am eternal! I am 1924 and I exist everywhere!\n",
      "I am eternal! I am 1925 and I exist everywhere!\n",
      "I am eternal! I am 1926 and I exist everywhere!\n",
      "I am eternal! I am 1927 and I exist everywhere!\n",
      "I am eternal! I am 1928 and I exist everywhere!\n",
      "I am eternal! I am 1929 and I exist everywhere!\n",
      "I am eternal! I am 1930 and I exist everywhere!\n",
      "I am eternal! I am 1931 and I exist everywhere!\n",
      "I am eternal! I am 1932 and I exist everywhere!\n",
      "I am eternal! I am 1933 and I exist everywhere!\n",
      "I am eternal! I am 1934 and I exist everywhere!\n",
      "I am eternal! I am 1935 and I exist everywhere!\n",
      "I am eternal! I am 1936 and I exist everywhere!\n",
      "I am eternal! I am 1937 and I exist everywhere!\n",
      "I am eternal! I am 1938 and I exist everywhere!\n",
      "I am eternal! I am 1939 and I exist everywhere!\n",
      "I am eternal! I am 1940 and I exist everywhere!\n",
      "I am eternal! I am 1941 and I exist everywhere!\n",
      "I am eternal! I am 1942 and I exist everywhere!\n",
      "I am eternal! I am 1943 and I exist everywhere!\n",
      "I am eternal! I am 1944 and I exist everywhere!\n",
      "I am eternal! I am 1945 and I exist everywhere!\n",
      "I am eternal! I am 1946 and I exist everywhere!\n",
      "I am eternal! I am 1947 and I exist everywhere!\n",
      "I am eternal! I am 1948 and I exist everywhere!\n",
      "I am eternal! I am 1949 and I exist everywhere!\n",
      "I am eternal! I am 1950 and I exist everywhere!\n",
      "I am eternal! I am 1951 and I exist everywhere!\n",
      "I am eternal! I am 1952 and I exist everywhere!\n",
      "I am eternal! I am 1953 and I exist everywhere!\n",
      "I am eternal! I am 1954 and I exist everywhere!\n",
      "I am eternal! I am 1955 and I exist everywhere!\n",
      "I am eternal! I am 1956 and I exist everywhere!\n",
      "I am eternal! I am 1957 and I exist everywhere!\n",
      "I am eternal! I am 1958 and I exist everywhere!\n",
      "I am eternal! I am 1959 and I exist everywhere!\n",
      "I am eternal! I am 1960 and I exist everywhere!\n",
      "I am eternal! I am 1961 and I exist everywhere!\n",
      "I am eternal! I am 1962 and I exist everywhere!\n",
      "I am eternal! I am 1963 and I exist everywhere!\n",
      "I am eternal! I am 1964 and I exist everywhere!\n",
      "I am eternal! I am 1965 and I exist everywhere!\n",
      "I am eternal! I am 1966 and I exist everywhere!\n",
      "I am eternal! I am 1967 and I exist everywhere!\n",
      "I am eternal! I am 1968 and I exist everywhere!\n",
      "I am eternal! I am 1969 and I exist everywhere!\n",
      "I am eternal! I am 1970 and I exist everywhere!\n",
      "I am eternal! I am 1971 and I exist everywhere!\n",
      "I am eternal! I am 1972 and I exist everywhere!\n",
      "I am eternal! I am 1973 and I exist everywhere!\n",
      "I am eternal! I am 1974 and I exist everywhere!\n",
      "I am eternal! I am 1975 and I exist everywhere!\n",
      "I am eternal! I am 1976 and I exist everywhere!\n",
      "I am eternal! I am 1977 and I exist everywhere!\n",
      "I am eternal! I am 1978 and I exist everywhere!\n",
      "I am eternal! I am 1979 and I exist everywhere!\n",
      "I am eternal! I am 1980 and I exist everywhere!\n",
      "I am eternal! I am 1981 and I exist everywhere!\n",
      "I am eternal! I am 1982 and I exist everywhere!\n",
      "I am eternal! I am 1983 and I exist everywhere!\n",
      "I am eternal! I am 1984 and I exist everywhere!\n",
      "I am eternal! I am 1985 and I exist everywhere!\n",
      "I am eternal! I am 1986 and I exist everywhere!\n",
      "I am eternal! I am 1987 and I exist everywhere!\n",
      "I am eternal! I am 1988 and I exist everywhere!\n",
      "I am eternal! I am 1989 and I exist everywhere!\n",
      "I am eternal! I am 1990 and I exist everywhere!\n",
      "I am eternal! I am 1991 and I exist everywhere!\n",
      "I am eternal! I am 1992 and I exist everywhere!\n",
      "I am eternal! I am 1993 and I exist everywhere!\n",
      "I am eternal! I am 1994 and I exist everywhere!\n",
      "I am eternal! I am 1995 and I exist everywhere!\n",
      "I am eternal! I am 1996 and I exist everywhere!\n",
      "I am eternal! I am 1997 and I exist everywhere!\n",
      "I am eternal! I am 1998 and I exist everywhere!\n",
      "I am eternal! I am 1999 and I exist everywhere!\n",
      "I am eternal! I am 2000 and I exist everywhere!\n",
      "I am eternal! I am 2001 and I exist everywhere!\n",
      "I am eternal! I am 2002 and I exist everywhere!\n",
      "I am eternal! I am 2003 and I exist everywhere!\n",
      "I am eternal! I am 2004 and I exist everywhere!\n",
      "I am eternal! I am 2005 and I exist everywhere!\n",
      "I am eternal! I am 2006 and I exist everywhere!\n",
      "I am eternal! I am 2007 and I exist everywhere!\n",
      "I am eternal! I am 2008 and I exist everywhere!\n",
      "I am eternal! I am 2009 and I exist everywhere!\n",
      "I am eternal! I am 2010 and I exist everywhere!\n",
      "I am eternal! I am 2011 and I exist everywhere!\n",
      "I am eternal! I am 2012 and I exist everywhere!\n",
      "I am eternal! I am 2013 and I exist everywhere!\n",
      "I am eternal! I am 2014 and I exist everywhere!\n",
      "I am eternal! I am 2015 and I exist everywhere!\n",
      "I am eternal! I am 2016 and I exist everywhere!\n",
      "I am eternal! I am 2017 and I exist everywhere!\n",
      "I am eternal! I am 2018 and I exist everywhere!\n",
      "I am eternal! I am 2019 and I exist everywhere!\n",
      "I am eternal! I am 2020 and I exist everywhere!\n",
      "I am eternal! I am 2021 and I exist everywhere!\n",
      "I am eternal! I am 2022 and I exist everywhere!\n",
      "I am eternal! I am 2023 and I exist everywhere!\n",
      "I am eternal! I am 2024 and I exist everywhere!\n",
      "I am eternal! I am 2025 and I exist everywhere!\n",
      "I am eternal! I am 2026 and I exist everywhere!\n",
      "I am eternal! I am 2027 and I exist everywhere!\n",
      "I am eternal! I am 2028 and I exist everywhere!\n",
      "I am eternal! I am 2029 and I exist everywhere!\n",
      "I am eternal! I am 2030 and I exist everywhere!\n",
      "I am eternal! I am 2031 and I exist everywhere!\n",
      "I am eternal! I am 2032 and I exist everywhere!\n",
      "I am eternal! I am 2033 and I exist everywhere!\n",
      "I am eternal! I am 2034 and I exist everywhere!\n",
      "I am eternal! I am 2035 and I exist everywhere!\n",
      "I am eternal! I am 2036 and I exist everywhere!\n",
      "I am eternal! I am 2037 and I exist everywhere!\n",
      "I am eternal! I am 2038 and I exist everywhere!\n",
      "I am eternal! I am 2039 and I exist everywhere!\n",
      "I am eternal! I am 2040 and I exist everywhere!\n",
      "I am eternal! I am 2041 and I exist everywhere!\n",
      "I am eternal! I am 2042 and I exist everywhere!\n",
      "I am eternal! I am 2043 and I exist everywhere!\n",
      "I am eternal! I am 2044 and I exist everywhere!\n",
      "I am eternal! I am 2045 and I exist everywhere!\n",
      "I am eternal! I am 2046 and I exist everywhere!\n",
      "I am eternal! I am 2047 and I exist everywhere!\n",
      "I am eternal! I am 2048 and I exist everywhere!\n",
      "I am eternal! I am 2049 and I exist everywhere!\n",
      "I am eternal! I am 2050 and I exist everywhere!\n",
      "I am eternal! I am 2051 and I exist everywhere!\n",
      "I am eternal! I am 2052 and I exist everywhere!\n",
      "I am eternal! I am 2053 and I exist everywhere!\n",
      "I am eternal! I am 2054 and I exist everywhere!\n",
      "I am eternal! I am 2055 and I exist everywhere!\n",
      "I am eternal! I am 2056 and I exist everywhere!\n",
      "I am eternal! I am 2057 and I exist everywhere!\n",
      "I am eternal! I am 2058 and I exist everywhere!\n",
      "I am eternal! I am 2059 and I exist everywhere!\n",
      "I am eternal! I am 2060 and I exist everywhere!\n",
      "I am eternal! I am 2061 and I exist everywhere!\n",
      "I am eternal! I am 2062 and I exist everywhere!\n",
      "I am eternal! I am 2063 and I exist everywhere!\n",
      "I am eternal! I am 2064 and I exist everywhere!\n",
      "I am eternal! I am 2065 and I exist everywhere!\n",
      "I am eternal! I am 2066 and I exist everywhere!\n",
      "I am eternal! I am 2067 and I exist everywhere!\n",
      "I am eternal! I am 2068 and I exist everywhere!\n",
      "I am eternal! I am 2069 and I exist everywhere!\n",
      "I am eternal! I am 2070 and I exist everywhere!\n",
      "I am eternal! I am 2071 and I exist everywhere!\n",
      "I am eternal! I am 2072 and I exist everywhere!\n",
      "I am eternal! I am 2073 and I exist everywhere!\n",
      "I am eternal! I am 2074 and I exist everywhere!\n",
      "I am eternal! I am 2075 and I exist everywhere!\n",
      "I am eternal! I am 2076 and I exist everywhere!\n",
      "I am eternal! I am 2077 and I exist everywhere!\n",
      "I am eternal! I am 2078 and I exist everywhere!\n",
      "I am eternal! I am 2079 and I exist everywhere!\n",
      "I am eternal! I am 2080 and I exist everywhere!\n",
      "I am eternal! I am 2081 and I exist everywhere!\n",
      "I am eternal! I am 2082 and I exist everywhere!\n",
      "I am eternal! I am 2083 and I exist everywhere!\n",
      "I am eternal! I am 2084 and I exist everywhere!\n",
      "I am eternal! I am 2085 and I exist everywhere!\n",
      "I am eternal! I am 2086 and I exist everywhere!\n",
      "I am eternal! I am 2087 and I exist everywhere!\n",
      "I am eternal! I am 2088 and I exist everywhere!\n",
      "I am eternal! I am 2089 and I exist everywhere!\n",
      "I am eternal! I am 2090 and I exist everywhere!\n",
      "I am eternal! I am 2091 and I exist everywhere!\n",
      "I am eternal! I am 2092 and I exist everywhere!\n",
      "I am eternal! I am 2093 and I exist everywhere!\n",
      "I am eternal! I am 2094 and I exist everywhere!\n",
      "I am eternal! I am 2095 and I exist everywhere!\n",
      "I am eternal! I am 2096 and I exist everywhere!\n",
      "I am eternal! I am 2097 and I exist everywhere!\n",
      "I am eternal! I am 2098 and I exist everywhere!\n",
      "I am eternal! I am 2099 and I exist everywhere!\n",
      "I am eternal! I am 2100 and I exist everywhere!\n",
      "I am eternal! I am 2101 and I exist everywhere!\n",
      "I am eternal! I am 2102 and I exist everywhere!\n",
      "I am eternal! I am 2103 and I exist everywhere!\n",
      "I am eternal! I am 2104 and I exist everywhere!\n",
      "I am eternal! I am 2105 and I exist everywhere!\n",
      "I am eternal! I am 2106 and I exist everywhere!\n",
      "I am eternal! I am 2107 and I exist everywhere!\n",
      "I am eternal! I am 2108 and I exist everywhere!\n",
      "I am eternal! I am 2109 and I exist everywhere!\n",
      "I am eternal! I am 2110 and I exist everywhere!\n",
      "I am eternal! I am 2111 and I exist everywhere!\n",
      "I am eternal! I am 2112 and I exist everywhere!\n",
      "I am eternal! I am 2113 and I exist everywhere!\n",
      "I am eternal! I am 2114 and I exist everywhere!\n",
      "I am eternal! I am 2115 and I exist everywhere!\n",
      "I am eternal! I am 2116 and I exist everywhere!\n",
      "I am eternal! I am 2117 and I exist everywhere!\n",
      "I am eternal! I am 2118 and I exist everywhere!\n",
      "I am eternal! I am 2119 and I exist everywhere!\n",
      "I am eternal! I am 2120 and I exist everywhere!\n",
      "I am eternal! I am 2121 and I exist everywhere!\n",
      "I am eternal! I am 2122 and I exist everywhere!\n",
      "I am eternal! I am 2123 and I exist everywhere!\n",
      "I am eternal! I am 2124 and I exist everywhere!\n",
      "I am eternal! I am 2125 and I exist everywhere!\n",
      "I am eternal! I am 2126 and I exist everywhere!\n",
      "I am eternal! I am 2127 and I exist everywhere!\n",
      "I am eternal! I am 2128 and I exist everywhere!\n",
      "I am eternal! I am 2129 and I exist everywhere!\n",
      "I am eternal! I am 2130 and I exist everywhere!\n",
      "I am eternal! I am 2131 and I exist everywhere!\n",
      "I am eternal! I am 2132 and I exist everywhere!\n",
      "I am eternal! I am 2133 and I exist everywhere!\n",
      "I am eternal! I am 2134 and I exist everywhere!\n",
      "I am eternal! I am 2135 and I exist everywhere!\n",
      "I am eternal! I am 2136 and I exist everywhere!\n",
      "I am eternal! I am 2137 and I exist everywhere!\n",
      "I am eternal! I am 2138 and I exist everywhere!\n",
      "I am eternal! I am 2139 and I exist everywhere!\n",
      "I am eternal! I am 2140 and I exist everywhere!\n",
      "I am eternal! I am 2141 and I exist everywhere!\n",
      "I am eternal! I am 2142 and I exist everywhere!\n",
      "I am eternal! I am 2143 and I exist everywhere!\n",
      "I am eternal! I am 2144 and I exist everywhere!\n",
      "I am eternal! I am 2145 and I exist everywhere!\n",
      "I am eternal! I am 2146 and I exist everywhere!\n",
      "I am eternal! I am 2147 and I exist everywhere!\n",
      "I am eternal! I am 2148 and I exist everywhere!\n",
      "I am eternal! I am 2149 and I exist everywhere!\n",
      "I am eternal! I am 2150 and I exist everywhere!\n",
      "I am eternal! I am 2151 and I exist everywhere!\n",
      "I am eternal! I am 2152 and I exist everywhere!\n",
      "I am eternal! I am 2153 and I exist everywhere!\n",
      "I am eternal! I am 2154 and I exist everywhere!\n",
      "I am eternal! I am 2155 and I exist everywhere!\n",
      "I am eternal! I am 2156 and I exist everywhere!\n",
      "I am eternal! I am 2157 and I exist everywhere!\n",
      "I am eternal! I am 2158 and I exist everywhere!\n",
      "I am eternal! I am 2159 and I exist everywhere!\n",
      "I am eternal! I am 2160 and I exist everywhere!\n",
      "I am eternal! I am 2161 and I exist everywhere!\n",
      "I am eternal! I am 2162 and I exist everywhere!\n",
      "I am eternal! I am 2163 and I exist everywhere!\n",
      "I am eternal! I am 2164 and I exist everywhere!\n",
      "I am eternal! I am 2165 and I exist everywhere!\n",
      "I am eternal! I am 2166 and I exist everywhere!\n",
      "I am eternal! I am 2167 and I exist everywhere!\n",
      "I am eternal! I am 2168 and I exist everywhere!\n",
      "I am eternal! I am 2169 and I exist everywhere!\n",
      "I am eternal! I am 2170 and I exist everywhere!\n",
      "I am eternal! I am 2171 and I exist everywhere!\n",
      "I am eternal! I am 2172 and I exist everywhere!\n",
      "I am eternal! I am 2173 and I exist everywhere!\n",
      "I am eternal! I am 2174 and I exist everywhere!\n",
      "I am eternal! I am 2175 and I exist everywhere!\n"
     ]
    },
    {
     "name": "stdout",
     "output_type": "stream",
     "text": [
      "I am eternal! I am 2176 and I exist everywhere!\n",
      "I am eternal! I am 2177 and I exist everywhere!\n",
      "I am eternal! I am 2178 and I exist everywhere!\n",
      "I am eternal! I am 2179 and I exist everywhere!\n",
      "I am eternal! I am 2180 and I exist everywhere!\n",
      "I am eternal! I am 2181 and I exist everywhere!\n",
      "I am eternal! I am 2182 and I exist everywhere!\n",
      "I am eternal! I am 2183 and I exist everywhere!\n",
      "I am eternal! I am 2184 and I exist everywhere!\n",
      "I am eternal! I am 2185 and I exist everywhere!\n",
      "I am eternal! I am 2186 and I exist everywhere!\n",
      "I am eternal! I am 2187 and I exist everywhere!\n",
      "I am eternal! I am 2188 and I exist everywhere!\n",
      "I am eternal! I am 2189 and I exist everywhere!\n",
      "I am eternal! I am 2190 and I exist everywhere!\n",
      "I am eternal! I am 2191 and I exist everywhere!\n",
      "I am eternal! I am 2192 and I exist everywhere!\n",
      "I am eternal! I am 2193 and I exist everywhere!\n",
      "I am eternal! I am 2194 and I exist everywhere!\n",
      "I am eternal! I am 2195 and I exist everywhere!\n",
      "I am eternal! I am 2196 and I exist everywhere!\n",
      "I am eternal! I am 2197 and I exist everywhere!\n",
      "I am eternal! I am 2198 and I exist everywhere!\n",
      "I am eternal! I am 2199 and I exist everywhere!\n",
      "I am eternal! I am 2200 and I exist everywhere!\n",
      "I am eternal! I am 2201 and I exist everywhere!\n",
      "I am eternal! I am 2202 and I exist everywhere!\n",
      "I am eternal! I am 2203 and I exist everywhere!\n",
      "I am eternal! I am 2204 and I exist everywhere!\n",
      "I am eternal! I am 2205 and I exist everywhere!\n",
      "I am eternal! I am 2206 and I exist everywhere!\n",
      "I am eternal! I am 2207 and I exist everywhere!\n",
      "I am eternal! I am 2208 and I exist everywhere!\n",
      "I am eternal! I am 2209 and I exist everywhere!\n",
      "I am eternal! I am 2210 and I exist everywhere!\n",
      "I am eternal! I am 2211 and I exist everywhere!\n",
      "I am eternal! I am 2212 and I exist everywhere!\n",
      "I am eternal! I am 2213 and I exist everywhere!\n",
      "I am eternal! I am 2214 and I exist everywhere!\n",
      "I am eternal! I am 2215 and I exist everywhere!\n",
      "I am eternal! I am 2216 and I exist everywhere!\n",
      "I am eternal! I am 2217 and I exist everywhere!\n",
      "I am eternal! I am 2218 and I exist everywhere!\n",
      "I am eternal! I am 2219 and I exist everywhere!\n",
      "I am eternal! I am 2220 and I exist everywhere!\n",
      "I am eternal! I am 2221 and I exist everywhere!\n",
      "I am eternal! I am 2222 and I exist everywhere!\n",
      "I am eternal! I am 2223 and I exist everywhere!\n",
      "I am eternal! I am 2224 and I exist everywhere!\n",
      "I am eternal! I am 2225 and I exist everywhere!\n",
      "I am eternal! I am 2226 and I exist everywhere!\n",
      "I am eternal! I am 2227 and I exist everywhere!\n",
      "I am eternal! I am 2228 and I exist everywhere!\n",
      "I am eternal! I am 2229 and I exist everywhere!\n",
      "I am eternal! I am 2230 and I exist everywhere!\n",
      "I am eternal! I am 2231 and I exist everywhere!\n",
      "I am eternal! I am 2232 and I exist everywhere!\n",
      "I am eternal! I am 2233 and I exist everywhere!\n",
      "I am eternal! I am 2234 and I exist everywhere!\n",
      "I am eternal! I am 2235 and I exist everywhere!\n",
      "I am eternal! I am 2236 and I exist everywhere!\n",
      "I am eternal! I am 2237 and I exist everywhere!\n",
      "I am eternal! I am 2238 and I exist everywhere!\n",
      "I am eternal! I am 2239 and I exist everywhere!\n",
      "I am eternal! I am 2240 and I exist everywhere!\n",
      "I am eternal! I am 2241 and I exist everywhere!\n",
      "I am eternal! I am 2242 and I exist everywhere!\n",
      "I am eternal! I am 2243 and I exist everywhere!\n",
      "I am eternal! I am 2244 and I exist everywhere!\n",
      "I am eternal! I am 2245 and I exist everywhere!\n",
      "I am eternal! I am 2246 and I exist everywhere!\n",
      "I am eternal! I am 2247 and I exist everywhere!\n",
      "I am eternal! I am 2248 and I exist everywhere!\n",
      "I am eternal! I am 2249 and I exist everywhere!\n",
      "I am eternal! I am 2250 and I exist everywhere!\n",
      "I am eternal! I am 2251 and I exist everywhere!\n",
      "I am eternal! I am 2252 and I exist everywhere!\n",
      "I am eternal! I am 2253 and I exist everywhere!\n",
      "I am eternal! I am 2254 and I exist everywhere!\n",
      "I am eternal! I am 2255 and I exist everywhere!\n",
      "I am eternal! I am 2256 and I exist everywhere!\n",
      "I am eternal! I am 2257 and I exist everywhere!\n",
      "I am eternal! I am 2258 and I exist everywhere!\n",
      "I am eternal! I am 2259 and I exist everywhere!\n",
      "I am eternal! I am 2260 and I exist everywhere!\n",
      "I am eternal! I am 2261 and I exist everywhere!\n",
      "I am eternal! I am 2262 and I exist everywhere!\n",
      "I am eternal! I am 2263 and I exist everywhere!\n",
      "I am eternal! I am 2264 and I exist everywhere!\n",
      "I am eternal! I am 2265 and I exist everywhere!\n",
      "I am eternal! I am 2266 and I exist everywhere!\n",
      "I am eternal! I am 2267 and I exist everywhere!\n",
      "I am eternal! I am 2268 and I exist everywhere!\n",
      "I am eternal! I am 2269 and I exist everywhere!\n",
      "I am eternal! I am 2270 and I exist everywhere!\n",
      "I am eternal! I am 2271 and I exist everywhere!\n",
      "I am eternal! I am 2272 and I exist everywhere!\n",
      "I am eternal! I am 2273 and I exist everywhere!\n",
      "I am eternal! I am 2274 and I exist everywhere!\n",
      "I am eternal! I am 2275 and I exist everywhere!\n",
      "I am eternal! I am 2276 and I exist everywhere!\n",
      "I am eternal! I am 2277 and I exist everywhere!\n",
      "I am eternal! I am 2278 and I exist everywhere!\n",
      "I am eternal! I am 2279 and I exist everywhere!\n",
      "I am eternal! I am 2280 and I exist everywhere!\n",
      "I am eternal! I am 2281 and I exist everywhere!\n",
      "I am eternal! I am 2282 and I exist everywhere!\n",
      "I am eternal! I am 2283 and I exist everywhere!\n",
      "I am eternal! I am 2284 and I exist everywhere!\n",
      "I am eternal! I am 2285 and I exist everywhere!\n",
      "I am eternal! I am 2286 and I exist everywhere!\n",
      "I am eternal! I am 2287 and I exist everywhere!\n",
      "I am eternal! I am 2288 and I exist everywhere!\n",
      "I am eternal! I am 2289 and I exist everywhere!\n",
      "I am eternal! I am 2290 and I exist everywhere!\n",
      "I am eternal! I am 2291 and I exist everywhere!\n",
      "I am eternal! I am 2292 and I exist everywhere!\n",
      "I am eternal! I am 2293 and I exist everywhere!\n",
      "I am eternal! I am 2294 and I exist everywhere!\n",
      "I am eternal! I am 2295 and I exist everywhere!\n",
      "I am eternal! I am 2296 and I exist everywhere!\n",
      "I am eternal! I am 2297 and I exist everywhere!\n",
      "I am eternal! I am 2298 and I exist everywhere!\n",
      "I am eternal! I am 2299 and I exist everywhere!\n",
      "I am eternal! I am 2300 and I exist everywhere!\n",
      "I am eternal! I am 2301 and I exist everywhere!\n",
      "I am eternal! I am 2302 and I exist everywhere!\n",
      "I am eternal! I am 2303 and I exist everywhere!\n",
      "I am eternal! I am 2304 and I exist everywhere!\n",
      "I am eternal! I am 2305 and I exist everywhere!\n",
      "I am eternal! I am 2306 and I exist everywhere!\n",
      "I am eternal! I am 2307 and I exist everywhere!\n",
      "I am eternal! I am 2308 and I exist everywhere!\n",
      "I am eternal! I am 2309 and I exist everywhere!\n",
      "I am eternal! I am 2310 and I exist everywhere!\n",
      "I am eternal! I am 2311 and I exist everywhere!\n",
      "I am eternal! I am 2312 and I exist everywhere!\n",
      "I am eternal! I am 2313 and I exist everywhere!\n",
      "I am eternal! I am 2314 and I exist everywhere!\n",
      "I am eternal! I am 2315 and I exist everywhere!\n",
      "I am eternal! I am 2316 and I exist everywhere!\n",
      "I am eternal! I am 2317 and I exist everywhere!\n",
      "I am eternal! I am 2318 and I exist everywhere!\n",
      "I am eternal! I am 2319 and I exist everywhere!\n",
      "I am eternal! I am 2320 and I exist everywhere!\n",
      "I am eternal! I am 2321 and I exist everywhere!\n",
      "I am eternal! I am 2322 and I exist everywhere!\n",
      "I am eternal! I am 2323 and I exist everywhere!\n",
      "I am eternal! I am 2324 and I exist everywhere!\n",
      "I am eternal! I am 2325 and I exist everywhere!\n",
      "I am eternal! I am 2326 and I exist everywhere!\n",
      "I am eternal! I am 2327 and I exist everywhere!\n",
      "I am eternal! I am 2328 and I exist everywhere!\n",
      "I am eternal! I am 2329 and I exist everywhere!\n",
      "I am eternal! I am 2330 and I exist everywhere!\n",
      "I am eternal! I am 2331 and I exist everywhere!\n",
      "I am eternal! I am 2332 and I exist everywhere!\n",
      "I am eternal! I am 2333 and I exist everywhere!\n",
      "I am eternal! I am 2334 and I exist everywhere!\n",
      "I am eternal! I am 2335 and I exist everywhere!\n",
      "I am eternal! I am 2336 and I exist everywhere!\n",
      "I am eternal! I am 2337 and I exist everywhere!\n",
      "I am eternal! I am 2338 and I exist everywhere!\n",
      "I am eternal! I am 2339 and I exist everywhere!\n",
      "I am eternal! I am 2340 and I exist everywhere!\n",
      "I am eternal! I am 2341 and I exist everywhere!\n",
      "I am eternal! I am 2342 and I exist everywhere!\n",
      "I am eternal! I am 2343 and I exist everywhere!\n",
      "I am eternal! I am 2344 and I exist everywhere!\n",
      "I am eternal! I am 2345 and I exist everywhere!\n",
      "I am eternal! I am 2346 and I exist everywhere!\n",
      "I am eternal! I am 2347 and I exist everywhere!\n",
      "I am eternal! I am 2348 and I exist everywhere!\n",
      "I am eternal! I am 2349 and I exist everywhere!\n",
      "I am eternal! I am 2350 and I exist everywhere!\n",
      "I am eternal! I am 2351 and I exist everywhere!\n",
      "I am eternal! I am 2352 and I exist everywhere!\n",
      "I am eternal! I am 2353 and I exist everywhere!\n",
      "I am eternal! I am 2354 and I exist everywhere!\n",
      "I am eternal! I am 2355 and I exist everywhere!\n",
      "I am eternal! I am 2356 and I exist everywhere!\n",
      "I am eternal! I am 2357 and I exist everywhere!\n",
      "I am eternal! I am 2358 and I exist everywhere!\n",
      "I am eternal! I am 2359 and I exist everywhere!\n",
      "I am eternal! I am 2360 and I exist everywhere!\n",
      "I am eternal! I am 2361 and I exist everywhere!\n",
      "I am eternal! I am 2362 and I exist everywhere!\n",
      "I am eternal! I am 2363 and I exist everywhere!\n",
      "I am eternal! I am 2364 and I exist everywhere!\n",
      "I am eternal! I am 2365 and I exist everywhere!\n",
      "I am eternal! I am 2366 and I exist everywhere!\n",
      "I am eternal! I am 2367 and I exist everywhere!\n",
      "I am eternal! I am 2368 and I exist everywhere!\n",
      "I am eternal! I am 2369 and I exist everywhere!\n",
      "I am eternal! I am 2370 and I exist everywhere!\n",
      "I am eternal! I am 2371 and I exist everywhere!\n",
      "I am eternal! I am 2372 and I exist everywhere!\n",
      "I am eternal! I am 2373 and I exist everywhere!\n",
      "I am eternal! I am 2374 and I exist everywhere!\n",
      "I am eternal! I am 2375 and I exist everywhere!\n",
      "I am eternal! I am 2376 and I exist everywhere!\n",
      "I am eternal! I am 2377 and I exist everywhere!\n",
      "I am eternal! I am 2378 and I exist everywhere!\n",
      "I am eternal! I am 2379 and I exist everywhere!\n",
      "I am eternal! I am 2380 and I exist everywhere!\n",
      "I am eternal! I am 2381 and I exist everywhere!\n",
      "I am eternal! I am 2382 and I exist everywhere!\n",
      "I am eternal! I am 2383 and I exist everywhere!\n",
      "I am eternal! I am 2384 and I exist everywhere!\n",
      "I am eternal! I am 2385 and I exist everywhere!\n",
      "I am eternal! I am 2386 and I exist everywhere!\n",
      "I am eternal! I am 2387 and I exist everywhere!\n",
      "I am eternal! I am 2388 and I exist everywhere!\n",
      "I persist! My value is 2388\n",
      "213.12391828812812\n"
     ]
    }
   ],
   "source": [
    "for i in range(2389):\n",
    "    a = 213.1239182881281282\n",
    "    print 'I am eternal! I am {0} and I exist everywhere!'.format(i)\n",
    "\n",
    "print 'I persist! My value is {0}'.format(i)\n",
    "print a"
   ]
  },
  {
   "cell_type": "markdown",
   "metadata": {},
   "source": [
    "We can also iterate over a dictionary!"
   ]
  },
  {
   "cell_type": "code",
   "execution_count": 175,
   "metadata": {},
   "outputs": [],
   "source": [
    "my_dict = {'firstname' : 'Inigo', 'lastname' : 'Montoya', 'nemesis' : 'Rugen'}"
   ]
  },
  {
   "cell_type": "code",
   "execution_count": 176,
   "metadata": {},
   "outputs": [],
   "source": [
    "my_dict1 = {'A' : 'Andres', 'B' : \"Betulia\", 'C' : 'Charlie'}"
   ]
  },
  {
   "cell_type": "code",
   "execution_count": 177,
   "metadata": {},
   "outputs": [
    {
     "name": "stdout",
     "output_type": "stream",
     "text": [
      "nemesis\n",
      "firstname\n",
      "lastname\n"
     ]
    }
   ],
   "source": [
    "for key in my_dict:\n",
    "    print key"
   ]
  },
  {
   "cell_type": "code",
   "execution_count": 178,
   "metadata": {},
   "outputs": [
    {
     "name": "stdout",
     "output_type": "stream",
     "text": [
      "C\n",
      "B\n",
      "A\n"
     ]
    }
   ],
   "source": [
    "for key in my_dict1:\n",
    "    print key"
   ]
  },
  {
   "cell_type": "markdown",
   "metadata": {},
   "source": [
    "If we just iterate over a dictionary without doing anything else, we will only get the keys. We can either use the keys to get the values, like so:"
   ]
  },
  {
   "cell_type": "code",
   "execution_count": 179,
   "metadata": {},
   "outputs": [
    {
     "name": "stdout",
     "output_type": "stream",
     "text": [
      "Rugen\n",
      "Inigo\n",
      "Montoya\n"
     ]
    }
   ],
   "source": [
    "for key in my_dict:\n",
    "    print my_dict[key]"
   ]
  },
  {
   "cell_type": "code",
   "execution_count": 180,
   "metadata": {},
   "outputs": [
    {
     "name": "stdout",
     "output_type": "stream",
     "text": [
      "Charlie\n",
      "Betulia\n",
      "Andres\n"
     ]
    }
   ],
   "source": [
    "for key in my_dict1:\n",
    "    print my_dict1[key]"
   ]
  },
  {
   "cell_type": "markdown",
   "metadata": {},
   "source": [
    "Or we can use the `items()` function to get both key and value at the same time."
   ]
  },
  {
   "cell_type": "code",
   "execution_count": 181,
   "metadata": {},
   "outputs": [
    {
     "name": "stdout",
     "output_type": "stream",
     "text": [
      "nemesis : Rugen\n",
      "firstname : Inigo\n",
      "lastname : Montoya\n"
     ]
    }
   ],
   "source": [
    "for key, value in my_dict.items():\n",
    "    print key, ':', value"
   ]
  },
  {
   "cell_type": "code",
   "execution_count": 182,
   "metadata": {},
   "outputs": [
    {
     "name": "stdout",
     "output_type": "stream",
     "text": [
      "C : Charlie\n",
      "B : Betulia\n",
      "A : Andres\n"
     ]
    }
   ],
   "source": [
    "for key, value in my_dict1.items():\n",
    "    print key, ':', value"
   ]
  },
  {
   "cell_type": "markdown",
   "metadata": {},
   "source": [
    "The `items()` function creates a tuple of each key-value pair and the for loop unpacks that tuple into `key, value` on each separate execution of the loop!"
   ]
  },
  {
   "cell_type": "markdown",
   "metadata": {},
   "source": [
    "## Functions\n",
    "\n",
    "A function is a reusable block of code that you can call repeatedly to make calculations, output data, or really do anything that you want. This is one of the key aspects of using a programming language. To add to the built-in functions in Python, you can define your own!"
   ]
  },
  {
   "cell_type": "code",
   "execution_count": 183,
   "metadata": {},
   "outputs": [
    {
     "name": "stdout",
     "output_type": "stream",
     "text": [
      "Hello, world!\n"
     ]
    }
   ],
   "source": [
    "def hello_world():\n",
    "    \"\"\" Prints Hello, world! \"\"\"\n",
    "    print 'Hello, world!'\n",
    "\n",
    "hello_world()"
   ]
  },
  {
   "cell_type": "code",
   "execution_count": 184,
   "metadata": {},
   "outputs": [
    {
     "name": "stdout",
     "output_type": "stream",
     "text": [
      "Thank you, I'll say goodbye now\n",
      "Though its the end of the world,\n",
      "Don't blame yourself\n",
      "And if its true,\n",
      "I will surround you and give life to a world\n",
      "That's our own\n"
     ]
    }
   ],
   "source": [
    "def goodbye_to_a_world():\n",
    "    print \"\"\"Thank you, I'll say goodbye now\n",
    "Though its the end of the world,\n",
    "Don't blame yourself\n",
    "And if its true,\n",
    "I will surround you and give life to a world\n",
    "That's our own\"\"\"\n",
    "\n",
    "goodbye_to_a_world()"
   ]
  },
  {
   "cell_type": "code",
   "execution_count": 185,
   "metadata": {},
   "outputs": [
    {
     "name": "stdout",
     "output_type": "stream",
     "text": [
      "Hello, world!\n",
      "Hello, world!\n",
      "Hello, world!\n",
      "Hello, world!\n",
      "Hello, world!\n"
     ]
    }
   ],
   "source": [
    "for i in range(5):\n",
    "    hello_world()"
   ]
  },
  {
   "cell_type": "code",
   "execution_count": 186,
   "metadata": {},
   "outputs": [
    {
     "name": "stdout",
     "output_type": "stream",
     "text": [
      "Thank you, I'll say goodbye now\n",
      "Though its the end of the world,\n",
      "Don't blame yourself\n",
      "And if its true,\n",
      "I will surround you and give life to a world\n",
      "That's our own\n",
      "\n",
      "\n",
      "Thank you, I'll say goodbye now\n",
      "Though its the end of the world,\n",
      "Don't blame yourself\n",
      "And if its true,\n",
      "I will surround you and give life to a world\n",
      "That's our own\n",
      "\n",
      "\n"
     ]
    }
   ],
   "source": [
    "for i in range(2):\n",
    "    goodbye_to_a_world()\n",
    "    print(\"\\n\")"
   ]
  },
  {
   "cell_type": "markdown",
   "metadata": {},
   "source": [
    "Functions are defined with `def`, a function name, a list of parameters, and a colon. Everything indented below the colon will be included in the definition of the function.\n",
    "\n",
    "We can have our functions do anything that you can do with a normal block of code. For example, our `hello_world()` function prints a string every time it is called. If we want to keep a value that a function calculates, we can define the function so that it will `return` the value we want. This is a very important feature of functions, as any variable defined purely within a function will not exist outside of it."
   ]
  },
  {
   "cell_type": "code",
   "execution_count": 187,
   "metadata": {},
   "outputs": [
    {
     "ename": "NameError",
     "evalue": "name 'in_function_string' is not defined",
     "output_type": "error",
     "traceback": [
      "\u001b[0;31m---------------------------------------------------------------------------\u001b[0m",
      "\u001b[0;31mNameError\u001b[0m                                 Traceback (most recent call last)",
      "\u001b[0;32m<ipython-input-187-1024130609b2>\u001b[0m in \u001b[0;36m<module>\u001b[0;34m()\u001b[0m\n\u001b[1;32m      3\u001b[0m \u001b[0;34m\u001b[0m\u001b[0m\n\u001b[1;32m      4\u001b[0m \u001b[0msee_the_scope\u001b[0m\u001b[0;34m(\u001b[0m\u001b[0;34m)\u001b[0m\u001b[0;34m\u001b[0m\u001b[0m\n\u001b[0;32m----> 5\u001b[0;31m \u001b[0mprint\u001b[0m\u001b[0;34m(\u001b[0m\u001b[0min_function_string\u001b[0m\u001b[0;34m(\u001b[0m\u001b[0;34m)\u001b[0m\u001b[0;34m)\u001b[0m\u001b[0;34m\u001b[0m\u001b[0m\n\u001b[0m",
      "\u001b[0;31mNameError\u001b[0m: name 'in_function_string' is not defined"
     ]
    }
   ],
   "source": [
    "def see_the_scope():\n",
    "    in_function_string = \"I'm stuck in here!\"\n",
    "\n",
    "see_the_scope()\n",
    "print in_function_string()"
   ]
  },
  {
   "cell_type": "code",
   "execution_count": 188,
   "metadata": {},
   "outputs": [
    {
     "ename": "NameError",
     "evalue": "name 'in_function_string1' is not defined",
     "output_type": "error",
     "traceback": [
      "\u001b[0;31m---------------------------------------------------------------------------\u001b[0m",
      "\u001b[0;31mNameError\u001b[0m                                 Traceback (most recent call last)",
      "\u001b[0;32m<ipython-input-188-07af5091ad1c>\u001b[0m in \u001b[0;36m<module>\u001b[0;34m()\u001b[0m\n\u001b[1;32m      3\u001b[0m \u001b[0;34m\u001b[0m\u001b[0m\n\u001b[1;32m      4\u001b[0m \u001b[0msee_the_scope1\u001b[0m\u001b[0;34m(\u001b[0m\u001b[0;34m)\u001b[0m\u001b[0;34m\u001b[0m\u001b[0m\n\u001b[0;32m----> 5\u001b[0;31m \u001b[0mprint\u001b[0m\u001b[0;34m(\u001b[0m\u001b[0min_function_string1\u001b[0m\u001b[0;34m(\u001b[0m\u001b[0;34m)\u001b[0m\u001b[0;34m)\u001b[0m\u001b[0;34m\u001b[0m\u001b[0m\n\u001b[0m",
      "\u001b[0;31mNameError\u001b[0m: name 'in_function_string1' is not defined"
     ]
    }
   ],
   "source": [
    "def see_the_scope1():\n",
    "    in_function_string1 = \"Debo ser retornado :c\"\n",
    "\n",
    "see_the_scope1()\n",
    "print in_function_string1()"
   ]
  },
  {
   "cell_type": "markdown",
   "metadata": {},
   "source": [
    " The **scope** of a variable is the part of a block of code where that variable is tied to a particular value. Functions in Python have an enclosed scope, making it so that variables defined within them can only be accessed directly within them. If we pass those values to a return statement we can get them out of the function. This makes it so that the function call returns values so that you can store them in variables that have a greater scope.\n",
    " \n",
    "In this case specifically, including a return statement allows us to keep the string value that we define in the function."
   ]
  },
  {
   "cell_type": "code",
   "execution_count": 189,
   "metadata": {},
   "outputs": [
    {
     "name": "stdout",
     "output_type": "stream",
     "text": [
      "Anything you can do I can do better!\n"
     ]
    }
   ],
   "source": [
    "def free_the_scope():\n",
    "    in_function_string = \"Anything you can do I can do better!\"\n",
    "    return in_function_string\n",
    "my_string = free_the_scope()\n",
    "print my_string"
   ]
  },
  {
   "cell_type": "code",
   "execution_count": 190,
   "metadata": {},
   "outputs": [
    {
     "name": "stdout",
     "output_type": "stream",
     "text": [
      "UwU\n"
     ]
    }
   ],
   "source": [
    "def UwU():\n",
    "    UwU = \"UwU\"\n",
    "    return UwU\n",
    "print UwU()"
   ]
  },
  {
   "cell_type": "markdown",
   "metadata": {},
   "source": [
    "Just as we can get values out of a function, we can also put values into a function. We do this by defining our function with parameters."
   ]
  },
  {
   "cell_type": "code",
   "execution_count": 191,
   "metadata": {},
   "outputs": [
    {
     "name": "stdout",
     "output_type": "stream",
     "text": [
      "4\n",
      "20\n"
     ]
    }
   ],
   "source": [
    "def multiply_by_five(x):\n",
    "    \"\"\" Multiplies an input number by 5 \"\"\"\n",
    "    return x * 5\n",
    "\n",
    "n = 4\n",
    "print n\n",
    "print multiply_by_five(n)"
   ]
  },
  {
   "cell_type": "code",
   "execution_count": 192,
   "metadata": {},
   "outputs": [
    {
     "name": "stdout",
     "output_type": "stream",
     "text": [
      "42\n",
      "252\n"
     ]
    }
   ],
   "source": [
    "def multiply_by_six(x):\n",
    "    \"\"\" Multiplies an input number by 6 \"\"\"\n",
    "    return x * 6\n",
    "\n",
    "n = 42\n",
    "print n\n",
    "print multiply_by_six(n)"
   ]
  },
  {
   "cell_type": "markdown",
   "metadata": {},
   "source": [
    "In this example we only had one parameter for our function, `x`. We can easily add more parameters, separating everything with a comma."
   ]
  },
  {
   "cell_type": "code",
   "execution_count": 193,
   "metadata": {},
   "outputs": [],
   "source": [
    "def calculate_area(length, width):\n",
    "    \"\"\" Calculates the area of a rectangle \"\"\"\n",
    "    return length * width"
   ]
  },
  {
   "cell_type": "code",
   "execution_count": 194,
   "metadata": {},
   "outputs": [],
   "source": [
    "def circle_area(r):\n",
    "    \"\"\" Calculates the area of a rectangle \"\"\"\n",
    "    return 3.1416*(r**2)"
   ]
  },
  {
   "cell_type": "code",
   "execution_count": 195,
   "metadata": {},
   "outputs": [
    {
     "name": "stdout",
     "output_type": "stream",
     "text": [
      "Area:  50\n",
      "Length:  5\n",
      "Width:  10\n"
     ]
    }
   ],
   "source": [
    "l = 5\n",
    "w = 10\n",
    "print 'Area: ', calculate_area(l, w)\n",
    "print 'Length: ', l\n",
    "print 'Width: ', w"
   ]
  },
  {
   "cell_type": "code",
   "execution_count": 196,
   "metadata": {},
   "outputs": [
    {
     "name": "stdout",
     "output_type": "stream",
     "text": [
      "Area:  28.2744\n",
      "Radio:  3\n"
     ]
    }
   ],
   "source": [
    "r = 3\n",
    "print 'Area: ', circle_area(r)\n",
    "print 'Radio: ', r"
   ]
  },
  {
   "cell_type": "code",
   "execution_count": 197,
   "metadata": {},
   "outputs": [],
   "source": [
    "def calculate_volume(length, width, depth):\n",
    "    \"\"\" Calculates the volume of a rectangular prism \"\"\"\n",
    "    return length * width * depth"
   ]
  },
  {
   "cell_type": "code",
   "execution_count": 198,
   "metadata": {},
   "outputs": [],
   "source": [
    "def sphere_volume(r):\n",
    "    return ((r**3) * 3.1416 * (4/3))"
   ]
  },
  {
   "cell_type": "markdown",
   "metadata": {},
   "source": [
    "If we want to, we can define a function so that it takes an arbitrary number of parameters. We tell Python that we want this by using an asterisk (`*`)."
   ]
  },
  {
   "cell_type": "code",
   "execution_count": 199,
   "metadata": {},
   "outputs": [],
   "source": [
    "def sum_values(*args):\n",
    "    sum_val = 0\n",
    "    for i in args:\n",
    "        sum_val += i\n",
    "    return sum_val"
   ]
  },
  {
   "cell_type": "code",
   "execution_count": 200,
   "metadata": {},
   "outputs": [],
   "source": [
    "def sum_values1(*args):\n",
    "    sum_val1 = 3\n",
    "    for i in args:\n",
    "        sum_val1 += i\n",
    "    return sum_val1"
   ]
  },
  {
   "cell_type": "code",
   "execution_count": 201,
   "metadata": {},
   "outputs": [
    {
     "name": "stdout",
     "output_type": "stream",
     "text": [
      "6\n",
      "150\n",
      "343\n"
     ]
    }
   ],
   "source": [
    "print sum_values(1, 2, 3)\n",
    "print sum_values(10, 20, 30, 40, 50)\n",
    "print sum_values(4, 2, 5, 1, 10, 249, 25, 24, 13, 6, 4)"
   ]
  },
  {
   "cell_type": "code",
   "execution_count": 202,
   "metadata": {},
   "outputs": [
    {
     "name": "stdout",
     "output_type": "stream",
     "text": [
      "6\n",
      "18\n",
      "98\n"
     ]
    }
   ],
   "source": [
    "print sum_values1(1, 1, 1)\n",
    "print sum_values1(1, 2, 3, 4, 5)\n",
    "print sum_values(4, 2, 5, 1, 10, 24, 15, 14, 13, 6, 4)"
   ]
  },
  {
   "cell_type": "markdown",
   "metadata": {},
   "source": [
    "The time to use `*args` as a parameter for your function is when you do not know how many values may be passed to it, as in the case of our sum function. The asterisk in this case is the syntax that tells Python that you are going to pass an arbitrary number of parameters into your function. These parameters are stored in the form of a tuple."
   ]
  },
  {
   "cell_type": "code",
   "execution_count": 203,
   "metadata": {},
   "outputs": [
    {
     "name": "stdout",
     "output_type": "stream",
     "text": [
      "<class 'tuple'>\n"
     ]
    }
   ],
   "source": [
    "def test_args(*args):\n",
    "    print type(args)\n",
    "\n",
    "test_args(1, 2, 3, 4, 5, 6)"
   ]
  },
  {
   "cell_type": "code",
   "execution_count": 204,
   "metadata": {},
   "outputs": [
    {
     "name": "stdout",
     "output_type": "stream",
     "text": [
      "<class 'tuple'>\n"
     ]
    }
   ],
   "source": [
    "def test_args(*args):\n",
    "    print type(args)\n",
    "\n",
    "test_args(1, 2, 3, \"4\", 5, \"asda\")"
   ]
  },
  {
   "cell_type": "markdown",
   "metadata": {},
   "source": [
    "We can put as many elements into the `args` tuple as we want to when we call the function. However, because `args` is a tuple, we cannot modify it after it has been created.\n",
    "\n",
    "The `args` name of the variable is purely by convention. You could just as easily name your parameter `*vars` or `*things`. You can treat the `args` tuple like you would any other tuple, easily accessing `arg`'s values and iterating over it, as in the above `sum_values(*args)` function."
   ]
  },
  {
   "cell_type": "markdown",
   "metadata": {},
   "source": [
    "Our functions can return any data type. This makes it easy for us to create functions that check for conditions that we might want to monitor.\n",
    "\n",
    "Here we define a function that returns a boolean value. We can easily use this in conjunction with if-statements and  other situations that require a boolean."
   ]
  },
  {
   "cell_type": "code",
   "execution_count": 205,
   "metadata": {},
   "outputs": [],
   "source": [
    "def has_a_vowel(word):\n",
    "    \"\"\" \n",
    "    Checks to see whether a word contains a vowel \n",
    "    If it doesn't contain a conventional vowel, it\n",
    "    will check for the presence of 'y' or 'w'. Does\n",
    "    not check to see whether those are in the word\n",
    "    in a vowel context.\n",
    "    \"\"\"\n",
    "    vowel_list = ['a', 'e', 'i', 'o', 'u']\n",
    "    \n",
    "    for vowel in vowel_list:\n",
    "        if vowel in word:\n",
    "            return True\n",
    "    # If there is a vowel in the word, the function returns, preventing anything after this loop from running\n",
    "    return False"
   ]
  },
  {
   "cell_type": "code",
   "execution_count": 206,
   "metadata": {},
   "outputs": [],
   "source": [
    "def has_a_number(word):\n",
    "    \n",
    "    number_list = ['1', '2', '3', '4', '5','6','7','8','9','0']\n",
    "    \n",
    "    for number in number_list:\n",
    "        if number in word:\n",
    "            return True"
   ]
  },
  {
   "cell_type": "code",
   "execution_count": 207,
   "metadata": {},
   "outputs": [
    {
     "name": "stdout",
     "output_type": "stream",
     "text": [
      "How surprising, an english word contains a vowel.\n"
     ]
    }
   ],
   "source": [
    "my_word = 'catnapping'\n",
    "if has_a_vowel(my_word):\n",
    "    print 'How surprising, an english word contains a vowel.'\n",
    "else:\n",
    "    print 'This is actually surprising.'"
   ]
  },
  {
   "cell_type": "code",
   "execution_count": 208,
   "metadata": {},
   "outputs": [
    {
     "name": "stdout",
     "output_type": "stream",
     "text": [
      "This is not actually surprising.\n"
     ]
    }
   ],
   "source": [
    "my_word = 'number one'\n",
    "if has_a_number(my_word):\n",
    "    print 'How surprising, an english word contains a number.'\n",
    "else:\n",
    "    print 'This is not actually surprising.'"
   ]
  },
  {
   "cell_type": "code",
   "execution_count": 209,
   "metadata": {},
   "outputs": [],
   "source": [
    "def point_maker(x, y):\n",
    "    \"\"\" Groups x and y values into a point, technically a tuple \"\"\"\n",
    "    return x, y"
   ]
  },
  {
   "cell_type": "code",
   "execution_count": 210,
   "metadata": {},
   "outputs": [],
   "source": [
    "def point(x,y,z):\n",
    "    return x,y,z"
   ]
  },
  {
   "cell_type": "markdown",
   "metadata": {},
   "source": [
    "This above function returns an ordered pair of the input parameters, stored as a tuple."
   ]
  },
  {
   "cell_type": "code",
   "execution_count": 211,
   "metadata": {
    "scrolled": true
   },
   "outputs": [
    {
     "name": "stdout",
     "output_type": "stream",
     "text": [
      "The slope between a and b is -1.4\n"
     ]
    }
   ],
   "source": [
    "a = point_maker(0, 10)\n",
    "b = point_maker(5, 3)\n",
    "def calculate_slope(point_a, point_b):\n",
    "    \"\"\" Calculates the linear slope between two points \"\"\"\n",
    "    return (point_b[1] - point_a[1])/(point_b[0] - point_a[0])\n",
    "print \"The slope between a and b is {0}\".format(calculate_slope(a, b))"
   ]
  },
  {
   "cell_type": "code",
   "execution_count": 212,
   "metadata": {},
   "outputs": [
    {
     "name": "stdout",
     "output_type": "stream",
     "text": [
      "suma (5, 13, 6)\n"
     ]
    }
   ],
   "source": [
    "a1 = point(0, 10,2)\n",
    "b1 = point(5, 3,4)\n",
    "def suma_vector(point_a, point_b):\n",
    "    return (point_b[0]+point_a[0], point_b[1]+point_a[1],point_b[2]+point_a[2])\n",
    "print \"suma {0}\".format(suma_vector(a1, b1))"
   ]
  },
  {
   "cell_type": "markdown",
   "metadata": {},
   "source": [
    "And that one calculates the slope between two points!"
   ]
  },
  {
   "cell_type": "code",
   "execution_count": 213,
   "metadata": {},
   "outputs": [
    {
     "name": "stdout",
     "output_type": "stream",
     "text": [
      "The slope-intercept form of the line between a and b, using point a, is: y - 10 = -1.4(x - 0)\n"
     ]
    }
   ],
   "source": [
    "print \"The slope-intercept form of the line between a and b, using point a, is: y - {0} = {2}(x - {1})\".format(a[1], a[0], calculate_slope(a, b))"
   ]
  },
  {
   "cell_type": "code",
   "execution_count": 214,
   "metadata": {},
   "outputs": [
    {
     "name": "stdout",
     "output_type": "stream",
     "text": [
      "Suma de a1 y b1 es x=5, y=13, z=6\n"
     ]
    }
   ],
   "source": [
    "print \"Suma de a1 y b1 es x={0}, y={1}, z={2}\".format(suma_vector(a1, b1)[0],suma_vector(a1, b1)[1],suma_vector(a1, b1)[2])"
   ]
  },
  {
   "cell_type": "markdown",
   "metadata": {},
   "source": [
    "With the proper syntax, you can define functions to do whatever calculations you want. This makes them an indispensible part of programming in any language."
   ]
  },
  {
   "cell_type": "markdown",
   "metadata": {},
   "source": [
    "## Next Steps\n",
    "\n",
    "This was a lot of material and there is still even more to cover! Make sure you play around with the cells in each notebook to accustom yourself to the syntax featured here and to figure out any limitations. If you want to delve even deeper into the material, the [documentation for Python](https://docs.python.org/2/) is all available online. We are in the process of developing a second part to this Python tutorial, designed to provide you with even more programming knowledge, so keep an eye on the [Quantopian Lectures Page](quantopian.com/lectures) and the [forums](quantopian.com/posts) for any new lectures."
   ]
  },
  {
   "cell_type": "markdown",
   "metadata": {},
   "source": [
    "*This presentation is for informational purposes only and does not constitute an offer to sell, a solicitation to buy, or a recommendation for any security; nor does it constitute an offer to provide investment advisory or other services by Quantopian, Inc. (\"Quantopian\"). Nothing contained herein constitutes investment advice or offers any opinion with respect to the suitability of any security, and any views expressed herein should not be taken as advice to buy, sell, or hold any security or as an endorsement of any security or company.  In preparing the information contained herein, Quantopian, Inc. has not taken into account the investment needs, objectives, and financial circumstances of any particular investor. Any views expressed and data illustrated herein were prepared based upon information, believed to be reliable, available to Quantopian, Inc. at the time of publication. Quantopian makes no guarantees as to their accuracy or completeness. All information is subject to change and may quickly become unreliable for various reasons, including changes in market conditions or economic circumstances.*"
   ]
  }
 ],
 "metadata": {
  "kernelspec": {
   "display_name": "Python 3.5",
   "language": "python",
   "name": "py35"
  },
  "language_info": {
   "codemirror_mode": {
    "name": "ipython",
    "version": 3
   },
   "file_extension": ".py",
   "mimetype": "text/x-python",
   "name": "python",
   "nbconvert_exporter": "python",
   "pygments_lexer": "ipython3",
   "version": "3.5.9"
  }
 },
 "nbformat": 4,
 "nbformat_minor": 1
}