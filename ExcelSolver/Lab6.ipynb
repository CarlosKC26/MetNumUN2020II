{
  "nbformat": 4,
  "nbformat_minor": 0,
  "metadata": {
    "colab": {
      "name": "Lab6.ipynb",
      "provenance": []
    },
    "kernelspec": {
      "name": "python3",
      "display_name": "Python 3"
    }
  },
  "cells": [
    {
      "cell_type": "markdown",
      "metadata": {
        "id": "XZ_EF7p8ChwD"
      },
      "source": [
        "Library import"
      ]
    },
    {
      "cell_type": "code",
      "metadata": {
        "id": "lmArxp_oCdsL"
      },
      "source": [
        "import numpy as np"
      ],
      "execution_count": 1,
      "outputs": []
    },
    {
      "cell_type": "markdown",
      "metadata": {
        "id": "quCksuiXClzl"
      },
      "source": [
        "generates an empty matrix with adequate size for variables and constraints."
      ]
    },
    {
      "cell_type": "code",
      "metadata": {
        "id": "dadRlxj0Coob"
      },
      "source": [
        "def gen_matrix(var,cons):\n",
        "    tab = np.zeros((cons+1, var+cons+2))\n",
        "    return tab"
      ],
      "execution_count": 2,
      "outputs": []
    },
    {
      "cell_type": "markdown",
      "metadata": {
        "id": "8Zk1oAquCyP4"
      },
      "source": [
        "checks the furthest right column for negative values ABOVE the last row. If negative values exist, another pivot is required."
      ]
    },
    {
      "cell_type": "code",
      "metadata": {
        "id": "rQu4EP1GC1UI"
      },
      "source": [
        "def next_round_r(table):\n",
        "    m = min(table[:-1,-1])\n",
        "    if m>= 0:\n",
        "        return False\n",
        "    else:\n",
        "        return True"
      ],
      "execution_count": 3,
      "outputs": []
    },
    {
      "cell_type": "markdown",
      "metadata": {
        "id": "dGygGzleC5Ad"
      },
      "source": [
        "checks that the bottom row, excluding the final column, for negative values. If negative values exist, another pivot is required.\n"
      ]
    },
    {
      "cell_type": "code",
      "metadata": {
        "id": "5vx0GTT_C8vn"
      },
      "source": [
        "def next_round(table):\n",
        "    lr = len(table[:,0])\n",
        "    m = min(table[lr-1,:-1])\n",
        "    if m>=0:\n",
        "        return False\n",
        "    else:\n",
        "        return True"
      ],
      "execution_count": 4,
      "outputs": []
    },
    {
      "cell_type": "markdown",
      "metadata": {
        "id": "G1Jx6Np9DDyZ"
      },
      "source": [
        "Similar to next_round_r function, but returns row index of negative element in furthest right column"
      ]
    },
    {
      "cell_type": "code",
      "metadata": {
        "id": "oGqtchhtDFA-"
      },
      "source": [
        "def find_neg_r(table):\n",
        "    # lc = number of columns, lr = number of rows\n",
        "    lc = len(table[0,:])\n",
        "    # search every row (excluding last row) in final column for min value\n",
        "    m = min(table[:-1,lc-1])\n",
        "    if m<=0:\n",
        "        # n = row index of m location\n",
        "        n = np.where(table[:-1,lc-1] == m)[0][0]\n",
        "    else:\n",
        "        n = None\n",
        "    return n"
      ],
      "execution_count": 5,
      "outputs": []
    },
    {
      "cell_type": "markdown",
      "metadata": {
        "id": "vql-gw5_DIJO"
      },
      "source": [
        "returns column index of negative element in bottom row"
      ]
    },
    {
      "cell_type": "code",
      "metadata": {
        "id": "lz-tshNMDKRm"
      },
      "source": [
        "def find_neg(table):\n",
        "    lr = len(table[:,0])\n",
        "    m = min(table[lr-1,:-1])\n",
        "    if m<=0:\n",
        "        # n = row index for m\n",
        "        n = np.where(table[lr-1,:-1] == m)[0][0]\n",
        "    else:\n",
        "        n = None\n",
        "    return n"
      ],
      "execution_count": 6,
      "outputs": []
    },
    {
      "cell_type": "markdown",
      "metadata": {
        "id": "8mQKoyRuDXfe"
      },
      "source": [
        "locates pivot element in tableu to remove the negative element from the furthest right column."
      ]
    },
    {
      "cell_type": "code",
      "metadata": {
        "id": "SMOXVHvkDZ2s"
      },
      "source": [
        "def loc_piv_r(table):\n",
        "        total = []\n",
        "        # r = row index of negative entry\n",
        "        r = find_neg_r(table)\n",
        "        # finds all elements in row, r, excluding final column\n",
        "        row = table[r,:-1]\n",
        "        # finds minimum value in row (excluding the last column)\n",
        "        m = min(row)\n",
        "        # c = column index for minimum entry in row\n",
        "        c = np.where(row == m)[0][0]\n",
        "        # all elements in column\n",
        "        col = table[:-1,c]\n",
        "        # need to go through this column to find smallest positive ratio\n",
        "        for i, b in zip(col,table[:-1,-1]):\n",
        "            # i cannot equal 0 and b/i must be positive.\n",
        "            if i**2>0 and b/i>0:\n",
        "                total.append(b/i)\n",
        "            else:\n",
        "                # placeholder for elements that did not satisfy the above requirements. Otherwise, our index number would be faulty.\n",
        "                total.append(0)\n",
        "        element = max(total)\n",
        "        for t in total:\n",
        "            if t > 0 and t < element:\n",
        "                element = t\n",
        "            else:\n",
        "                continue\n",
        "\n",
        "        index = total.index(element)\n",
        "        return [index,c]"
      ],
      "execution_count": 7,
      "outputs": []
    },
    {
      "cell_type": "markdown",
      "metadata": {
        "id": "YKCE-x5VDieR"
      },
      "source": [
        "similar process, returns a specific array element to be pivoted on."
      ]
    },
    {
      "cell_type": "code",
      "metadata": {
        "id": "rjuUKL7bDlkL"
      },
      "source": [
        "def loc_piv(table):\n",
        "    if next_round(table):\n",
        "        total = []\n",
        "        n = find_neg(table)\n",
        "        for i,b in zip(table[:-1,n],table[:-1,-1]):\n",
        "            if i**2>0 and b/i>0:\n",
        "                total.append(b/i)\n",
        "            else:\n",
        "                # placeholder for elements that did not satisfy the above requirements. Otherwise, our index number would be faulty.\n",
        "                total.append(0)\n",
        "        element = max(total)\n",
        "        for t in total:\n",
        "            if t > 0 and t < element:\n",
        "                element = t\n",
        "            else:\n",
        "                continue\n",
        "\n",
        "        index = total.index(element)\n",
        "        return [index,n]"
      ],
      "execution_count": 8,
      "outputs": []
    },
    {
      "cell_type": "markdown",
      "metadata": {
        "id": "i3TAXveADrOP"
      },
      "source": [
        "Takes string input and returns a list of numbers to be arranged in tableu"
      ]
    },
    {
      "cell_type": "code",
      "metadata": {
        "id": "dZjRMiP_DsLt"
      },
      "source": [
        "def convert(eq):\n",
        "    eq = eq.split(',')\n",
        "    if 'G' in eq:\n",
        "        g = eq.index('G')\n",
        "        del eq[g]\n",
        "        eq = [float(i)*-1 for i in eq]\n",
        "        return eq\n",
        "    if 'L' in eq:\n",
        "        l = eq.index('L')\n",
        "        del eq[l]\n",
        "        eq = [float(i) for i in eq]\n",
        "        return eq"
      ],
      "execution_count": 9,
      "outputs": []
    },
    {
      "cell_type": "markdown",
      "metadata": {
        "id": "fbVHmGQ4DxoB"
      },
      "source": [
        "The final row of the tablue in a minimum problem is the opposite of a maximization problem so elements are multiplied by (-1)"
      ]
    },
    {
      "cell_type": "code",
      "metadata": {
        "id": "-j_0F8hzDz42"
      },
      "source": [
        "def convert_min(table):\n",
        "    table[-1,:-2] = [-1*i for i in table[-1,:-2]]\n",
        "    table[-1,-1] = -1*table[-1,-1]\n",
        "    return table"
      ],
      "execution_count": 10,
      "outputs": []
    },
    {
      "cell_type": "markdown",
      "metadata": {
        "id": "h6gvRD_ZD2YJ"
      },
      "source": [
        "generates x1,x2,...xn for the varying number of variables."
      ]
    },
    {
      "cell_type": "code",
      "metadata": {
        "id": "4l7ainbpD3ja"
      },
      "source": [
        "def gen_var(table):\n",
        "    lc = len(table[0,:])\n",
        "    lr = len(table[:,0])\n",
        "    var = lc - lr -1\n",
        "    v = []\n",
        "    for i in range(var):\n",
        "        v.append('x'+str(i+1))\n",
        "    return v"
      ],
      "execution_count": 11,
      "outputs": []
    },
    {
      "cell_type": "markdown",
      "metadata": {
        "id": "yi6vFG7FD8qT"
      },
      "source": [
        "pivots the tableau such that negative elements are purged from the last row and last column"
      ]
    },
    {
      "cell_type": "code",
      "metadata": {
        "id": "QUvmuAeJD-QI"
      },
      "source": [
        "def pivot(row,col,table):\n",
        "    # number of rows\n",
        "    lr = len(table[:,0])\n",
        "    # number of columns\n",
        "    lc = len(table[0,:])\n",
        "    t = np.zeros((lr,lc))\n",
        "    pr = table[row,:]\n",
        "    if table[row,col]**2>0: #new\n",
        "        e = 1/table[row,col]\n",
        "        r = pr*e\n",
        "        for i in range(len(table[:,col])):\n",
        "            k = table[i,:]\n",
        "            c = table[i,col]\n",
        "            if list(k) == list(pr):\n",
        "                continue\n",
        "            else:\n",
        "                t[i,:] = list(k-r*c)\n",
        "        t[row,:] = list(r)\n",
        "        return t\n",
        "    else:\n",
        "        print('Cannot pivot on this element.')"
      ],
      "execution_count": 12,
      "outputs": []
    },
    {
      "cell_type": "markdown",
      "metadata": {
        "id": "m5YHgupIEEID"
      },
      "source": [
        " checks if there is room in the matrix to add another constraint"
      ]
    },
    {
      "cell_type": "code",
      "metadata": {
        "id": "k6dRKOvDEGIr"
      },
      "source": [
        "def add_cons(table):\n",
        "    lr = len(table[:,0])\n",
        "    # want to know IF at least 2 rows of all zero elements exist\n",
        "    empty = []\n",
        "    # iterate through each row\n",
        "    for i in range(lr):\n",
        "        total = 0\n",
        "        for j in table[i,:]:\n",
        "            # use squared value so (-x) and (+x) don't cancel each other out\n",
        "            total += j**2\n",
        "        if total == 0:\n",
        "            # append zero to list ONLY if all elements in a row are zero\n",
        "            empty.append(total)\n",
        "    # There are at least 2 rows with all zero elements if the following is true\n",
        "    if len(empty)>1:\n",
        "        return True\n",
        "    else:\n",
        "        return False"
      ],
      "execution_count": 13,
      "outputs": []
    },
    {
      "cell_type": "markdown",
      "metadata": {
        "id": "EXPNu_1dEJIQ"
      },
      "source": [
        "adds a constraint to the matrix"
      ]
    },
    {
      "cell_type": "code",
      "metadata": {
        "id": "yJBRa6wZEOs4"
      },
      "source": [
        "def constrain(table,eq):\n",
        "    if add_cons(table) == True:\n",
        "        lc = len(table[0,:])\n",
        "        lr = len(table[:,0])\n",
        "        var = lc - lr -1\n",
        "        # set up counter to iterate through the total length of rows\n",
        "        j = 0\n",
        "        while j < lr:\n",
        "            # Iterate by row\n",
        "            row_check = table[j,:]\n",
        "            # total will be sum of entries in row\n",
        "            total = 0\n",
        "            # Find first row with all 0 entries\n",
        "            for i in row_check:\n",
        "                total += float(i**2)\n",
        "            if total == 0:\n",
        "                # We've found the first row with all zero entries\n",
        "                row = row_check\n",
        "                break\n",
        "            j +=1\n",
        "\n",
        "        eq = convert(eq)\n",
        "        i = 0\n",
        "        # iterate through all terms in the constraint function, excluding the last\n",
        "        while i<len(eq)-1:\n",
        "            # assign row values according to the equation\n",
        "            row[i] = eq[i]\n",
        "            i +=1\n",
        "        #row[len(eq)-1] = 1\n",
        "        row[-1] = eq[-1]\n",
        "\n",
        "        # add slack variable according to location in tableau.\n",
        "        row[var+j] = 1\n",
        "    else:\n",
        "        print('Cannot add another constraint.')"
      ],
      "execution_count": 14,
      "outputs": []
    },
    {
      "cell_type": "markdown",
      "metadata": {
        "id": "LzgRaOLvEQkT"
      },
      "source": [
        "checks to determine if an objective function can be added to the matrix"
      ]
    },
    {
      "cell_type": "code",
      "metadata": {
        "id": "DW9B-Sm6ES2p"
      },
      "source": [
        "def add_obj(table):\n",
        "    lr = len(table[:,0])\n",
        "    # want to know IF exactly one row of all zero elements exist\n",
        "    empty = []\n",
        "    # iterate through each row\n",
        "    for i in range(lr):\n",
        "        total = 0\n",
        "        for j in table[i,:]:\n",
        "            # use squared value so (-x) and (+x) don't cancel each other out\n",
        "            total += j**2\n",
        "        if total == 0:\n",
        "            # append zero to list ONLY if all elements in a row are zero\n",
        "            empty.append(total)\n",
        "    # There is exactly one row with all zero elements if the following is true\n",
        "    if len(empty)==1:\n",
        "        return True\n",
        "    else:\n",
        "        return False"
      ],
      "execution_count": 15,
      "outputs": []
    },
    {
      "cell_type": "markdown",
      "metadata": {
        "id": "9hPke34kEYfw"
      },
      "source": [
        "adds the onjective functio nto the matrix."
      ]
    },
    {
      "cell_type": "code",
      "metadata": {
        "id": "IR2uzdXdEdV3"
      },
      "source": [
        "def obj(table,eq):\n",
        "    if add_obj(table)==True:\n",
        "        eq = [float(i) for i in eq.split(',')]\n",
        "        lr = len(table[:,0])\n",
        "        row = table[lr-1,:]\n",
        "        i = 0\n",
        "    # iterate through all terms in the constraint function, excluding the last\n",
        "        while i<len(eq)-1:\n",
        "            # assign row values according to the equation\n",
        "            row[i] = eq[i]*-1\n",
        "            i +=1\n",
        "        row[-2] = 1\n",
        "        row[-1] = eq[-1]\n",
        "    else:\n",
        "        print('You must finish adding constraints before the objective function can be added.')"
      ],
      "execution_count": 16,
      "outputs": []
    },
    {
      "cell_type": "markdown",
      "metadata": {
        "id": "SDFqTyDOEj0g"
      },
      "source": [
        "solves maximization problem for optimal solution, returns dictionary w/ keys x1,x2...xn and max."
      ]
    },
    {
      "cell_type": "code",
      "metadata": {
        "id": "jcEijqKEEkdW"
      },
      "source": [
        "def maxz(table, output='summary'):\n",
        "    while next_round_r(table)==True:\n",
        "        table = pivot(loc_piv_r(table)[0],loc_piv_r(table)[1],table)\n",
        "    while next_round(table)==True:\n",
        "        table = pivot(loc_piv(table)[0],loc_piv(table)[1],table)\n",
        "\n",
        "    lc = len(table[0,:])\n",
        "    lr = len(table[:,0])\n",
        "    var = lc - lr -1\n",
        "    i = 0\n",
        "    val = {}\n",
        "    for i in range(var):\n",
        "        col = table[:,i]\n",
        "        s = sum(col)\n",
        "        m = max(col)\n",
        "        if float(s) == float(m):\n",
        "            loc = np.where(col == m)[0][0]\n",
        "            val[gen_var(table)[i]] = table[loc,-1]\n",
        "        else:\n",
        "            val[gen_var(table)[i]] = 0\n",
        "    val['max'] = table[-1,-1]\n",
        "    for k,v in val.items():\n",
        "        val[k] = round(v,6)\n",
        "    if output == 'table':\n",
        "        return table\n",
        "    else:\n",
        "        return val"
      ],
      "execution_count": 17,
      "outputs": []
    },
    {
      "cell_type": "markdown",
      "metadata": {
        "id": "EPasBx4nEr0w"
      },
      "source": [
        "solves minimization problems for optimal solution, returns dictionary w/ keys x1,x2...xn and min."
      ]
    },
    {
      "cell_type": "code",
      "metadata": {
        "id": "m_6048bHEtEf"
      },
      "source": [
        "def minz(table, output='summary'):\n",
        "    table = convert_min(table)\n",
        "\n",
        "    while next_round_r(table)==True:\n",
        "        table = pivot(loc_piv_r(table)[0],loc_piv_r(table)[1],table)\n",
        "    while next_round(table)==True:\n",
        "        table = pivot(loc_piv(table)[0],loc_piv(table)[1],table)\n",
        "\n",
        "    lc = len(table[0,:])\n",
        "    lr = len(table[:,0])\n",
        "    var = lc - lr -1\n",
        "    i = 0\n",
        "    val = {}\n",
        "    for i in range(var):\n",
        "        col = table[:,i]\n",
        "        s = sum(col)\n",
        "        m = max(col)\n",
        "        if float(s) == float(m):\n",
        "            loc = np.where(col == m)[0][0]\n",
        "            val[gen_var(table)[i]] = table[loc,-1]\n",
        "        else:\n",
        "            val[gen_var(table)[i]] = 0\n",
        "    val['min'] = table[-1,-1]*-1\n",
        "    for k,v in val.items():\n",
        "        val[k] = round(v,6)\n",
        "    if output == 'table':\n",
        "        return table\n",
        "    else:\n",
        "        return val"
      ],
      "execution_count": 18,
      "outputs": []
    },
    {
      "cell_type": "markdown",
      "metadata": {
        "id": "8W1X_X4mE_4j"
      },
      "source": [
        "Execution of the simplex method"
      ]
    },
    {
      "cell_type": "code",
      "metadata": {
        "id": "dn3AgLPCFYnd",
        "outputId": "17c8fd7d-b7d3-4904-c5c6-739bce2dd17d",
        "colab": {
          "base_uri": "https://localhost:8080/"
        }
      },
      "source": [
        "   \"\"\"\n",
        "Call functions in this order:\n",
        "    problem = gen_matrix(v,c)\n",
        "    constrain(problem, string)\n",
        "    obj(problem, string)\n",
        "    maxz(problem)\n",
        "gen_matrix() produces a matrix to be given constraints and an objective function to maximize or minimize.\n",
        "    It takes var (variable number) and cons (constraint number) as parameters.\n",
        "    gen_matrix(2,3) will create a 4x7 matrix by design.\n",
        "constrain() constrains the problem. It takes the problem as the first argument and a string as the second. The string should be\n",
        "    entered in the form of 1,2,G,10 meaning 1(x1) + 2(x2) >= 10.\n",
        "    Use 'L' for <= instead of 'G'\n",
        "Use obj() only after entering all constraints, in the form of 1,2,0 meaning 1(x1) +2(x2) +0\n",
        "    The final term is always reserved for a constant and 0 cannot be omitted.\n",
        "Use maxz() to solve a maximization LP problem. Use minz() to solve a minimization problem.\n",
        "Disclosure -- pivot() function, subcomponent of maxz() and minz(), has a couple bugs. So far, these have only occurred when\n",
        "    minz() has been called.\n",
        "\"\"\"\n",
        "m = gen_matrix(2,4)\n",
        "constrain(m,'2,4,L,40')\n",
        "constrain(m,'6,3,L,42')\n",
        "constrain(m,'1,0,G,3')\n",
        "constrain(m,'1,1,G,0')\n",
        "obj(m,'5,8,0')\n",
        "print(maxz(m))"
      ],
      "execution_count": 19,
      "outputs": [
        {
          "output_type": "stream",
          "text": [
            "{'x1': 3.0, 'x2': 8.0, 'max': 79.0}\n"
          ],
          "name": "stdout"
        }
      ]
    }
  ]
}