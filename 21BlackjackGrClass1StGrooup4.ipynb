{
  "nbformat": 4,
  "nbformat_minor": 0,
  "metadata": {
    "colab": {
      "name": "21BlackjackGrClass1StGrooup36.ipynb",
      "provenance": [],
      "collapsed_sections": []
    },
    "kernelspec": {
      "name": "python3",
      "display_name": "Python 3"
    }
  },
  "cells": [
    {
      "cell_type": "code",
      "metadata": {
        "id": "ixJzbPgkSFC_"
      },
      "source": [
        "#Importe de librerias\n",
        "import random as r\n",
        "import math\n",
        "import numpy as np\n",
        "import matplotlib.pyplot as plt"
      ],
      "execution_count": 5,
      "outputs": []
    },
    {
      "cell_type": "markdown",
      "metadata": {
        "id": "t6GEIm33WCHP"
      },
      "source": [
        "**Funciones que utilizaremos**"
      ]
    },
    {
      "cell_type": "code",
      "metadata": {
        "id": "aK-LbkALYSZN"
      },
      "source": [
        "#Suma todos los elementos de una lista\n",
        "def sumalista(listaNumeros):\n",
        "    laSuma = 0\n",
        "    for i in listaNumeros:\n",
        "        laSuma = laSuma + i\n",
        "    return laSuma"
      ],
      "execution_count": null,
      "outputs": []
    },
    {
      "cell_type": "code",
      "metadata": {
        "id": "N_4KtJ9GQGQW"
      },
      "source": [
        "#Elimina los ceros de una lista\n",
        "def cleanDeck(arr):\n",
        "  temp = []\n",
        "  for i in arr:\n",
        "    if i == 0:\n",
        "      continue\n",
        "    else:\n",
        "      temp.append(i)\n",
        "\n",
        "  return temp"
      ],
      "execution_count": 7,
      "outputs": []
    },
    {
      "cell_type": "code",
      "metadata": {
        "id": "Cph9UojpJuf3"
      },
      "source": [
        "#Creación de un arreglo especifico para los puntos 3 y 4 (saca la mitad de las cartas de un deck de manera aleatoria)\n",
        "def halfDeck(arr):\n",
        "  arr1 = np.array(arr)\n",
        "  cont = 0\n",
        "  narr1 = len(arr1)\n",
        "  #print((narr1/2)-3)\n",
        "  #llena la funcion a la mitad con 0 en posiciones aleatorias\n",
        "  while cont < (narr1/2)+3:\n",
        "    index = math.floor(r.random() * narr1)\n",
        "    if arr1[index] != 0:\n",
        "      arr1[index] = 0\n",
        "      cont += 1\n",
        "  #print(arr1)\n",
        "#Eliminacion de los 0 en la lista\n",
        "  return cleanDeck(arr1)\n"
      ],
      "execution_count": 3,
      "outputs": []
    },
    {
      "cell_type": "code",
      "metadata": {
        "id": "erem83t-ISn9",
        "outputId": "74fb7200-deb1-4b61-9b3c-63ad26db9ee7",
        "colab": {
          "base_uri": "https://localhost:8080/",
          "height": 35
        }
      },
      "source": [
        "#Prueba de lo que muestra halfDeck corregido, el mazo a la mitad menos las 3 cartas de la mano.\n",
        "mazo = halfDeck(arr48)\n",
        "print(mazo, len(mazo))"
      ],
      "execution_count": 8,
      "outputs": [
        {
          "output_type": "stream",
          "text": [
            "[3, 4, 7, 11, 12, 6, 7, 8, 9, 12, 1, 2, 6, 8, 9, 11, 12, 1, 4, 6, 9] 21\n"
          ],
          "name": "stdout"
        }
      ]
    },
    {
      "cell_type": "code",
      "metadata": {
        "id": "8guYGoEuYTJs"
      },
      "source": [
        "#Para puntos 1 y 2 (recibe un deck, el numero de iteraciones y retorna la probabilidad de hacer 21)\n",
        "def probabilidad21(arr, n):\n",
        "  deck = np.array(arr)\n",
        "  hand = []\n",
        "  casos21 = 0\n",
        "  casosTotales = 0\n",
        "  requiredCards = [0,0,0,0,0,0,0,0,0,0]\n",
        "  #for que se repite el numero de juegos con el que se va a calcular la probabilidad\n",
        "  for i in range(n):\n",
        "    while True:\n",
        "      s = math.floor(r.random() * len(deck)) \n",
        "      \n",
        "      #Revisa que la carta no haya sido sacada antes\n",
        "      if deck[s] != 0:                             \n",
        "        hand.append(deck[s])                       \n",
        "        deck[s] = 0                                \n",
        "\n",
        "    #Revisa si se tiene 21 en la mano \n",
        "      if sumalista(hand) == 21:                    \n",
        "        casos21 += 1\n",
        "        casosTotales += 1\n",
        "        deck = np.array(arr)\n",
        "        requiredCards[len(hand)-2] += 1/n\n",
        "        hand = []\n",
        "        break\n",
        "    \n",
        "    #revisa si se tiene menos de 21 en la mano\n",
        "      elif sumalista(hand) < 21:\n",
        "        continue\n",
        "      \n",
        "      #si se paso de 21 entra en este else\n",
        "      else:\n",
        "        casosTotales += 1\n",
        "        deck = np.array(arr)\n",
        "        hand = []\n",
        "        break\n",
        "  \n",
        "  #hace el plot de la probabilidad de hacer 21 con cierta cantidad de cartas\n",
        "  plt.title('required cards to get 21')\n",
        "  x = [2,3,4,5,6,7,8,9,10,11]\n",
        "  plt.bar((2,3,4,5,6,7,8,9,10,11),requiredCards,align='center') # A bar chart\n",
        "  plt.show()\n",
        "  resultado = casos21/casosTotales\n",
        "  casos21 = 0\n",
        "  casosTotales = 0\n",
        "\n",
        "  return resultado"
      ],
      "execution_count": null,
      "outputs": []
    },
    {
      "cell_type": "code",
      "metadata": {
        "id": "Afq7gTxZDpXW"
      },
      "source": [
        "#Para puntos 3 y 4 (recibe el deck, la suma que posee en la mano, la cantidad de veces que se va a repetir y un boleano que dice si el deck esta a la mitad)\n",
        "def probabilidad21Avanzada(arr, handSum, n, divideDeck):\n",
        "  #revisa si el deck esta por la mitad (en caso de que no lo divide, en otro caso continua)\n",
        "  if divideDeck:\n",
        "    deck = halfDeck(arr)\n",
        "  else:\n",
        "    deck = np.array(arr)\n",
        "  print(str(deck))\n",
        "  hand = []\n",
        "  casos21 = 0\n",
        "  casosTotales = 0\n",
        "  requiredCards = [0,0]\n",
        "\n",
        "  #for que se repite el numero de veces que se va a jugar para calcular la probabilidad\n",
        "  for i in range(n):\n",
        "    while True:\n",
        "      s = math.floor(r.random() * len(deck))\n",
        "      \n",
        "  #revisa si la carta ya fue sacada antes\n",
        "      if deck[s] != 0:                    \n",
        "        hand.append(deck[s])                       \n",
        "        deck[s] = 0               \n",
        "\n",
        "      sumaHand = sumalista(hand)\n",
        "\n",
        "\n",
        "#revisa si ya se tiene 21 en la mano\n",
        "      if sumaHand + handSum == 21:                    \n",
        "        casos21 += 1\n",
        "        casosTotales += 1\n",
        "        #reinicio de deck\n",
        "        if divideDeck:\n",
        "          deck = halfDeck(arr)\n",
        "        else:\n",
        "          deck = np.array(arr)\n",
        "        requiredCards[len(hand)-1] += 1/n\n",
        "        hand = []\n",
        "        break\n",
        "\n",
        "#revisa si se tiene menos de 21 en la mano\n",
        "      elif sumaHand + 19 < 21:\n",
        "        continue\n",
        "\n",
        "#else en el que se entra si ya se paso de 21\n",
        "      else:\n",
        "        casosTotales += 1\n",
        "        if divideDeck:\n",
        "          deck = halfDeck(arr)\n",
        "        else:\n",
        "          deck = np.array(arr)\n",
        "        hand = []\n",
        "        break\n",
        "  \n",
        "#hace el plot de la probabilidad de hacer 21 con cierta cantidad de cartas\n",
        "  plt.title('required cards to get 21')\n",
        "  plt.bar((4, 5),requiredCards,align='center') # A bar chart\n",
        "  plt.show()\n",
        "  resultado = casos21/casosTotales\n",
        "  casos21 = 0\n",
        "  casosTotales = 0\n",
        "\n",
        "  return resultado"
      ],
      "execution_count": null,
      "outputs": []
    },
    {
      "cell_type": "code",
      "metadata": {
        "id": "Fn-LmqyjqK30"
      },
      "source": [
        "#Para punto 5\n",
        "#Recibe el Deck con el que se va a jugar (es decir espanol o de poker), recibe el valor de dinero que ben apostara con un hot deck, recibe el valor de dinero que ben apostara con un cold deck y\n",
        "#por ultimo recibe el numero de veces que Ben va a jugar. La funcion retorna las ganancias totales de Ben en ese numero de juegos\n",
        "def benBlackJack(coldArr, winHot, winCold, n):\n",
        "  hotDeck = [1,1,1,1,2,2,2,2,3,3]\n",
        "\n",
        "  casos21Hot = 0\n",
        "  casos21Cold = 0\n",
        "  casosTotalesHot = 0\n",
        "  casosTotalesCold = 0\n",
        "  requiredCards = [0,0,0,0,0,0,0,0,0,0]\n",
        "  hand = []\n",
        "  hot = False\n",
        "\n",
        "#for que se repite el numero de veces que se va a jugar para calcular la probabilidad\n",
        "  for i in range(n):\n",
        "    #se genera la probabilidad de 1 a 10 de que sea un juego con hot deck\n",
        "    deckProb = math.floor(r.random() * 10)\n",
        "    if deckProb == 1:\n",
        "      hot = True\n",
        "      deck = np.array(hotDeck)\n",
        "    else:\n",
        "      hot = False\n",
        "      deck = np.array(coldArr)\n",
        "    \n",
        "    while True:\n",
        "      s = math.floor(r.random() * len(deck))\n",
        "      if deck[s] != 0:\n",
        "        # print(\"agregue a la mano la carta: \"+ str(deck[s]))                      \n",
        "        hand.append(deck[s])                       \n",
        "        deck[s] = 0               \n",
        "\n",
        "      sumaHand = sumalista(hand)\n",
        "        # print(\"la suma de la mano es: \" + str(sumalista(hand1)))\n",
        "     #Caso en el que se juega con Hot Deck uwu\n",
        "      if hot:\n",
        "        #revisa si se tiene 21 en la mano\n",
        "        if sumaHand + 19 == 21:                  \n",
        "          casos21Hot += 1\n",
        "          casosTotalesHot += 1\n",
        "          requiredCards[len(hand)+1] += 1/n\n",
        "          # print(\"la carta a agregar a requiredCards es: \" + str(len(hand)-1))\n",
        "          hand = []\n",
        "          # print(\"la mano en este momento de 21 es: \" + str(hand1))\n",
        "          break\n",
        "        #revisa si se tiene menos de 21\n",
        "        elif sumaHand + 19 < 21:\n",
        "          continue\n",
        "        #revisa si ya se paso de 21\n",
        "        else:\n",
        "          casosTotalesHot += 1\n",
        "          hand = []\n",
        "          break\n",
        "      #Caso cuando se juega con Cold Deck\n",
        "      else:\n",
        "          #revisa si se tiene 21 en la man0\n",
        "        if sumaHand== 21: \n",
        "          casos21Cold += 1\n",
        "          casosTotalesCold += 1\n",
        "          requiredCards[len(hand)-2] += 1/n\n",
        "          # print(\"la carta a agregar a requiredCards es: \" + str(len(hand)-1))\n",
        "          hand = []\n",
        "          # print(\"la mano en este momento de 21 es: \" + str(hand1))\n",
        "          break\n",
        "        #revisa si se tiene menos de 21 en la mano\n",
        "        elif sumaHand < 21:\n",
        "          continue\n",
        "        #else para cuando ya se paso de 21\n",
        "        else:\n",
        "          casosTotalesCold += 1\n",
        "          hand = []\n",
        "          break\n",
        "\n",
        "#hace el plot de la probabilidad de hacer 21 con cierta cantidad de cartas\n",
        "  plt.title('required cards to get 21')\n",
        "  plt.bar((2,3,4,5,6,7,8,9,10,11),requiredCards,align='center') # A bar chart\n",
        "  plt.show()\n",
        "  print(\"Dinero ganado en casos hot: \" + str(casos21Hot *winHot))\n",
        "  print(\"Dinero ganado en casos cold: \" + str(casos21Cold*winCold))\n",
        "  print(\"Dinero perdido en casos hot: \" + str((casosTotalesHot - casos21Hot)*winHot))\n",
        "  print(\"Dinero perdido en casos cold: \" + str((casosTotalesCold-casos21Cold)*winCold))\n",
        "  resultado = (casos21Hot * winHot + casos21Cold * winCold) - ((casosTotalesHot - casos21Hot) * winHot  + ((casosTotalesCold-casos21Cold) * winCold))\n",
        "\n",
        "  return resultado"
      ],
      "execution_count": null,
      "outputs": []
    },
    {
      "cell_type": "markdown",
      "metadata": {
        "id": "Zyb_27fmzPlW"
      },
      "source": [
        "**PUNTO 1**"
      ]
    },
    {
      "cell_type": "code",
      "metadata": {
        "id": "jKgrsbe8zkdZ"
      },
      "source": [
        "arr48 = [1,2,3,4,5,6,7,8,9,10,11,12,1,2,3,4,5,6,7,8,9,10,11,12,1,2,3,4,5,6,7,8,9,10,11,12,1,2,3,4,5,6,7,8,9,10,11,12]"
      ],
      "execution_count": 1,
      "outputs": []
    },
    {
      "cell_type": "code",
      "metadata": {
        "id": "2X__y2XuiyJb",
        "outputId": "7b836ea5-098f-4448-a95c-94c447fe51a9",
        "colab": {
          "base_uri": "https://localhost:8080/",
          "height": 331
        }
      },
      "source": [
        "print(\"Probabilidad de victoria con un deck espanol: \\n\")\n",
        "print(\"El resultado es de: \", probabilidad21(arr48, 10000000))"
      ],
      "execution_count": null,
      "outputs": [
        {
          "output_type": "stream",
          "text": [
            "Probabilidad de victoria con un deck espanol: \n",
            "\n"
          ],
          "name": "stdout"
        },
        {
          "output_type": "display_data",
          "data": {
            "image/png": "[encoded data removed]",
            "text/plain": [
              "<Figure size 432x288 with 1 Axes>"
            ]
          },
          "metadata": {
            "tags": [],
            "needs_background": "light"
          }
        },
        {
          "output_type": "stream",
          "text": [
            "El resultado es de:  0.1576623\n"
          ],
          "name": "stdout"
        }
      ]
    },
    {
      "cell_type": "code",
      "metadata": {
        "id": "qv0ruc9O1Teh"
      },
      "source": [
        "arr52 = [1,2,3,4,5,6,7,8,9,10,11,12,13,1,2,3,4,5,6,7,8,9,10,11,12,13,1,2,3,4,5,6,7,8,9,10,11,12,13,1,2,3,4,5,6,7,8,9,10,11,12,13]"
      ],
      "execution_count": null,
      "outputs": []
    },
    {
      "cell_type": "code",
      "metadata": {
        "id": "cqvI2dI31Xp7",
        "outputId": "c9b8f6a0-94b3-489e-e1d0-900283f8a9ce",
        "colab": {
          "base_uri": "https://localhost:8080/",
          "height": 331
        }
      },
      "source": [
        "print(\"Probabilidad de victoria con un deck de poker: \\n\")\n",
        "print(\"El resultado es de: \", probabilidad21(arr52, 10000000))"
      ],
      "execution_count": null,
      "outputs": [
        {
          "output_type": "stream",
          "text": [
            "Probabilidad de victoria con un deck de poker: \n",
            "\n"
          ],
          "name": "stdout"
        },
        {
          "output_type": "display_data",
          "data": {
            "image/png": "[encoded data removed]",
            "text/plain": [
              "<Figure size 432x288 with 1 Axes>"
            ]
          },
          "metadata": {
            "tags": [],
            "needs_background": "light"
          }
        },
        {
          "output_type": "stream",
          "text": [
            "El resultado es de:  0.1448259\n"
          ],
          "name": "stdout"
        }
      ]
    },
    {
      "cell_type": "markdown",
      "metadata": {
        "id": "dreHAxNH-ita"
      },
      "source": [
        "**Punto 2**"
      ]
    },
    {
      "cell_type": "code",
      "metadata": {
        "id": "3FUruQkG-nU3"
      },
      "source": [
        "arr48mod = [1,2,3,4,5,6,7,8,9,10,10,10,1,2,3,4,5,6,7,8,9,10,10,10,1,2,3,4,5,6,7,8,9,10,10,10,1,2,3,4,5,6,7,8,9,10,10,10] "
      ],
      "execution_count": null,
      "outputs": []
    },
    {
      "cell_type": "code",
      "metadata": {
        "id": "iuMMXIIa_fQj",
        "outputId": "7b02389f-ee9f-4615-cdbc-1bb5f5df4c4b",
        "colab": {
          "base_uri": "https://localhost:8080/",
          "height": 331
        }
      },
      "source": [
        "print(\"Probabilidad de victoria con un deck espanol con rey, sota y caballo valiendo 10: \\n\")\n",
        "print(\"El resultado es de: \", probabilidad21(arr48mod, 10000000))"
      ],
      "execution_count": null,
      "outputs": [
        {
          "output_type": "stream",
          "text": [
            "Probabilidad de victoria con un deck espanol con rey, sota y caballo valiendo 10: \n",
            "\n"
          ],
          "name": "stdout"
        },
        {
          "output_type": "display_data",
          "data": {
            "image/png": "[encoded data removed]",
            "text/plain": [
              "<Figure size 432x288 with 1 Axes>"
            ]
          },
          "metadata": {
            "tags": [],
            "needs_background": "light"
          }
        },
        {
          "output_type": "stream",
          "text": [
            "El resultado es de:  0.1496848\n"
          ],
          "name": "stdout"
        }
      ]
    },
    {
      "cell_type": "code",
      "metadata": {
        "id": "rDvynTDS_rGQ"
      },
      "source": [
        "arr52poker = [1,2,3,4,5,6,7,8,9,10,10,10,10,1,2,3,4,5,6,7,8,9,10,10,10,10,1,2,3,4,5,6,7,8,9,10,10,10,10,1,2,3,4,5,6,7,8,9,10,10,10,10]"
      ],
      "execution_count": null,
      "outputs": []
    },
    {
      "cell_type": "code",
      "metadata": {
        "id": "qDXpVHuz_y7P",
        "outputId": "1953933d-5eab-414a-cc94-cfa4a12075f5",
        "colab": {
          "base_uri": "https://localhost:8080/",
          "height": 331
        }
      },
      "source": [
        "print(\"Probabilidad de victoria con un deck poker con J,Q y K valiendo 10l: \\n\")\n",
        "print(\"El resultado es de: \", probabilidad21(arr52poker, 10000000))"
      ],
      "execution_count": null,
      "outputs": [
        {
          "output_type": "stream",
          "text": [
            "Probabilidad de victoria con un deck poker con J,Q y K valiendo 10l: \n",
            "\n"
          ],
          "name": "stdout"
        },
        {
          "output_type": "display_data",
          "data": {
            "image/png": "[encoded data removed]",
            "text/plain": [
              "<Figure size 432x288 with 1 Axes>"
            ]
          },
          "metadata": {
            "tags": [],
            "needs_background": "light"
          }
        },
        {
          "output_type": "stream",
          "text": [
            "El resultado es de:  0.1400354\n"
          ],
          "name": "stdout"
        }
      ]
    },
    {
      "cell_type": "markdown",
      "metadata": {
        "id": "BgWgPWmJAkV_"
      },
      "source": [
        "**Punto 3**"
      ]
    },
    {
      "cell_type": "code",
      "metadata": {
        "id": "a1e8hlSUAjvu"
      },
      "source": [
        "#De este arreglo ya se quitaron las cartas 7, 7 y 5 como se pide en el punto\n",
        "arr48Modified = [1,2,3,4,5,6,0,10,11,12,1,2,3,4,5,6,0,8,9,10,11,12,1,2,3,4,0,6,7,8,9,10,11,12,1,2,3,4,5,6,7,8,9,10,11,12]"
      ],
      "execution_count": null,
      "outputs": []
    },
    {
      "cell_type": "code",
      "metadata": {
        "id": "UgOpRvX-1zX_",
        "outputId": "64cde819-873e-45d7-af63-fbcd748ee90a",
        "colab": {
          "base_uri": "https://localhost:8080/",
          "height": 348
        }
      },
      "source": [
        "print(\"Probabilidad de victoria con un deck espanol con 7, 7, 5 en la mano y con el deck a la mitad aleatoriamente: \\n\")\n",
        "print(\"El resultado es de: \", probabilidad21Avanzada(arr48Modified, 19, 10000000, True))"
      ],
      "execution_count": null,
      "outputs": [
        {
          "output_type": "stream",
          "text": [
            "Probabilidad de victoria con un deck espanol con 7, 7, 5 en la mano y con el deck a la mitad aleatoriamente: \n",
            "\n",
            "[3, 5, 6, 10, 11, 1, 5, 8, 11, 1, 7, 8, 11, 12, 3, 4, 5]\n"
          ],
          "name": "stdout"
        },
        {
          "output_type": "display_data",
          "data": {
            "image/png": "[encoded data removed]",
            "text/plain": [
              "<Figure size 432x288 with 1 Axes>"
            ]
          },
          "metadata": {
            "tags": [],
            "needs_background": "light"
          }
        },
        {
          "output_type": "stream",
          "text": [
            "El resultado es de:  0.099669\n"
          ],
          "name": "stdout"
        }
      ]
    },
    {
      "cell_type": "code",
      "metadata": {
        "id": "xfMweCBBkzgV"
      },
      "source": [
        "#De este arreglo ya se quitaron las cartas 7, 7 y 5 como se pide en el punto\n",
        "arr52Modified = [1,2,3,4,5,6,0,8,9,10,10,10,10,1,2,3,4,5,6,0,8,9,10,10,10,10,1,2,3,4,0,6,7,8,9,10,10,10,10,1,2,3,4,5,6,7,8,9,10,10,10,10]"
      ],
      "execution_count": null,
      "outputs": []
    },
    {
      "cell_type": "code",
      "metadata": {
        "id": "l98FdNn1k0fB",
        "outputId": "0f3e4d27-c311-4fac-e619-9b5da47f851d",
        "colab": {
          "base_uri": "https://localhost:8080/",
          "height": 348
        }
      },
      "source": [
        "print(\"Probabilidad de victoria con un deck de poker con 7, 7, 5 en la mano y con el deck a la mitad aleatoriamente: \\n\")\n",
        "print(\"El resultado es de: \", probabilidad21Avanzada(arr52Modified, 19, 10000000, True))"
      ],
      "execution_count": null,
      "outputs": [
        {
          "output_type": "stream",
          "text": [
            "Probabilidad de victoria con un deck de poker con 7, 7, 5 en la mano y con el deck a la mitad aleatoriamente: \n",
            "\n",
            "[2, 5, 8, 10, 2, 4, 5, 8, 9, 10, 2, 6, 7, 10, 2, 3, 4, 7, 10, 10]\n"
          ],
          "name": "stdout"
        },
        {
          "output_type": "display_data",
          "data": {
            "image/png": "[encoded data removed]",
            "text/plain": [
              "<Figure size 432x288 with 1 Axes>"
            ]
          },
          "metadata": {
            "tags": [],
            "needs_background": "light"
          }
        },
        {
          "output_type": "stream",
          "text": [
            "El resultado es de:  0.0868231\n"
          ],
          "name": "stdout"
        }
      ]
    },
    {
      "cell_type": "markdown",
      "metadata": {
        "id": "RZh_0JfrZQmt"
      },
      "source": [
        "# Punto 4\n",
        "\n",
        "\n",
        "Probabilidad Analitica de un hot deck con 12 cartas es 4/12 + (4/12 * 3/11) = 42% aproximadamente\n",
        "\n",
        "Probabilidad Analitica de un hot deck con 10 cartas es 4/10 + (4/10 * 3/9) = 53% aproximadamente\n",
        "\n",
        "Probabilidad Analitica de un cold deck con 12 cartas es (4/12 * 3/11) = 1.5% aproximadamente\n",
        "\n",
        "Probabilidad Analitica de un cold deck con 10 cartas es (4/10 * 3/9) = 2.2% aproximadamente"
      ]
    },
    {
      "cell_type": "code",
      "metadata": {
        "id": "l3j_qRM7ZXm7"
      },
      "source": [
        "#declaraciones de decks a usar en el punto 4\n",
        "hotDeck48_12 = [1,1,1,1,2,2,2,2,3,3,4,11]\n",
        "hotDeck48_10 = [1,2,1,2,1,2,1,2,10,4]\n",
        "coldDeck48_12 = [1,1,12,4,7,7,9,8,3,3,4,11]\n",
        "coldDeck48_10 = [1,1,12,4,7,7,9,8,3,3]\n",
        "hotDeck52_12 = [1,1,1,1,2,2,2,2,10,6,9,4]\n",
        "hotDeck52_10 = [1,1,1,1,2,2,2,2,6,9]\n",
        "coldDeck52_12 = [1,1,10,6,9,4,6,8,4,3,5,7]\n",
        "coldDeck52_10 = [1,1,10,6,9,4,6,8,4,3]"
      ],
      "execution_count": null,
      "outputs": []
    },
    {
      "cell_type": "code",
      "metadata": {
        "id": "3i1U4avQb5te",
        "outputId": "61c062d1-f17f-44bb-8098-d387f5fb536b",
        "colab": {
          "base_uri": "https://localhost:8080/",
          "height": 348
        }
      },
      "source": [
        "print(\"Probabilidad de victoria con un Hot deck espanol de 12 cartas: \\n\")\n",
        "print(\"El resultado es de: \", probabilidad21Avanzada(hotDeck48_12, 19, 10000000, False))"
      ],
      "execution_count": null,
      "outputs": [
        {
          "output_type": "stream",
          "text": [
            "Probabilidad de victoria con un Hot deck espanol de 12 cartas: \n",
            "\n",
            "[ 1  1  1  1  2  2  2  2  3  3  4 11]\n"
          ],
          "name": "stdout"
        },
        {
          "output_type": "display_data",
          "data": {
            "image/png": "[encoded data removed]",
            "text/plain": [
              "<Figure size 432x288 with 1 Axes>"
            ]
          },
          "metadata": {
            "tags": [],
            "needs_background": "light"
          }
        },
        {
          "output_type": "stream",
          "text": [
            "El resultado es de:  0.4238274\n"
          ],
          "name": "stdout"
        }
      ]
    },
    {
      "cell_type": "code",
      "metadata": {
        "id": "mafaQogTm_Xh",
        "outputId": "4c3b68a3-6d7c-4b38-bb34-41e267fa53fe",
        "colab": {
          "base_uri": "https://localhost:8080/",
          "height": 348
        }
      },
      "source": [
        "print(\"Probabilidad de victoria con un Hot deck espanol de 10 cartas: \\n\")\n",
        "print(\"El resultado es de: \", probabilidad21Avanzada(hotDeck48_10, 19, 10000000, False))"
      ],
      "execution_count": null,
      "outputs": [
        {
          "output_type": "stream",
          "text": [
            "Probabilidad de victoria con un Hot deck espanol de 10 cartas: \n",
            "\n",
            "[ 1  2  1  2  1  2  1  2 10  4]\n"
          ],
          "name": "stdout"
        },
        {
          "output_type": "display_data",
          "data": {
            "image/png": "[encoded data removed]",
            "text/plain": [
              "<Figure size 432x288 with 1 Axes>"
            ]
          },
          "metadata": {
            "tags": [],
            "needs_background": "light"
          }
        },
        {
          "output_type": "stream",
          "text": [
            "El resultado es de:  0.533654\n"
          ],
          "name": "stdout"
        }
      ]
    },
    {
      "cell_type": "code",
      "metadata": {
        "id": "vaYNj4z8nDgo",
        "outputId": "98cc6196-e7ba-4679-d774-3a9414518eb0",
        "colab": {
          "base_uri": "https://localhost:8080/",
          "height": 348
        }
      },
      "source": [
        "print(\"Probabilidad de victoria con un Cold deck espanol de 12 cartas: \\n\")\n",
        "print(\"El resultado es de: \", probabilidad21Avanzada(coldDeck48_12, 19, 10000000, False))"
      ],
      "execution_count": null,
      "outputs": [
        {
          "output_type": "stream",
          "text": [
            "Probabilidad de victoria con un Cold deck espanol de 12 cartas: \n",
            "\n",
            "[ 1  1 12  4  7  7  9  8  3  3  4 11]\n"
          ],
          "name": "stdout"
        },
        {
          "output_type": "display_data",
          "data": {
            "image/png": "[encoded data removed]",
            "text/plain": [
              "<Figure size 432x288 with 1 Axes>"
            ]
          },
          "metadata": {
            "tags": [],
            "needs_background": "light"
          }
        },
        {
          "output_type": "stream",
          "text": [
            "El resultado es de:  0.015074\n"
          ],
          "name": "stdout"
        }
      ]
    },
    {
      "cell_type": "code",
      "metadata": {
        "id": "HEnjQL0FnD0e",
        "outputId": "e6375751-c334-465e-be97-127d058cbfa8",
        "colab": {
          "base_uri": "https://localhost:8080/",
          "height": 348
        }
      },
      "source": [
        "print(\"Probabilidad de victoria con un Cold deck espanol de 12 cartas: \\n\")\n",
        "print(\"El resultado es de: \", probabilidad21Avanzada(coldDeck48_10, 19, 10000000, False))"
      ],
      "execution_count": null,
      "outputs": [
        {
          "output_type": "stream",
          "text": [
            "Probabilidad de victoria con un Cold deck espanol de 12 cartas: \n",
            "\n",
            "[ 1  1 12  4  7  7  9  8  3  3]\n"
          ],
          "name": "stdout"
        },
        {
          "output_type": "display_data",
          "data": {
            "image/png": "[encoded data removed]",
            "text/plain": [
              "<Figure size 432x288 with 1 Axes>"
            ]
          },
          "metadata": {
            "tags": [],
            "needs_background": "light"
          }
        },
        {
          "output_type": "stream",
          "text": [
            "El resultado es de:  0.0222953\n"
          ],
          "name": "stdout"
        }
      ]
    },
    {
      "cell_type": "code",
      "metadata": {
        "id": "aPgMKe7nnEAB",
        "outputId": "d7ae0e3b-9d9f-4ba9-f40a-e493b6e68d49",
        "colab": {
          "base_uri": "https://localhost:8080/",
          "height": 348
        }
      },
      "source": [
        "print(\"Probabilidad de victoria con un Hot deck de poker de 12 cartas: \\n\")\n",
        "print(\"El resultado es de: \", probabilidad21Avanzada(hotDeck52_12, 19, 10000000, False))"
      ],
      "execution_count": null,
      "outputs": [
        {
          "output_type": "stream",
          "text": [
            "Probabilidad de victoria con un Hot deck de poker de 12 cartas: \n",
            "\n",
            "[ 1  1  1  1  2  2  2  2 10  6  9  4]\n"
          ],
          "name": "stdout"
        },
        {
          "output_type": "display_data",
          "data": {
            "image/png": "[encoded data removed]",
            "text/plain": [
              "<Figure size 432x288 with 1 Axes>"
            ]
          },
          "metadata": {
            "tags": [],
            "needs_background": "light"
          }
        },
        {
          "output_type": "stream",
          "text": [
            "El resultado es de:  0.4242862\n"
          ],
          "name": "stdout"
        }
      ]
    },
    {
      "cell_type": "code",
      "metadata": {
        "id": "_aiyP2F0nEPB",
        "outputId": "8e9f1a1b-3b81-4cec-819d-3b57b84b74fe",
        "colab": {
          "base_uri": "https://localhost:8080/",
          "height": 348
        }
      },
      "source": [
        "print(\"Probabilidad de victoria con un Hot deck de poker de 10 cartas: \\n\")\n",
        "print(\"El resultado es de: \", probabilidad21Avanzada(hotDeck52_10, 19, 10000000, False))"
      ],
      "execution_count": null,
      "outputs": [
        {
          "output_type": "stream",
          "text": [
            "Probabilidad de victoria con un Hot deck de poker de 10 cartas: \n",
            "\n",
            "[1 1 1 1 2 2 2 2 6 9]\n"
          ],
          "name": "stdout"
        },
        {
          "output_type": "display_data",
          "data": {
            "image/png": "[encoded data removed]",
            "text/plain": [
              "<Figure size 432x288 with 1 Axes>"
            ]
          },
          "metadata": {
            "tags": [],
            "needs_background": "light"
          }
        },
        {
          "output_type": "stream",
          "text": [
            "El resultado es de:  0.5334069\n"
          ],
          "name": "stdout"
        }
      ]
    },
    {
      "cell_type": "code",
      "metadata": {
        "id": "hhhKOEvenEYG",
        "outputId": "cfc0d3ae-a80c-4ceb-e66e-394c262c4dea",
        "colab": {
          "base_uri": "https://localhost:8080/",
          "height": 348
        }
      },
      "source": [
        "print(\"Probabilidad de victoria con un Cold deck de poker de 12 cartas: \\n\")\n",
        "print(\"El resultado es de: \", probabilidad21Avanzada(coldDeck52_12, 19, 10000000, False))"
      ],
      "execution_count": null,
      "outputs": [
        {
          "output_type": "stream",
          "text": [
            "Probabilidad de victoria con un Cold deck de poker de 12 cartas: \n",
            "\n",
            "[ 1  1 10  6  9  4  6  8  4  3  5  7]\n"
          ],
          "name": "stdout"
        },
        {
          "output_type": "display_data",
          "data": {
            "image/png": "[encoded data removed]",
            "text/plain": [
              "<Figure size 432x288 with 1 Axes>"
            ]
          },
          "metadata": {
            "tags": [],
            "needs_background": "light"
          }
        },
        {
          "output_type": "stream",
          "text": [
            "El resultado es de:  0.0152136\n"
          ],
          "name": "stdout"
        }
      ]
    },
    {
      "cell_type": "code",
      "metadata": {
        "id": "O1gUSpACnEgF",
        "outputId": "0b6bacd2-c2ac-4dfe-f62c-9b611c158fef",
        "colab": {
          "base_uri": "https://localhost:8080/",
          "height": 348
        }
      },
      "source": [
        "print(\"Probabilidad de victoria con un Cold deck de poker de 10 cartas: \\n\")\n",
        "print(\"El resultado es de: \", probabilidad21Avanzada(coldDeck52_10, 19, 10000000, False))"
      ],
      "execution_count": null,
      "outputs": [
        {
          "output_type": "stream",
          "text": [
            "Probabilidad de victoria con un Cold deck de poker de 10 cartas: \n",
            "\n",
            "[ 1  1 10  6  9  4  6  8  4  3]\n"
          ],
          "name": "stdout"
        },
        {
          "output_type": "display_data",
          "data": {
            "image/png": "[encoded data removed]",
            "text/plain": [
              "<Figure size 432x288 with 1 Axes>"
            ]
          },
          "metadata": {
            "tags": [],
            "needs_background": "light"
          }
        },
        {
          "output_type": "stream",
          "text": [
            "El resultado es de:  0.0222262\n"
          ],
          "name": "stdout"
        }
      ]
    },
    {
      "cell_type": "markdown",
      "metadata": {
        "id": "EqvlyE4HoQXt"
      },
      "source": [
        "# Punto 5\n",
        "\n",
        "Ben juega 3 días a la semana, y juega 10 horas cada día.\n",
        "Cada juego de Blackjack dura 3 minutos, por lo tanto:\n",
        "\n",
        "10 * 3 * 60 = 1800 minutos\n",
        "\n",
        "1800 / 3 = 600 juegos totales.\n",
        "\n"
      ]
    },
    {
      "cell_type": "code",
      "metadata": {
        "id": "KqovQsTTD5CN",
        "outputId": "4616c0d4-a6a4-401f-a4a4-aa9312955d77",
        "colab": {
          "base_uri": "https://localhost:8080/",
          "height": 729
        }
      },
      "source": [
        "value1 = benBlackJack(arr48, 1000, 10, 600)\n",
        "print(\"Dinero esperado en un fin de semana con el mazo espanol: \" + str(value1))\n",
        "value2 = benBlackJack(arr52, 1000, 10, 600)\n",
        "print(\"Dinero esperado en un fin de semana con el mazo de poker: \" + str(value2))"
      ],
      "execution_count": null,
      "outputs": [
        {
          "output_type": "display_data",
          "data": {
            "image/png": "[encoded data removed]",
            "text/plain": [
              "<Figure size 432x288 with 1 Axes>"
            ]
          },
          "metadata": {
            "tags": [],
            "needs_background": "light"
          }
        },
        {
          "output_type": "stream",
          "text": [
            "Dinero ganado en casos hot: 30000\n",
            "Dinero ganado en casos cold: 880\n",
            "Dinero perdido en casos hot: 25000\n",
            "Dinero perdido en casos cold: 4570\n",
            "Dinero esperado en un fin de semana con el mazo espanol: 1310\n"
          ],
          "name": "stdout"
        },
        {
          "output_type": "display_data",
          "data": {
            "image/png": "[encoded data removed]",
            "text/plain": [
              "<Figure size 432x288 with 1 Axes>"
            ]
          },
          "metadata": {
            "tags": [],
            "needs_background": "light"
          }
        },
        {
          "output_type": "stream",
          "text": [
            "Dinero ganado en casos hot: 31000\n",
            "Dinero ganado en casos cold: 930\n",
            "Dinero perdido en casos hot: 25000\n",
            "Dinero perdido en casos cold: 4510\n",
            "Dinero esperado en un fin de semana con el mazo de poker: 2420\n"
          ],
          "name": "stdout"
        }
      ]
    },
    {
      "cell_type": "code",
      "metadata": {
        "id": "fQP6EgVFvxNs",
        "outputId": "7e1d1674-08e4-4885-b399-18c534a27ec5",
        "colab": {
          "base_uri": "https://localhost:8080/",
          "height": 713
        }
      },
      "source": [
        "#como la funcion retorna las ganancias de ben la dividimos en el numero de fines de semanas al final para que nos de un promedio\n",
        "value1 = benBlackJack(arr48, 1000, 10, 600*10000)/10000\n",
        "print(\"Dinero esperado en un fin de semana con el mazo espanol: \" + str(value1))\n",
        "\n",
        "#como la funcion retorna las ganancias de ben la dividimos en el numero de fines de semanas al final para que nos de un promedio\n",
        "value2 = benBlackJack(arr52, 1000, 10, 600*10000)/10000\n",
        "print(\"Dinero esperado en un fin de semana con el mazo de poker: \" + str(value2))"
      ],
      "execution_count": null,
      "outputs": [
        {
          "output_type": "display_data",
          "data": {
            "image/png": "[encoded data removed]",
            "text/plain": [
              "<Figure size 432x288 with 1 Axes>"
            ]
          },
          "metadata": {
            "tags": [],
            "needs_background": "light"
          }
        },
        {
          "output_type": "stream",
          "text": [
            "Dinero ganado en casos hot: 25000\n",
            "Dinero ganado en casos cold: 900\n",
            "Dinero perdido en casos hot: 22000\n",
            "Dinero perdido en casos cold: 4630\n",
            "Dinero esperado en un fin de semana con el mazo espanol: -730\n"
          ],
          "name": "stdout"
        },
        {
          "output_type": "display_data",
          "data": {
            "image/png": "[encoded data removed]",
            "text/plain": [
              "<Figure size 432x288 with 1 Axes>"
            ]
          },
          "metadata": {
            "tags": [],
            "needs_background": "light"
          }
        },
        {
          "output_type": "stream",
          "text": [
            "Dinero ganado en casos hot: 30000\n",
            "Dinero ganado en casos cold: 770\n",
            "Dinero perdido en casos hot: 22000\n",
            "Dinero perdido en casos cold: 4710\n",
            "Dinero esperado en un fin de semana con el mazo de poker: 4060\n"
          ],
          "name": "stdout"
        }
      ]
    },
    {
      "cell_type": "code",
      "metadata": {
        "id": "VAQrYQxMy-Wz",
        "outputId": "f4abe682-9481-4eb8-e5cf-eb0fd329d491",
        "colab": {
          "base_uri": "https://localhost:8080/",
          "height": 729
        }
      },
      "source": [
        "#como la funcion retorna las ganancias de ben la dividimos en el numero de fines de semanas al final para que nos de un promedio\n",
        "value1 = benBlackJack(arr48, 1000, 10, 600*1000000)/1000000\n",
        "print(\"Dinero esperado en un fin de semana con el mazo espanol: \" + str(value1))\n",
        "\n",
        "#como la funcion retorna las ganancias de ben la dividimos en el numero de fines de semanas al final para que nos de un promedio\n",
        "value2 = benBlackJack(arr52, 1000, 10, 600*1000000)/1000000\n",
        "print(\"Dinero esperado en un fin de semana con el mazo de poker: \" + str(value2))"
      ],
      "execution_count": null,
      "outputs": [
        {
          "output_type": "display_data",
          "data": {
            "image/png": "[encoded data removed]",
            "text/plain": [
              "<Figure size 432x288 with 1 Axes>"
            ]
          },
          "metadata": {
            "tags": [],
            "needs_background": "light"
          }
        },
        {
          "output_type": "stream",
          "text": [
            "Dinero ganado en casos hot: 31997260000\n",
            "Dinero ganado en casos cold: 856798910\n",
            "Dinero perdido en casos hot: 27993967000\n",
            "Dinero perdido en casos cold: 4543288820\n",
            "Dinero esperado en un fin de semana con el mazo espanol: 316.80309\n"
          ],
          "name": "stdout"
        },
        {
          "output_type": "display_data",
          "data": {
            "image/png": "[encoded data removed]",
            "text/plain": [
              "<Figure size 432x288 with 1 Axes>"
            ]
          },
          "metadata": {
            "tags": [],
            "needs_background": "light"
          }
        },
        {
          "output_type": "stream",
          "text": [
            "Dinero ganado en casos hot: 32003557000\n",
            "Dinero ganado en casos cold: 781486260\n",
            "Dinero perdido en casos hot: 28004461000\n",
            "Dinero perdido en casos cold: 4618433560\n",
            "Dinero esperado en un fin de semana con el mazo de poker: 162.1487\n"
          ],
          "name": "stdout"
        }
      ]
    }
  ]
}